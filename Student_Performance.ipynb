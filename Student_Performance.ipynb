{
  "nbformat": 4,
  "nbformat_minor": 0,
  "metadata": {
    "colab": {
      "name": "Student-Performance.ipynb",
      "provenance": [],
      "mount_file_id": "1YrPpiDvSz2yWDIP3fX8D6XN4Pmp8B596",
      "authorship_tag": "ABX9TyOy6qyMQG8EnVUi16o6kigd",
      "include_colab_link": true
    },
    "kernelspec": {
      "name": "python3",
      "display_name": "Python 3"
    },
    "language_info": {
      "name": "python"
    }
  },
  "cells": [
    {
      "cell_type": "markdown",
      "metadata": {
        "id": "view-in-github",
        "colab_type": "text"
      },
      "source": [
        "<a href=\"https://colab.research.google.com/github/so-dipe/Data-Science-and-Machine-Learning-Projects/blob/main/Student_Performance.ipynb\" target=\"_parent\"><img src=\"https://colab.research.google.com/assets/colab-badge.svg\" alt=\"Open In Colab\"/></a>"
      ]
    },
    {
      "cell_type": "code",
      "source": [
        "import warnings\n",
        "\n",
        "import pandas as pd\n",
        "from sklearn import preprocessing\n",
        "from sklearn.ensemble import RandomForestClassifier\n",
        "from sklearn.model_selection import train_test_split\n",
        "from sklearn.neighbors import KNeighborsClassifier\n",
        "from sklearn import metrics\n",
        "import numpy as np\n",
        "import matplotlib.pyplot as plt\n",
        "from category_encoders import OneHotEncoder\n",
        "from sklearn.linear_model import LinearRegression\n",
        "\n",
        "import seaborn as sns\n",
        "\n",
        "warnings.filterwarnings('ignore')"
      ],
      "metadata": {
        "colab": {
          "base_uri": "https://localhost:8080/"
        },
        "id": "7wTDz5m_ku_a",
        "outputId": "ae1eb4d5-f031-427c-b2df-cd9abe848bcd"
      },
      "execution_count": 4,
      "outputs": [
        {
          "output_type": "stream",
          "name": "stderr",
          "text": [
            "/usr/local/lib/python3.7/dist-packages/statsmodels/tools/_testing.py:19: FutureWarning: pandas.util.testing is deprecated. Use the functions in the public API at pandas.testing instead.\n",
            "  import pandas.util.testing as tm\n"
          ]
        }
      ]
    },
    {
      "cell_type": "markdown",
      "source": [
        "# STUDENT Performance\n",
        "\n",
        "In this notebook, we try to predict the academic performance of some students in Portugal in Math and Portugese. But first, we import the data, clean it and explore."
      ],
      "metadata": {
        "id": "ijguyZsYmEXR"
      }
    },
    {
      "cell_type": "markdown",
      "source": [
        "## Data Importation"
      ],
      "metadata": {
        "id": "93kqRSKXmHz8"
      }
    },
    {
      "cell_type": "code",
      "source": [
        "MathPerf = pd.read_csv('/content/drive/MyDrive/studentPerformance/student-mat.csv', sep=';')\n",
        "MathPerf.head()"
      ],
      "metadata": {
        "colab": {
          "base_uri": "https://localhost:8080/",
          "height": 235
        },
        "id": "yGhXECwXmE3R",
        "outputId": "59fee1e1-1537-426f-8493-91edc4b84e7f"
      },
      "execution_count": 7,
      "outputs": [
        {
          "output_type": "execute_result",
          "data": {
            "text/html": [
              "\n",
              "  <div id=\"df-1d3df152-929d-41a5-9965-2b96bfb65b47\">\n",
              "    <div class=\"colab-df-container\">\n",
              "      <div>\n",
              "<style scoped>\n",
              "    .dataframe tbody tr th:only-of-type {\n",
              "        vertical-align: middle;\n",
              "    }\n",
              "\n",
              "    .dataframe tbody tr th {\n",
              "        vertical-align: top;\n",
              "    }\n",
              "\n",
              "    .dataframe thead th {\n",
              "        text-align: right;\n",
              "    }\n",
              "</style>\n",
              "<table border=\"1\" class=\"dataframe\">\n",
              "  <thead>\n",
              "    <tr style=\"text-align: right;\">\n",
              "      <th></th>\n",
              "      <th>school</th>\n",
              "      <th>sex</th>\n",
              "      <th>age</th>\n",
              "      <th>address</th>\n",
              "      <th>famsize</th>\n",
              "      <th>Pstatus</th>\n",
              "      <th>Medu</th>\n",
              "      <th>Fedu</th>\n",
              "      <th>Mjob</th>\n",
              "      <th>Fjob</th>\n",
              "      <th>...</th>\n",
              "      <th>famrel</th>\n",
              "      <th>freetime</th>\n",
              "      <th>goout</th>\n",
              "      <th>Dalc</th>\n",
              "      <th>Walc</th>\n",
              "      <th>health</th>\n",
              "      <th>absences</th>\n",
              "      <th>G1</th>\n",
              "      <th>G2</th>\n",
              "      <th>G3</th>\n",
              "    </tr>\n",
              "  </thead>\n",
              "  <tbody>\n",
              "    <tr>\n",
              "      <th>0</th>\n",
              "      <td>GP</td>\n",
              "      <td>F</td>\n",
              "      <td>18</td>\n",
              "      <td>U</td>\n",
              "      <td>GT3</td>\n",
              "      <td>A</td>\n",
              "      <td>4</td>\n",
              "      <td>4</td>\n",
              "      <td>at_home</td>\n",
              "      <td>teacher</td>\n",
              "      <td>...</td>\n",
              "      <td>4</td>\n",
              "      <td>3</td>\n",
              "      <td>4</td>\n",
              "      <td>1</td>\n",
              "      <td>1</td>\n",
              "      <td>3</td>\n",
              "      <td>6</td>\n",
              "      <td>5</td>\n",
              "      <td>6</td>\n",
              "      <td>6</td>\n",
              "    </tr>\n",
              "    <tr>\n",
              "      <th>1</th>\n",
              "      <td>GP</td>\n",
              "      <td>F</td>\n",
              "      <td>17</td>\n",
              "      <td>U</td>\n",
              "      <td>GT3</td>\n",
              "      <td>T</td>\n",
              "      <td>1</td>\n",
              "      <td>1</td>\n",
              "      <td>at_home</td>\n",
              "      <td>other</td>\n",
              "      <td>...</td>\n",
              "      <td>5</td>\n",
              "      <td>3</td>\n",
              "      <td>3</td>\n",
              "      <td>1</td>\n",
              "      <td>1</td>\n",
              "      <td>3</td>\n",
              "      <td>4</td>\n",
              "      <td>5</td>\n",
              "      <td>5</td>\n",
              "      <td>6</td>\n",
              "    </tr>\n",
              "    <tr>\n",
              "      <th>2</th>\n",
              "      <td>GP</td>\n",
              "      <td>F</td>\n",
              "      <td>15</td>\n",
              "      <td>U</td>\n",
              "      <td>LE3</td>\n",
              "      <td>T</td>\n",
              "      <td>1</td>\n",
              "      <td>1</td>\n",
              "      <td>at_home</td>\n",
              "      <td>other</td>\n",
              "      <td>...</td>\n",
              "      <td>4</td>\n",
              "      <td>3</td>\n",
              "      <td>2</td>\n",
              "      <td>2</td>\n",
              "      <td>3</td>\n",
              "      <td>3</td>\n",
              "      <td>10</td>\n",
              "      <td>7</td>\n",
              "      <td>8</td>\n",
              "      <td>10</td>\n",
              "    </tr>\n",
              "    <tr>\n",
              "      <th>3</th>\n",
              "      <td>GP</td>\n",
              "      <td>F</td>\n",
              "      <td>15</td>\n",
              "      <td>U</td>\n",
              "      <td>GT3</td>\n",
              "      <td>T</td>\n",
              "      <td>4</td>\n",
              "      <td>2</td>\n",
              "      <td>health</td>\n",
              "      <td>services</td>\n",
              "      <td>...</td>\n",
              "      <td>3</td>\n",
              "      <td>2</td>\n",
              "      <td>2</td>\n",
              "      <td>1</td>\n",
              "      <td>1</td>\n",
              "      <td>5</td>\n",
              "      <td>2</td>\n",
              "      <td>15</td>\n",
              "      <td>14</td>\n",
              "      <td>15</td>\n",
              "    </tr>\n",
              "    <tr>\n",
              "      <th>4</th>\n",
              "      <td>GP</td>\n",
              "      <td>F</td>\n",
              "      <td>16</td>\n",
              "      <td>U</td>\n",
              "      <td>GT3</td>\n",
              "      <td>T</td>\n",
              "      <td>3</td>\n",
              "      <td>3</td>\n",
              "      <td>other</td>\n",
              "      <td>other</td>\n",
              "      <td>...</td>\n",
              "      <td>4</td>\n",
              "      <td>3</td>\n",
              "      <td>2</td>\n",
              "      <td>1</td>\n",
              "      <td>2</td>\n",
              "      <td>5</td>\n",
              "      <td>4</td>\n",
              "      <td>6</td>\n",
              "      <td>10</td>\n",
              "      <td>10</td>\n",
              "    </tr>\n",
              "  </tbody>\n",
              "</table>\n",
              "<p>5 rows × 33 columns</p>\n",
              "</div>\n",
              "      <button class=\"colab-df-convert\" onclick=\"convertToInteractive('df-1d3df152-929d-41a5-9965-2b96bfb65b47')\"\n",
              "              title=\"Convert this dataframe to an interactive table.\"\n",
              "              style=\"display:none;\">\n",
              "        \n",
              "  <svg xmlns=\"http://www.w3.org/2000/svg\" height=\"24px\"viewBox=\"0 0 24 24\"\n",
              "       width=\"24px\">\n",
              "    <path d=\"M0 0h24v24H0V0z\" fill=\"none\"/>\n",
              "    <path d=\"M18.56 5.44l.94 2.06.94-2.06 2.06-.94-2.06-.94-.94-2.06-.94 2.06-2.06.94zm-11 1L8.5 8.5l.94-2.06 2.06-.94-2.06-.94L8.5 2.5l-.94 2.06-2.06.94zm10 10l.94 2.06.94-2.06 2.06-.94-2.06-.94-.94-2.06-.94 2.06-2.06.94z\"/><path d=\"M17.41 7.96l-1.37-1.37c-.4-.4-.92-.59-1.43-.59-.52 0-1.04.2-1.43.59L10.3 9.45l-7.72 7.72c-.78.78-.78 2.05 0 2.83L4 21.41c.39.39.9.59 1.41.59.51 0 1.02-.2 1.41-.59l7.78-7.78 2.81-2.81c.8-.78.8-2.07 0-2.86zM5.41 20L4 18.59l7.72-7.72 1.47 1.35L5.41 20z\"/>\n",
              "  </svg>\n",
              "      </button>\n",
              "      \n",
              "  <style>\n",
              "    .colab-df-container {\n",
              "      display:flex;\n",
              "      flex-wrap:wrap;\n",
              "      gap: 12px;\n",
              "    }\n",
              "\n",
              "    .colab-df-convert {\n",
              "      background-color: #E8F0FE;\n",
              "      border: none;\n",
              "      border-radius: 50%;\n",
              "      cursor: pointer;\n",
              "      display: none;\n",
              "      fill: #1967D2;\n",
              "      height: 32px;\n",
              "      padding: 0 0 0 0;\n",
              "      width: 32px;\n",
              "    }\n",
              "\n",
              "    .colab-df-convert:hover {\n",
              "      background-color: #E2EBFA;\n",
              "      box-shadow: 0px 1px 2px rgba(60, 64, 67, 0.3), 0px 1px 3px 1px rgba(60, 64, 67, 0.15);\n",
              "      fill: #174EA6;\n",
              "    }\n",
              "\n",
              "    [theme=dark] .colab-df-convert {\n",
              "      background-color: #3B4455;\n",
              "      fill: #D2E3FC;\n",
              "    }\n",
              "\n",
              "    [theme=dark] .colab-df-convert:hover {\n",
              "      background-color: #434B5C;\n",
              "      box-shadow: 0px 1px 3px 1px rgba(0, 0, 0, 0.15);\n",
              "      filter: drop-shadow(0px 1px 2px rgba(0, 0, 0, 0.3));\n",
              "      fill: #FFFFFF;\n",
              "    }\n",
              "  </style>\n",
              "\n",
              "      <script>\n",
              "        const buttonEl =\n",
              "          document.querySelector('#df-1d3df152-929d-41a5-9965-2b96bfb65b47 button.colab-df-convert');\n",
              "        buttonEl.style.display =\n",
              "          google.colab.kernel.accessAllowed ? 'block' : 'none';\n",
              "\n",
              "        async function convertToInteractive(key) {\n",
              "          const element = document.querySelector('#df-1d3df152-929d-41a5-9965-2b96bfb65b47');\n",
              "          const dataTable =\n",
              "            await google.colab.kernel.invokeFunction('convertToInteractive',\n",
              "                                                     [key], {});\n",
              "          if (!dataTable) return;\n",
              "\n",
              "          const docLinkHtml = 'Like what you see? Visit the ' +\n",
              "            '<a target=\"_blank\" href=https://colab.research.google.com/notebooks/data_table.ipynb>data table notebook</a>'\n",
              "            + ' to learn more about interactive tables.';\n",
              "          element.innerHTML = '';\n",
              "          dataTable['output_type'] = 'display_data';\n",
              "          await google.colab.output.renderOutput(dataTable, element);\n",
              "          const docLink = document.createElement('div');\n",
              "          docLink.innerHTML = docLinkHtml;\n",
              "          element.appendChild(docLink);\n",
              "        }\n",
              "      </script>\n",
              "    </div>\n",
              "  </div>\n",
              "  "
            ],
            "text/plain": [
              "  school sex  age address famsize Pstatus  Medu  Fedu     Mjob      Fjob  ...  \\\n",
              "0     GP   F   18       U     GT3       A     4     4  at_home   teacher  ...   \n",
              "1     GP   F   17       U     GT3       T     1     1  at_home     other  ...   \n",
              "2     GP   F   15       U     LE3       T     1     1  at_home     other  ...   \n",
              "3     GP   F   15       U     GT3       T     4     2   health  services  ...   \n",
              "4     GP   F   16       U     GT3       T     3     3    other     other  ...   \n",
              "\n",
              "  famrel freetime  goout  Dalc  Walc health absences  G1  G2  G3  \n",
              "0      4        3      4     1     1      3        6   5   6   6  \n",
              "1      5        3      3     1     1      3        4   5   5   6  \n",
              "2      4        3      2     2     3      3       10   7   8  10  \n",
              "3      3        2      2     1     1      5        2  15  14  15  \n",
              "4      4        3      2     1     2      5        4   6  10  10  \n",
              "\n",
              "[5 rows x 33 columns]"
            ]
          },
          "metadata": {},
          "execution_count": 7
        }
      ]
    },
    {
      "cell_type": "markdown",
      "source": [
        "The Dataset has 33 columns, with 3 of them being targets (G1, G2, G3).\n",
        "\n",
        "Now, we check for missing values in the dataset.\n"
      ],
      "metadata": {
        "id": "zqkJLKiemabQ"
      }
    },
    {
      "cell_type": "code",
      "source": [
        " MathPerf.info()"
      ],
      "metadata": {
        "colab": {
          "base_uri": "https://localhost:8080/"
        },
        "id": "0rSKJFhSmLFN",
        "outputId": "1f6afd60-fe5a-4caa-b982-a14e34bfe60b"
      },
      "execution_count": 8,
      "outputs": [
        {
          "output_type": "stream",
          "name": "stdout",
          "text": [
            "<class 'pandas.core.frame.DataFrame'>\n",
            "RangeIndex: 395 entries, 0 to 394\n",
            "Data columns (total 33 columns):\n",
            " #   Column      Non-Null Count  Dtype \n",
            "---  ------      --------------  ----- \n",
            " 0   school      395 non-null    object\n",
            " 1   sex         395 non-null    object\n",
            " 2   age         395 non-null    int64 \n",
            " 3   address     395 non-null    object\n",
            " 4   famsize     395 non-null    object\n",
            " 5   Pstatus     395 non-null    object\n",
            " 6   Medu        395 non-null    int64 \n",
            " 7   Fedu        395 non-null    int64 \n",
            " 8   Mjob        395 non-null    object\n",
            " 9   Fjob        395 non-null    object\n",
            " 10  reason      395 non-null    object\n",
            " 11  guardian    395 non-null    object\n",
            " 12  traveltime  395 non-null    int64 \n",
            " 13  studytime   395 non-null    int64 \n",
            " 14  failures    395 non-null    int64 \n",
            " 15  schoolsup   395 non-null    object\n",
            " 16  famsup      395 non-null    object\n",
            " 17  paid        395 non-null    object\n",
            " 18  activities  395 non-null    object\n",
            " 19  nursery     395 non-null    object\n",
            " 20  higher      395 non-null    object\n",
            " 21  internet    395 non-null    object\n",
            " 22  romantic    395 non-null    object\n",
            " 23  famrel      395 non-null    int64 \n",
            " 24  freetime    395 non-null    int64 \n",
            " 25  goout       395 non-null    int64 \n",
            " 26  Dalc        395 non-null    int64 \n",
            " 27  Walc        395 non-null    int64 \n",
            " 28  health      395 non-null    int64 \n",
            " 29  absences    395 non-null    int64 \n",
            " 30  G1          395 non-null    int64 \n",
            " 31  G2          395 non-null    int64 \n",
            " 32  G3          395 non-null    int64 \n",
            "dtypes: int64(16), object(17)\n",
            "memory usage: 102.0+ KB\n"
          ]
        }
      ]
    },
    {
      "cell_type": "markdown",
      "source": [
        "As we can see, the Dataset has no missing values. And the columns are mainly of two data types int64 and object.\n",
        "\n",
        "Next, we check the columns with data type object (string) for low or high cardinality. That is, for constants or columns with completely uniques values."
      ],
      "metadata": {
        "id": "UK_W7UwbmiEa"
      }
    },
    {
      "cell_type": "code",
      "source": [
        "MathPerf.select_dtypes('object').nunique()"
      ],
      "metadata": {
        "colab": {
          "base_uri": "https://localhost:8080/"
        },
        "id": "UfipTR9Smfj7",
        "outputId": "44300a3c-3e80-4330-c66b-666004683ae1"
      },
      "execution_count": 10,
      "outputs": [
        {
          "output_type": "execute_result",
          "data": {
            "text/plain": [
              "school        2\n",
              "sex           2\n",
              "address       2\n",
              "famsize       2\n",
              "Pstatus       2\n",
              "Mjob          5\n",
              "Fjob          5\n",
              "reason        4\n",
              "guardian      3\n",
              "schoolsup     2\n",
              "famsup        2\n",
              "paid          2\n",
              "activities    2\n",
              "nursery       2\n",
              "higher        2\n",
              "internet      2\n",
              "romantic      2\n",
              "dtype: int64"
            ]
          },
          "metadata": {},
          "execution_count": 10
        }
      ]
    },
    {
      "cell_type": "markdown",
      "source": [
        "From the above, there are no columns with high or low cardinality, each column at least as two unique values and no column has more than 5.\n",
        "\n",
        "Looking at the dataset, there are no columns that might constitute leakage (that are highly correlated with the targets but cannot be gotten with knowing the targets themselves). \n",
        "\n",
        "Next, we create a version of the dataset, with all categorical data converted to numbers (dummie variables) and check for among the features in the dataset."
      ],
      "metadata": {
        "id": "KujHKRnAmrq3"
      }
    },
    {
      "cell_type": "code",
      "source": [
        "targets = ['G1', 'G2', 'G3']\n",
        "X = MathPerf.copy().drop(columns=targets)\n",
        "for column in MathPerf.select_dtypes('object'):\n",
        "    cat = preprocessing.LabelEncoder()\n",
        "    cat.fit(MathPerf[column].unique())\n",
        "    X[column] = cat.transform(X[column])\n",
        "corr_matrix = X.corr()\n",
        "fig, ax = plt.subplots(figsize=(12, 10))\n",
        "sns.heatmap(corr_matrix);"
      ],
      "metadata": {
        "colab": {
          "base_uri": "https://localhost:8080/",
          "height": 636
        },
        "id": "pk-mmv25mkMG",
        "outputId": "680eaa81-7926-4a15-fc83-e2a64af553af"
      },
      "execution_count": 11,
      "outputs": [
        {
          "output_type": "display_data",
          "data": {
            "image/png": "[encoded data removed]",
            "text/plain": [
              "<Figure size 864x720 with 2 Axes>"
            ]
          },
          "metadata": {
            "needs_background": "light"
          }
        }
      ]
    },
    {
      "cell_type": "markdown",
      "source": [
        "We can see from the heatmap that there isn't much correlation between the features, except for Medu (Mother's Education) and Fedu (Father's Education) and also Dalc (Week-day Alcohol Consmpution) and Walc (Weekend Alcohol Consumption) which show high level of correlation with values around 0.7 to 0.8.\n",
        "\n",
        "Now, we build the model. \n",
        "\n",
        "For this notebook, I'll be using two methods for supervised learning, Classification and Regression.\n",
        "\n",
        "And although using clasification sounds a little strange considering the targets is numerical data making regression ideal, the targets will be converted to categorical data to make it useable for classification.\n",
        "\n",
        "For the categories, \n",
        "0-9: Fail\n",
        "10-11: Sufficient\n",
        "12-13: Satisfactory\n",
        "14-15: Good\n",
        "16-20: Excellent"
      ],
      "metadata": {
        "id": "vNHXCV9rmx8e"
      }
    },
    {
      "cell_type": "markdown",
      "source": [
        "## MODEL: CLASSIFICATION"
      ],
      "metadata": {
        "id": "GLcKc26bm2Im"
      }
    },
    {
      "cell_type": "code",
      "source": [
        "def outputClass(series_in):\n",
        "    series = series_in.copy()\n",
        "    for j in range(len(series)):\n",
        "        if series[j] <= 9:\n",
        "            series[j] = 'fail'\n",
        "        elif series[j] >= 10 and series[j] <= 11:\n",
        "            series[j] = 'sufficient'\n",
        "        elif series[j] >= 12 and series[j] <= 13:\n",
        "            series[j] = 'satisfactory'\n",
        "        elif series[j] >= 14 and series[j] <= 15:\n",
        "            series[j] = 'good'\n",
        "        elif series[j] >= 16:\n",
        "            series[j] = 'excellent'\n",
        "    return series\n",
        "\n",
        "y = outputClass(MathPerf['G1'])\n",
        "\n",
        "grade_class = preprocessing.LabelEncoder()\n",
        "grade_class.fit(['fail', 'sufficient', 'satisfactory', 'good', 'excellent'])"
      ],
      "metadata": {
        "colab": {
          "base_uri": "https://localhost:8080/"
        },
        "id": "miKHjLN8muLW",
        "outputId": "65d07f01-2ea6-4f15-a991-9d08749cf621"
      },
      "execution_count": 22,
      "outputs": [
        {
          "output_type": "execute_result",
          "data": {
            "text/plain": [
              "LabelEncoder()"
            ]
          },
          "metadata": {},
          "execution_count": 22
        }
      ]
    },
    {
      "cell_type": "markdown",
      "source": [
        "The above function outputClass, takes a series as input, in this case the target columns and returns a series as output, the series now representing categorical data. \n",
        "\n",
        "After that, the data is passed through a Label Encoder that converts these strings to integers. \n",
        "\n",
        "Now we perform the train-test split on the dataset, with 80% of the data used for training"
      ],
      "metadata": {
        "id": "9n5g0RuTm7Nw"
      }
    },
    {
      "cell_type": "code",
      "source": [
        "X_train, X_test, y_train, y_test = train_test_split(X, y, test_size=0.2, random_state=3)"
      ],
      "metadata": {
        "id": "6fuZnaJqm40O"
      },
      "execution_count": 23,
      "outputs": []
    },
    {
      "cell_type": "markdown",
      "source": [
        "### Baseline Model\n",
        "\n",
        "Since classification problems are like probability, the best baseline to use is to assume every member of feature set belongs to the target set with the most members."
      ],
      "metadata": {
        "id": "KkJ31o67nBEk"
      }
    },
    {
      "cell_type": "code",
      "source": [
        "for grade in y.unique():\n",
        "    num = (y_train == grade).sum()\n",
        "    print(f'{grade} has {num} members in y_train')\n",
        "\n",
        "y_train = grade_class.transform(y_train)\n",
        "y_test = grade_class.transform(y_test)"
      ],
      "metadata": {
        "colab": {
          "base_uri": "https://localhost:8080/"
        },
        "id": "rTkuiB2rm_Fx",
        "outputId": "605a6e07-7558-4dda-e943-5a4b94ec9b7b"
      },
      "execution_count": 24,
      "outputs": [
        {
          "output_type": "stream",
          "name": "stdout",
          "text": [
            "fail has 109 members in y_train\n",
            "good has 44 members in y_train\n",
            "satisfactory has 55 members in y_train\n",
            "excellent has 34 members in y_train\n",
            "sufficient has 74 members in y_train\n"
          ]
        }
      ]
    },
    {
      "cell_type": "markdown",
      "source": [
        "Has we can see, fail has the highest number of memebers. This means that if we always predict that a student fails, disregarding all other features, we will be correct about 33% of the time. since\n",
        "\n",
        "P(fail) = (109)/(109 + 44 + 55 + 34 + 74) = 109/261 ~ 0.417 = 41%\n",
        "\n",
        "Therefore, this is the score to beat."
      ],
      "metadata": {
        "id": "Nx7sDnsWoi9F"
      }
    },
    {
      "cell_type": "markdown",
      "source": [
        "### Classification using K-Nearest Neighbors"
      ],
      "metadata": {
        "id": "4j2ia5zUomTn"
      }
    },
    {
      "cell_type": "markdown",
      "source": [
        "To use k-nearest neighbors, we have to try different amount of neighbors (in this case 50) and see which one has the highest accuracy"
      ],
      "metadata": {
        "id": "nkIYC-XhoosY"
      }
    },
    {
      "cell_type": "code",
      "source": [
        "highest_neighbors = 50\n",
        "mean_accuracy = np.zeros(highest_neighbors-1)\n",
        "for i in range(1, highest_neighbors):\n",
        "    neigh = KNeighborsClassifier(n_neighbors=i).fit(X_train, y_train)\n",
        "    y_hat = neigh.predict(X_test)\n",
        "    # print('Train set Accuracy for ', i, 'neighbors: ',\n",
        "        # metrics.accuracy_score(y_train, neigh.predict(X_train)))\n",
        "    # print('Test set Accuracy: ', i, 'neighbors: ', metrics.accuracy_score(y_test, y_hat))\n",
        "    mean_accuracy[i-1] = metrics.accuracy_score(y_test, y_hat)\n",
        "\n",
        "fig, ax = plt.subplots(figsize=(16, 8))\n",
        "plt.plot(range(1, highest_neighbors), mean_accuracy)\n",
        "plt.ylabel('Accuracy')\n",
        "plt.xlabel('Number of Neighbors (K)');"
      ],
      "metadata": {
        "colab": {
          "base_uri": "https://localhost:8080/",
          "height": 496
        },
        "id": "MWIu7bbnnDtr",
        "outputId": "77b97dda-d419-47a0-854b-a1d5714254a5"
      },
      "execution_count": 25,
      "outputs": [
        {
          "output_type": "display_data",
          "data": {
            "image/png": "[encoded data removed]",
            "text/plain": [
              "<Figure size 1152x576 with 1 Axes>"
            ]
          },
          "metadata": {
            "needs_background": "light"
          }
        }
      ]
    },
    {
      "cell_type": "markdown",
      "source": [
        "As we can see from the Accuracy v Neighbors plot above, the model barely beats the baseline. To check the actual value and the number of neighbors that provided the best result, we run the loop below"
      ],
      "metadata": {
        "id": "AOE1tIMBozL4"
      }
    },
    {
      "cell_type": "code",
      "source": [
        "for i in range(len(mean_accuracy)):\n",
        "    if mean_accuracy[i] == max(mean_accuracy):\n",
        "        print(f'The Best value for k is {i+1} with accuracy {round(max(mean_accuracy), 2)}')"
      ],
      "metadata": {
        "colab": {
          "base_uri": "https://localhost:8080/"
        },
        "id": "D445AmGanI55",
        "outputId": "f7dc9cc8-cbad-471e-ac78-d348c787ae82"
      },
      "execution_count": 26,
      "outputs": [
        {
          "output_type": "stream",
          "name": "stdout",
          "text": [
            "The Best value for k is 37 with accuracy 0.43\n"
          ]
        }
      ]
    },
    {
      "cell_type": "markdown",
      "source": [
        "That's about 43% accuracy, using 37 neighbors, this is just 2% better than the Baseline, so it's not really good enough. \n",
        "\n",
        "Since KNN also does not show us the effect of each feature of the prediction, we move on to regression\n",
        "\n"
      ],
      "metadata": {
        "id": "FEFMaXNYo4QA"
      }
    },
    {
      "cell_type": "markdown",
      "source": [
        "## MODEL: REGRESSION"
      ],
      "metadata": {
        "id": "coFY6mQRo8su"
      }
    },
    {
      "cell_type": "markdown",
      "source": [
        "Before we create the regression, we do a little more exploration"
      ],
      "metadata": {
        "id": "xjo0VLyLo-8p"
      }
    },
    {
      "cell_type": "code",
      "source": [
        "X[targets] = MathPerf[targets]\n",
        "corr_matrix = MathPerf.corr().drop(index=['G1', 'G2', 'G3'])\n",
        "sns.heatmap(corr_matrix[['G1', 'G2', 'G3']])\n",
        "X.drop(columns=['G1', 'G2', 'G3'], inplace=True)"
      ],
      "metadata": {
        "id": "l5O0s6d4o1Ps",
        "outputId": "1ebbefff-35b4-44aa-c65e-a8e676de397f",
        "colab": {
          "base_uri": "https://localhost:8080/",
          "height": 264
        }
      },
      "execution_count": 27,
      "outputs": [
        {
          "output_type": "display_data",
          "data": {
            "image/png": "[encoded data removed]",
            "text/plain": [
              "<Figure size 432x288 with 2 Axes>"
            ]
          },
          "metadata": {
            "needs_background": "light"
          }
        }
      ]
    },
    {
      "cell_type": "markdown",
      "source": [
        "Has we can see then is not much correlation between the features and the columns.\n",
        "\n",
        "This feels like a bad sign but..."
      ],
      "metadata": {
        "id": "LnUFTr5tpDtQ"
      }
    },
    {
      "cell_type": "markdown",
      "source": [
        "### Baseline Model\n",
        "\n",
        "The model baseline used this time is the Mean Absolute Error."
      ],
      "metadata": {
        "id": "2DvRIWkLpGi3"
      }
    },
    {
      "cell_type": "code",
      "source": [
        "X_train, X_test, y_train, y_test = train_test_split(X, MathPerf['G1'], test_size=0.2, random_state=3 )\n",
        "y_mean = y_train.mean()\n",
        "y_pred_baseline = [y_mean] * len(y_train)\n",
        "baseline_mae = metrics.mean_absolute_error(y_train, y_pred_baseline).round(2)\n",
        "baseline_mae"
      ],
      "metadata": {
        "id": "ZAbUNv4jpBkh",
        "outputId": "db0d1956-33b1-402e-965f-b3a04c473160",
        "colab": {
          "base_uri": "https://localhost:8080/"
        }
      },
      "execution_count": 28,
      "outputs": [
        {
          "output_type": "execute_result",
          "data": {
            "text/plain": [
              "2.76"
            ]
          },
          "metadata": {},
          "execution_count": 28
        }
      ]
    },
    {
      "cell_type": "markdown",
      "source": [
        "The baseline prediction of MAE (mean absolute error) is 2.76. \n",
        "\n",
        "Therefore, that is the score our model should beat."
      ],
      "metadata": {
        "id": "f7MZyO04pKwC"
      }
    },
    {
      "cell_type": "code",
      "source": [
        "model = LinearRegression().fit(X_train, y_train)\n",
        "y_pred = model.predict(X_test)\n",
        "mae = metrics.mean_absolute_error(y_test, y_pred).round(2)\n",
        "mae"
      ],
      "metadata": {
        "id": "xUJQfaDdpImE",
        "outputId": "a51877f2-2ff2-4dc6-b0ad-953cee3e593d",
        "colab": {
          "base_uri": "https://localhost:8080/"
        }
      },
      "execution_count": 29,
      "outputs": [
        {
          "output_type": "execute_result",
          "data": {
            "text/plain": [
              "2.45"
            ]
          },
          "metadata": {},
          "execution_count": 29
        }
      ]
    },
    {
      "cell_type": "markdown",
      "source": [
        "The model beats the baseline and as we can see on average, out prediction will be off by about  +/- 2.45."
      ],
      "metadata": {
        "id": "erE-LhEwpR5f"
      }
    },
    {
      "cell_type": "markdown",
      "source": [
        "Next, we check the accuracy score for the prediction made my the regression model, but to do this, we first categorize the values from y_test and y_pred."
      ],
      "metadata": {
        "id": "I0ZukX51pT0d"
      }
    },
    {
      "cell_type": "code",
      "source": [
        "y_test_cat = outputClass(y_test.reset_index().drop(columns='index')[y_test.name])\n",
        "y_pred_cat = outputClass(pd.Series(y_pred.round(0).astype(int)))\n",
        "\n",
        "y_test_cat_num = grade_class.transform(y_test_cat)\n",
        "y_pred_cat_num = grade_class.transform(y_pred_cat)\n",
        "\n",
        "metrics.accuracy_score(y_test_cat_num, y_pred_cat_num)"
      ],
      "metadata": {
        "id": "mI-BAzmXpMts",
        "outputId": "aea2fdcf-51c3-479a-f81a-237675795a59",
        "colab": {
          "base_uri": "https://localhost:8080/"
        }
      },
      "execution_count": 30,
      "outputs": [
        {
          "output_type": "execute_result",
          "data": {
            "text/plain": [
              "0.26582278481012656"
            ]
          },
          "metadata": {},
          "execution_count": 30
        }
      ]
    },
    {
      "cell_type": "markdown",
      "source": [
        "As we see here, the model has an accuracy score of approximately 27%, which is not even as good as the KNN model. This is understandable since the model has a MAE of 2.46, and most of the categories in the target has contain only 2 number (ex: 10-11, 12-13, ...)"
      ],
      "metadata": {
        "id": "v-76kKtGpX6v"
      }
    }
  ]
}