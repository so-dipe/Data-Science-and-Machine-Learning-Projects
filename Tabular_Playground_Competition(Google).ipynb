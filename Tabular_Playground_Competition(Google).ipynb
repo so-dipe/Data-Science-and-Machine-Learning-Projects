{
  "cells": [
    {
      "cell_type": "markdown",
      "metadata": {
        "id": "view-in-github",
        "colab_type": "text"
      },
      "source": [
        "<a href=\"https://colab.research.google.com/github/so-dipe/Data-Science-and-Machine-Learning-Projects/blob/main/Tabular_Playground_Competition(Google).ipynb\" target=\"_parent\"><img src=\"https://colab.research.google.com/assets/colab-badge.svg\" alt=\"Open In Colab\"/></a>"
      ]
    },
    {
      "cell_type": "code",
      "execution_count": 2,
      "metadata": {
        "colab": {
          "base_uri": "https://localhost:8080/"
        },
        "id": "r7h-QFYyx4z7",
        "outputId": "09bed867-f6c1-48d2-be56-e68e69fd9d7a"
      },
      "outputs": [
        {
          "output_type": "stream",
          "name": "stdout",
          "text": [
            "Downloading tabular-playground-series-may-2022.zip to /content\n",
            "100% 257M/257M [01:04<00:00, 4.64MB/s]\n",
            "100% 257M/257M [01:04<00:00, 4.20MB/s]\n"
          ]
        }
      ],
      "source": [
        "! cp /content/drive/MyDrive/kaggle.json ~/.kaggle/\n",
        "! chmod 600 ~/.kaggle/kaggle.json\n",
        "! kaggle competitions download -c tabular-playground-series-may-2022"
      ]
    },
    {
      "cell_type": "code",
      "execution_count": 83,
      "metadata": {
        "colab": {
          "base_uri": "https://localhost:8080/"
        },
        "id": "_tdTywXqysrE",
        "outputId": "c02aa657-551a-4dd5-959f-126d041fe6fb"
      },
      "outputs": [
        {
          "output_type": "stream",
          "name": "stdout",
          "text": [
            "Archive:  /content/tabular-playground-series-may-2022.zip\n",
            "replace sample_submission.csv? [y]es, [n]o, [A]ll, [N]one, [r]ename: y\n",
            "  inflating: sample_submission.csv   \n",
            "replace test.csv? [y]es, [n]o, [A]ll, [N]one, [r]ename: n\n",
            "replace train.csv? [y]es, [n]o, [A]ll, [N]one, [r]ename: n\n"
          ]
        }
      ],
      "source": [
        "! unzip /content/tabular-playground-series-may-2022.zip"
      ]
    },
    {
      "cell_type": "code",
      "source": [
        "! pip install tensorflow_decision_forests"
      ],
      "metadata": {
        "id": "fPn3v-P7oZQx"
      },
      "execution_count": null,
      "outputs": []
    },
    {
      "cell_type": "code",
      "source": [
        "class StackingClassifierEstimator:\n",
        "  trained_models = None\n",
        "  # pred_df = None\n",
        "  \n",
        "  def __init__(self, estimators, final_estimator, neuralnet_models=None, cv=None):\n",
        "    self.estimators = estimators\n",
        "    self.neuralnet_models = neuralnet_models\n",
        "    self.cv = cv\n",
        "    self.final_estimator = final_estimator\n",
        "    pass\n",
        "  \n",
        "  def fit(self, X, y):\n",
        "    trained_models = []\n",
        "    for model in self.estimators:\n",
        "      if self.cv is not None and self.cv > 0:\n",
        "        kf = KFold(n_splits=self.cv, shuffle=True)\n",
        "        i = 1\n",
        "        for train_index, test_index in kf.split(X_train):\n",
        "          print(f'training {i} for {model}')\n",
        "          model.fit(X.iloc[train_index], y.iloc[train_index])\n",
        "          model.score(X.iloc[train_index], y.iloc[train_index])\n",
        "          model.score(X.iloc[test_index], y.iloc[test_index])\n",
        "          trained_models.append(model)\n",
        "          i = i + 1\n",
        "      else:\n",
        "        print(f'training {model}')\n",
        "        model.fit(X, y)\n",
        "        model.score(X, y)\n",
        "        trained_models.append(model)\n",
        "    self.trained_models = trained_models\n",
        "    return trained_models\n",
        "\n",
        "  # trained_models = trained_models\n",
        "\n",
        "  def create_pred_df(self, X, y):\n",
        "    preds = dict()\n",
        "    # trained_models = self.fit(X, y)\n",
        "    i = 0\n",
        "    for model in self.trained_models:\n",
        "      preds[i] = model.predict(X)\n",
        "      i = i + 1\n",
        "    if self.neuralnet_models is not None:\n",
        "      preds['nn'] = self.neuralnet_models.predict(X)[:,0]\n",
        "    preds['target'] = y.values\n",
        "    df = pd.DataFrame(preds)\n",
        "    self.pred_df = df\n",
        "    return df\n",
        "\n",
        "  def train(self, X, y, split=False):\n",
        "    self.fit(X, y)\n",
        "    df = self.create_pred_df(X, y)\n",
        "    X_new = df.drop(columns='target')\n",
        "    y_new = df['target']\n",
        "    if split is True:\n",
        "      X_train, X_test, y_train, y_test = train_test_split(X_new, y_new, \n",
        "                                                          test_size=0.2)\n",
        "      self.final_estimator.fit(X_train, y_train)\n",
        "      print(self.final_estimator.score(X_train, y_train))\n",
        "      print(self.final_estimator.score(X_test, y_test))\n",
        "    else:\n",
        "      self.final_estimator.fit(X, y)\n",
        "      print(self.final_estimator.score(X, y))\n",
        "\n",
        "  def predict(self, X):\n",
        "    return self.final_estimator.predict(X)\n",
        "\n",
        "  def score(self, X, y):\n",
        "    return self.final_estimator.score(X, y)\n",
        "  \n",
        "  def val_pred_df(self, X, y):\n",
        "    preds = dict()\n",
        "    i = 0\n",
        "    for model in self.trained_models:\n",
        "      preds[i] = model.predict(X)\n",
        "    if self.neuralnet_models is not None:\n",
        "      preds['nn'] = self.neuralnet_models.predict(X)[:,0]\n",
        "    preds['target'] = y.values\n",
        "    return pd.DataFrame(preds)\n",
        "\n",
        "\n"
      ],
      "metadata": {
        "id": "RneoSdNPrXh3"
      },
      "execution_count": null,
      "outputs": []
    },
    {
      "cell_type": "code",
      "execution_count": 4,
      "metadata": {
        "id": "rJcVHM1Vx93h"
      },
      "outputs": [],
      "source": [
        "import time\n",
        "import pandas as pd\n",
        "import matplotlib.pyplot as plt\n",
        "import seaborn as sns\n",
        "from sklearn.model_selection import train_test_split, GridSearchCV, cross_val_score, KFold\n",
        "from sklearn.tree import DecisionTreeClassifier\n",
        "from sklearn.linear_model import LogisticRegression, SGDClassifier\n",
        "from sklearn.pipeline import make_pipeline\n",
        "from sklearn.ensemble import RandomForestClassifier, GradientBoostingClassifier, StackingClassifier\n",
        "from sklearn.metrics import accuracy_score\n",
        "from sklearn.preprocessing import MinMaxScaler\n",
        "from sklearn.svm import SVC\n",
        "from sklearn.naive_bayes import GaussianNB \n",
        "import xgboost as xgb\n",
        "import multiprocessing\n",
        "from sklearn.neighbors import KNeighborsClassifier\n",
        "from tensorflow.keras.models import Sequential\n",
        "from tensorflow.keras.layers import Dense\n",
        "from tensorflow.keras.optimizers import RMSprop, Adam\n",
        "# from tensorflow_decision_forests import keras as tfdf"
      ]
    },
    {
      "cell_type": "code",
      "execution_count": 5,
      "metadata": {
        "colab": {
          "base_uri": "https://localhost:8080/",
          "height": 280
        },
        "id": "iBmECA6TynGH",
        "outputId": "1013884a-e955-45af-cd0f-6f37998b853b"
      },
      "outputs": [
        {
          "output_type": "execute_result",
          "data": {
            "text/plain": [
              "   id      f_00      f_01      f_02      f_03      f_04      f_05      f_06  \\\n",
              "0   0 -1.373246  0.238887 -0.243376  0.567405 -0.647715  0.839326  0.113133   \n",
              "1   1  1.697021 -1.710322 -2.230332 -0.545661  1.113173 -1.552175  0.447825   \n",
              "2   2  1.681726  0.616746 -1.027689  0.810492 -0.609086  0.113965 -0.708660   \n",
              "3   3 -0.118172 -0.587835 -0.804638  2.086822  0.371005 -0.128831 -0.282575   \n",
              "4   4  1.148481 -0.176567 -0.664871 -1.101343  0.467875  0.500117  0.407515   \n",
              "\n",
              "   f_07  f_08  ...      f_22      f_23      f_24      f_25      f_26  \\\n",
              "0     1     5  ... -2.540739  0.766952 -2.730628 -0.208177  1.363402   \n",
              "1     1     3  ...  2.278315 -0.633658 -1.217077 -3.782194 -0.058316   \n",
              "2     1     0  ... -1.385775 -0.520558 -0.009121  2.788536 -3.703488   \n",
              "3     3     2  ...  0.572594 -1.653213  1.686035 -2.533098 -0.608601   \n",
              "4     3     3  ... -3.912929 -1.430366  2.127649 -3.306784  4.371371   \n",
              "\n",
              "         f_27        f_28  f_29  f_30  target  \n",
              "0  ABABDADBAB   67.609153     0     0       0  \n",
              "1  ACACCADCEB  377.096415     0     0       1  \n",
              "2  AAAEABCKAD -195.599702     0     2       1  \n",
              "3  BDBBAACBCB  210.826205     0     0       1  \n",
              "4  BDBCBBCHFE -217.211798     0     1       1  \n",
              "\n",
              "[5 rows x 33 columns]"
            ],
            "text/html": [
              "\n",
              "  <div id=\"df-fd3dcdfd-89e7-4440-9778-c9a57e5c38b6\">\n",
              "    <div class=\"colab-df-container\">\n",
              "      <div>\n",
              "<style scoped>\n",
              "    .dataframe tbody tr th:only-of-type {\n",
              "        vertical-align: middle;\n",
              "    }\n",
              "\n",
              "    .dataframe tbody tr th {\n",
              "        vertical-align: top;\n",
              "    }\n",
              "\n",
              "    .dataframe thead th {\n",
              "        text-align: right;\n",
              "    }\n",
              "</style>\n",
              "<table border=\"1\" class=\"dataframe\">\n",
              "  <thead>\n",
              "    <tr style=\"text-align: right;\">\n",
              "      <th></th>\n",
              "      <th>id</th>\n",
              "      <th>f_00</th>\n",
              "      <th>f_01</th>\n",
              "      <th>f_02</th>\n",
              "      <th>f_03</th>\n",
              "      <th>f_04</th>\n",
              "      <th>f_05</th>\n",
              "      <th>f_06</th>\n",
              "      <th>f_07</th>\n",
              "      <th>f_08</th>\n",
              "      <th>...</th>\n",
              "      <th>f_22</th>\n",
              "      <th>f_23</th>\n",
              "      <th>f_24</th>\n",
              "      <th>f_25</th>\n",
              "      <th>f_26</th>\n",
              "      <th>f_27</th>\n",
              "      <th>f_28</th>\n",
              "      <th>f_29</th>\n",
              "      <th>f_30</th>\n",
              "      <th>target</th>\n",
              "    </tr>\n",
              "  </thead>\n",
              "  <tbody>\n",
              "    <tr>\n",
              "      <th>0</th>\n",
              "      <td>0</td>\n",
              "      <td>-1.373246</td>\n",
              "      <td>0.238887</td>\n",
              "      <td>-0.243376</td>\n",
              "      <td>0.567405</td>\n",
              "      <td>-0.647715</td>\n",
              "      <td>0.839326</td>\n",
              "      <td>0.113133</td>\n",
              "      <td>1</td>\n",
              "      <td>5</td>\n",
              "      <td>...</td>\n",
              "      <td>-2.540739</td>\n",
              "      <td>0.766952</td>\n",
              "      <td>-2.730628</td>\n",
              "      <td>-0.208177</td>\n",
              "      <td>1.363402</td>\n",
              "      <td>ABABDADBAB</td>\n",
              "      <td>67.609153</td>\n",
              "      <td>0</td>\n",
              "      <td>0</td>\n",
              "      <td>0</td>\n",
              "    </tr>\n",
              "    <tr>\n",
              "      <th>1</th>\n",
              "      <td>1</td>\n",
              "      <td>1.697021</td>\n",
              "      <td>-1.710322</td>\n",
              "      <td>-2.230332</td>\n",
              "      <td>-0.545661</td>\n",
              "      <td>1.113173</td>\n",
              "      <td>-1.552175</td>\n",
              "      <td>0.447825</td>\n",
              "      <td>1</td>\n",
              "      <td>3</td>\n",
              "      <td>...</td>\n",
              "      <td>2.278315</td>\n",
              "      <td>-0.633658</td>\n",
              "      <td>-1.217077</td>\n",
              "      <td>-3.782194</td>\n",
              "      <td>-0.058316</td>\n",
              "      <td>ACACCADCEB</td>\n",
              "      <td>377.096415</td>\n",
              "      <td>0</td>\n",
              "      <td>0</td>\n",
              "      <td>1</td>\n",
              "    </tr>\n",
              "    <tr>\n",
              "      <th>2</th>\n",
              "      <td>2</td>\n",
              "      <td>1.681726</td>\n",
              "      <td>0.616746</td>\n",
              "      <td>-1.027689</td>\n",
              "      <td>0.810492</td>\n",
              "      <td>-0.609086</td>\n",
              "      <td>0.113965</td>\n",
              "      <td>-0.708660</td>\n",
              "      <td>1</td>\n",
              "      <td>0</td>\n",
              "      <td>...</td>\n",
              "      <td>-1.385775</td>\n",
              "      <td>-0.520558</td>\n",
              "      <td>-0.009121</td>\n",
              "      <td>2.788536</td>\n",
              "      <td>-3.703488</td>\n",
              "      <td>AAAEABCKAD</td>\n",
              "      <td>-195.599702</td>\n",
              "      <td>0</td>\n",
              "      <td>2</td>\n",
              "      <td>1</td>\n",
              "    </tr>\n",
              "    <tr>\n",
              "      <th>3</th>\n",
              "      <td>3</td>\n",
              "      <td>-0.118172</td>\n",
              "      <td>-0.587835</td>\n",
              "      <td>-0.804638</td>\n",
              "      <td>2.086822</td>\n",
              "      <td>0.371005</td>\n",
              "      <td>-0.128831</td>\n",
              "      <td>-0.282575</td>\n",
              "      <td>3</td>\n",
              "      <td>2</td>\n",
              "      <td>...</td>\n",
              "      <td>0.572594</td>\n",
              "      <td>-1.653213</td>\n",
              "      <td>1.686035</td>\n",
              "      <td>-2.533098</td>\n",
              "      <td>-0.608601</td>\n",
              "      <td>BDBBAACBCB</td>\n",
              "      <td>210.826205</td>\n",
              "      <td>0</td>\n",
              "      <td>0</td>\n",
              "      <td>1</td>\n",
              "    </tr>\n",
              "    <tr>\n",
              "      <th>4</th>\n",
              "      <td>4</td>\n",
              "      <td>1.148481</td>\n",
              "      <td>-0.176567</td>\n",
              "      <td>-0.664871</td>\n",
              "      <td>-1.101343</td>\n",
              "      <td>0.467875</td>\n",
              "      <td>0.500117</td>\n",
              "      <td>0.407515</td>\n",
              "      <td>3</td>\n",
              "      <td>3</td>\n",
              "      <td>...</td>\n",
              "      <td>-3.912929</td>\n",
              "      <td>-1.430366</td>\n",
              "      <td>2.127649</td>\n",
              "      <td>-3.306784</td>\n",
              "      <td>4.371371</td>\n",
              "      <td>BDBCBBCHFE</td>\n",
              "      <td>-217.211798</td>\n",
              "      <td>0</td>\n",
              "      <td>1</td>\n",
              "      <td>1</td>\n",
              "    </tr>\n",
              "  </tbody>\n",
              "</table>\n",
              "<p>5 rows × 33 columns</p>\n",
              "</div>\n",
              "      <button class=\"colab-df-convert\" onclick=\"convertToInteractive('df-fd3dcdfd-89e7-4440-9778-c9a57e5c38b6')\"\n",
              "              title=\"Convert this dataframe to an interactive table.\"\n",
              "              style=\"display:none;\">\n",
              "        \n",
              "  <svg xmlns=\"http://www.w3.org/2000/svg\" height=\"24px\"viewBox=\"0 0 24 24\"\n",
              "       width=\"24px\">\n",
              "    <path d=\"M0 0h24v24H0V0z\" fill=\"none\"/>\n",
              "    <path d=\"M18.56 5.44l.94 2.06.94-2.06 2.06-.94-2.06-.94-.94-2.06-.94 2.06-2.06.94zm-11 1L8.5 8.5l.94-2.06 2.06-.94-2.06-.94L8.5 2.5l-.94 2.06-2.06.94zm10 10l.94 2.06.94-2.06 2.06-.94-2.06-.94-.94-2.06-.94 2.06-2.06.94z\"/><path d=\"M17.41 7.96l-1.37-1.37c-.4-.4-.92-.59-1.43-.59-.52 0-1.04.2-1.43.59L10.3 9.45l-7.72 7.72c-.78.78-.78 2.05 0 2.83L4 21.41c.39.39.9.59 1.41.59.51 0 1.02-.2 1.41-.59l7.78-7.78 2.81-2.81c.8-.78.8-2.07 0-2.86zM5.41 20L4 18.59l7.72-7.72 1.47 1.35L5.41 20z\"/>\n",
              "  </svg>\n",
              "      </button>\n",
              "      \n",
              "  <style>\n",
              "    .colab-df-container {\n",
              "      display:flex;\n",
              "      flex-wrap:wrap;\n",
              "      gap: 12px;\n",
              "    }\n",
              "\n",
              "    .colab-df-convert {\n",
              "      background-color: #E8F0FE;\n",
              "      border: none;\n",
              "      border-radius: 50%;\n",
              "      cursor: pointer;\n",
              "      display: none;\n",
              "      fill: #1967D2;\n",
              "      height: 32px;\n",
              "      padding: 0 0 0 0;\n",
              "      width: 32px;\n",
              "    }\n",
              "\n",
              "    .colab-df-convert:hover {\n",
              "      background-color: #E2EBFA;\n",
              "      box-shadow: 0px 1px 2px rgba(60, 64, 67, 0.3), 0px 1px 3px 1px rgba(60, 64, 67, 0.15);\n",
              "      fill: #174EA6;\n",
              "    }\n",
              "\n",
              "    [theme=dark] .colab-df-convert {\n",
              "      background-color: #3B4455;\n",
              "      fill: #D2E3FC;\n",
              "    }\n",
              "\n",
              "    [theme=dark] .colab-df-convert:hover {\n",
              "      background-color: #434B5C;\n",
              "      box-shadow: 0px 1px 3px 1px rgba(0, 0, 0, 0.15);\n",
              "      filter: drop-shadow(0px 1px 2px rgba(0, 0, 0, 0.3));\n",
              "      fill: #FFFFFF;\n",
              "    }\n",
              "  </style>\n",
              "\n",
              "      <script>\n",
              "        const buttonEl =\n",
              "          document.querySelector('#df-fd3dcdfd-89e7-4440-9778-c9a57e5c38b6 button.colab-df-convert');\n",
              "        buttonEl.style.display =\n",
              "          google.colab.kernel.accessAllowed ? 'block' : 'none';\n",
              "\n",
              "        async function convertToInteractive(key) {\n",
              "          const element = document.querySelector('#df-fd3dcdfd-89e7-4440-9778-c9a57e5c38b6');\n",
              "          const dataTable =\n",
              "            await google.colab.kernel.invokeFunction('convertToInteractive',\n",
              "                                                     [key], {});\n",
              "          if (!dataTable) return;\n",
              "\n",
              "          const docLinkHtml = 'Like what you see? Visit the ' +\n",
              "            '<a target=\"_blank\" href=https://colab.research.google.com/notebooks/data_table.ipynb>data table notebook</a>'\n",
              "            + ' to learn more about interactive tables.';\n",
              "          element.innerHTML = '';\n",
              "          dataTable['output_type'] = 'display_data';\n",
              "          await google.colab.output.renderOutput(dataTable, element);\n",
              "          const docLink = document.createElement('div');\n",
              "          docLink.innerHTML = docLinkHtml;\n",
              "          element.appendChild(docLink);\n",
              "        }\n",
              "      </script>\n",
              "    </div>\n",
              "  </div>\n",
              "  "
            ]
          },
          "metadata": {},
          "execution_count": 5
        }
      ],
      "source": [
        "df = pd.read_csv('train.csv')\n",
        "df.head()"
      ]
    },
    {
      "cell_type": "markdown",
      "metadata": {
        "id": "SlOCa95MzZ9U"
      },
      "source": [
        "At first glance, only one column has object as data type. So we start exploration from there."
      ]
    },
    {
      "cell_type": "code",
      "execution_count": null,
      "metadata": {
        "colab": {
          "base_uri": "https://localhost:8080/"
        },
        "id": "7fVMIg6tzWed",
        "outputId": "736cec14-436a-4408-d1c0-6c7891c0471c"
      },
      "outputs": [
        {
          "output_type": "execute_result",
          "data": {
            "text/plain": [
              "0    ABABDADBAB\n",
              "1    ACACCADCEB\n",
              "2    AAAEABCKAD\n",
              "3    BDBBAACBCB\n",
              "4    BDBCBBCHFE\n",
              "Name: f_27, dtype: object"
            ]
          },
          "metadata": {},
          "execution_count": 6
        }
      ],
      "source": [
        "df['f_27'].head()"
      ]
    },
    {
      "cell_type": "markdown",
      "metadata": {
        "id": "SC3tjkN7zpH6"
      },
      "source": [
        "The inputs here look weird.\n",
        "Let's check for cardinality"
      ]
    },
    {
      "cell_type": "code",
      "execution_count": null,
      "metadata": {
        "colab": {
          "base_uri": "https://localhost:8080/"
        },
        "id": "7M3dwJYCzn7v",
        "outputId": "8de6e50a-b74d-4f10-f047-87ff18f71667"
      },
      "outputs": [
        {
          "data": {
            "text/plain": [
              "741354"
            ]
          },
          "execution_count": 11,
          "metadata": {},
          "output_type": "execute_result"
        }
      ],
      "source": [
        "df['f_27'].nunique()"
      ]
    },
    {
      "cell_type": "markdown",
      "metadata": {
        "id": "hPRuln3Q0IKo"
      },
      "source": [
        "There are many unique values, which means high cardinality. Also, these rows might be repeating, so we have to check for that too."
      ]
    },
    {
      "cell_type": "code",
      "execution_count": null,
      "metadata": {
        "colab": {
          "base_uri": "https://localhost:8080/"
        },
        "id": "YsWh_sMszzp2",
        "outputId": "25ffeb03-9a8a-47fc-99e4-928b1f6e11e0"
      },
      "outputs": [
        {
          "data": {
            "text/plain": [
              "0"
            ]
          },
          "execution_count": 13,
          "metadata": {},
          "output_type": "execute_result"
        }
      ],
      "source": [
        "df.duplicated().sum()"
      ]
    },
    {
      "cell_type": "markdown",
      "metadata": {
        "id": "_IhB8kdK173-"
      },
      "source": [
        "From this, we can see that there are no duplicated rows. So, this feature might represent so useful information.\n",
        "\n",
        "Next, we explore the target column."
      ]
    },
    {
      "cell_type": "code",
      "execution_count": null,
      "metadata": {
        "colab": {
          "base_uri": "https://localhost:8080/"
        },
        "id": "nwuIgIiN12Mq",
        "outputId": "3290bd41-a450-4147-9c63-80ca24fc2c6e"
      },
      "outputs": [
        {
          "data": {
            "text/plain": [
              "0    462161\n",
              "1    437839\n",
              "Name: target, dtype: int64"
            ]
          },
          "execution_count": 17,
          "metadata": {},
          "output_type": "execute_result"
        }
      ],
      "source": [
        "df['target'].value_counts()"
      ]
    },
    {
      "cell_type": "markdown",
      "metadata": {
        "id": "97DQb7mU2p1H"
      },
      "source": [
        "The target column seems ok. Both classes have an almost even distributing of all values in the dataset."
      ]
    },
    {
      "cell_type": "code",
      "execution_count": null,
      "metadata": {
        "colab": {
          "base_uri": "https://localhost:8080/",
          "height": 607
        },
        "id": "5hMf5uwG2Zcv",
        "outputId": "b64d37b3-d860-4a11-9744-14fbf85105cf"
      },
      "outputs": [
        {
          "data": {
            "image/png": "[encoded data removed]",
            "text/plain": [
              "<Figure size 864x720 with 30 Axes>"
            ]
          },
          "metadata": {},
          "output_type": "display_data"
        }
      ],
      "source": [
        "plt.figure(figsize=(12, 10))\n",
        "plt.subplots_adjust(hspace=0.5)\n",
        "\n",
        "col_explore = df.drop(columns=['target', 'id', 'f_27']).columns\n",
        "k = 0\n",
        "\n",
        "for i in range(len(col_explore)):\n",
        "  ax = plt.subplot(5, 6, k + 1)\n",
        "  df.drop(columns=['target', 'id', 'f_27'])[col_explore[k]].hist(ax=ax)\n",
        "  ax.set_title(col_explore[k])\n",
        "  ax.set_yticks([])\n",
        "  k = k + 1\n",
        "   \n",
        "plt.show()"
      ]
    },
    {
      "cell_type": "markdown",
      "metadata": {
        "id": "-pszfMJWHBqo"
      },
      "source": [
        "The histogram of some of the features look good. For thoroughness, we describe each column (feature)"
      ]
    },
    {
      "cell_type": "code",
      "execution_count": null,
      "metadata": {
        "colab": {
          "base_uri": "https://localhost:8080/"
        },
        "id": "j2sQ96aRHRFf",
        "outputId": "b0def058-8c06-41c7-de4d-ab7279060354"
      },
      "outputs": [
        {
          "data": {
            "text/plain": [
              "count    900000.000000\n",
              "mean         -0.000286\n",
              "std           0.998888\n",
              "min          -4.599856\n",
              "25%          -0.675490\n",
              "50%           0.001144\n",
              "75%           0.674337\n",
              "max           4.749301\n",
              "Name: f_00, dtype: float64"
            ]
          },
          "execution_count": 62,
          "metadata": {},
          "output_type": "execute_result"
        }
      ],
      "source": [
        "df['f_00'].describe()"
      ]
    },
    {
      "cell_type": "code",
      "execution_count": null,
      "metadata": {
        "colab": {
          "base_uri": "https://localhost:8080/",
          "height": 1000
        },
        "id": "kvvFEsGB5490",
        "outputId": "62c9f69e-f1a3-4762-82cc-a3d0d6542073"
      },
      "outputs": [
        {
          "data": {
            "image/png": "[encoded data removed]",
            "text/plain": [
              "<Figure size 720x1800 with 30 Axes>"
            ]
          },
          "metadata": {},
          "output_type": "display_data"
        }
      ],
      "source": [
        "plt.figure(figsize=(10, 25))\n",
        "plt.subplots_adjust(hspace=0.4)\n",
        "\n",
        "col_explore = df.drop(columns=['target', 'id', 'f_27']).columns\n",
        "k = 0\n",
        "\n",
        "for i in range(len(col_explore)):\n",
        "  ax = plt.subplot(5, 6, k + 1)\n",
        "  df.drop(columns=['target', 'id', 'f_27']).boxplot(ax=ax, column=col_explore[k])\n",
        "  ax.set_title(col_explore[k])\n",
        "  ax.set_yticks([])\n",
        "  k = k + 1\n",
        "   \n",
        "plt.show()"
      ]
    },
    {
      "cell_type": "markdown",
      "metadata": {
        "id": "Wl7R1bezDdbn"
      },
      "source": [
        "Next, we check for colinearlity among the feature. But we drop 'f_27' first."
      ]
    },
    {
      "cell_type": "code",
      "execution_count": 6,
      "metadata": {
        "id": "9oGip1O77WwQ"
      },
      "outputs": [],
      "source": [
        "df.drop(columns='f_27', inplace=True)"
      ]
    },
    {
      "cell_type": "code",
      "execution_count": null,
      "metadata": {
        "colab": {
          "base_uri": "https://localhost:8080/",
          "height": 613
        },
        "id": "feRp_GMrFjZf",
        "outputId": "30a52117-b857-4c61-eda9-9c6b9c44502c"
      },
      "outputs": [
        {
          "data": {
            "text/plain": [
              "<matplotlib.axes._subplots.AxesSubplot at 0x7effe0202e50>"
            ]
          },
          "execution_count": 12,
          "metadata": {},
          "output_type": "execute_result"
        },
        {
          "data": {
            "image/png": "[encoded data removed]",
            "text/plain": [
              "<Figure size 1080x720 with 2 Axes>"
            ]
          },
          "metadata": {},
          "output_type": "display_data"
        }
      ],
      "source": [
        "plt.figure(figsize=(15, 10))\n",
        "sns.heatmap(df.drop(columns=['target', 'id']).corr());"
      ]
    },
    {
      "cell_type": "markdown",
      "metadata": {
        "id": "ns3ynT9VFlHb"
      },
      "source": [
        "As we can see from the heat map above, there is hardly any colinearlity among the features."
      ]
    },
    {
      "cell_type": "markdown",
      "source": [
        "## Feature Engineering"
      ],
      "metadata": {
        "id": "KzggBVJjgl6A"
      }
    },
    {
      "cell_type": "code",
      "source": [
        "f7_low, f7_high = df['f_07'].quantile([0.1, 0.9])\n",
        "feat_df = df[df['f_07'].between(f7_low, f7_high)]"
      ],
      "metadata": {
        "id": "LG2Sb5g8gtCC"
      },
      "execution_count": null,
      "outputs": []
    },
    {
      "cell_type": "code",
      "source": [
        "f8_low, f8_high = feat_df['f_08'].quantile([0.1, 0.9])\n",
        "feat_df = feat_df[feat_df['f_08'].between(f8_low, f8_high)]\n",
        "\n",
        "f9_low, f9_high = feat_df['f_09'].quantile([0.1, 0.9])\n",
        "feat_df = feat_df[feat_df['f_09'].between(f9_low, f9_high)]\n",
        "\n",
        "f10_low, f10_high = feat_df['f_10'].quantile([0.1, 0.9])\n",
        "feat_df = feat_df[feat_df['f_10'].between(f10_low, f10_high)]\n",
        "\n",
        "f11_low, f11_high = feat_df['f_11'].quantile([0.1, 0.9])\n",
        "feat_df = feat_df[feat_df['f_11'].between(f11_low, f11_high)]\n",
        "\n",
        "f12_low, f12_high = feat_df['f_12'].quantile([0.1, 0.9])\n",
        "feat_df = feat_df[feat_df['f_12'].between(f12_low, f12_high)]\n",
        "\n",
        "f13_low, f13_high = feat_df['f_13'].quantile([0.1, 0.9])\n",
        "feat_df = feat_df[feat_df['f_13'].between(f13_low, f13_high)]\n",
        "\n",
        "f14_low, f14_high = feat_df['f_14'].quantile([0.1, 0.9])\n",
        "feat_df = feat_df[feat_df['f_14'].between(f14_low, f14_high)]\n",
        "\n",
        "f15_low, f15_high = feat_df['f_15'].quantile([0.1, 0.9])\n",
        "feat_df = feat_df[feat_df['f_15'].between(f15_low, f15_high)]\n",
        "\n",
        "f16_low, f16_high = feat_df['f_16'].quantile([0.1, 0.9])\n",
        "feat_df = feat_df[feat_df['f_16'].between(f16_low, f16_high)]\n",
        "\n",
        "f17_low, f17_high = feat_df['f_17'].quantile([0.1, 0.9])\n",
        "feat_df = feat_df[feat_df['f_17'].between(f17_low, f17_high)]\n",
        "\n",
        "f18_low, f18_high = feat_df['f_18'].quantile([0.1, 0.9])\n",
        "feat_df = feat_df[feat_df['f_18'].between(f18_low, f18_high)]\n",
        "\n",
        "feat_df.info()"
      ],
      "metadata": {
        "colab": {
          "base_uri": "https://localhost:8080/"
        },
        "id": "gZKcLcrSh-co",
        "outputId": "30433eb7-369e-4141-fd8c-22e22f8065e3"
      },
      "execution_count": 15,
      "outputs": [
        {
          "output_type": "stream",
          "name": "stdout",
          "text": [
            "<class 'pandas.core.frame.DataFrame'>\n",
            "Int64Index: 330942 entries, 9 to 899996\n",
            "Data columns (total 32 columns):\n",
            " #   Column  Non-Null Count   Dtype  \n",
            "---  ------  --------------   -----  \n",
            " 0   id      330942 non-null  int64  \n",
            " 1   f_00    330942 non-null  float64\n",
            " 2   f_01    330942 non-null  float64\n",
            " 3   f_02    330942 non-null  float64\n",
            " 4   f_03    330942 non-null  float64\n",
            " 5   f_04    330942 non-null  float64\n",
            " 6   f_05    330942 non-null  float64\n",
            " 7   f_06    330942 non-null  float64\n",
            " 8   f_07    330942 non-null  int64  \n",
            " 9   f_08    330942 non-null  int64  \n",
            " 10  f_09    330942 non-null  int64  \n",
            " 11  f_10    330942 non-null  int64  \n",
            " 12  f_11    330942 non-null  int64  \n",
            " 13  f_12    330942 non-null  int64  \n",
            " 14  f_13    330942 non-null  int64  \n",
            " 15  f_14    330942 non-null  int64  \n",
            " 16  f_15    330942 non-null  int64  \n",
            " 17  f_16    330942 non-null  int64  \n",
            " 18  f_17    330942 non-null  int64  \n",
            " 19  f_18    330942 non-null  int64  \n",
            " 20  f_19    330942 non-null  float64\n",
            " 21  f_20    330942 non-null  float64\n",
            " 22  f_21    330942 non-null  float64\n",
            " 23  f_22    330942 non-null  float64\n",
            " 24  f_23    330942 non-null  float64\n",
            " 25  f_24    330942 non-null  float64\n",
            " 26  f_25    330942 non-null  float64\n",
            " 27  f_26    330942 non-null  float64\n",
            " 28  f_28    330942 non-null  float64\n",
            " 29  f_29    330942 non-null  int64  \n",
            " 30  f_30    330942 non-null  int64  \n",
            " 31  target  330942 non-null  int64  \n",
            "dtypes: float64(16), int64(16)\n",
            "memory usage: 83.3 MB\n"
          ]
        }
      ]
    },
    {
      "cell_type": "code",
      "source": [
        "X = feat_df.drop(columns=['id', 'target'])\n",
        "y = feat_df['target']\n",
        "\n",
        "X_train, X_val, y_train, y_val = train_test_split(X, y, test_size=0.2, random_state=42)\n",
        "print('Shape of X_train is ', X_train.shape)\n",
        "print('Shape of y_train is ', y_train.shape)\n",
        "print('Shape of X_val is ', X_val.shape)\n",
        "print('Shape of y_val is ', y_val.shape)"
      ],
      "metadata": {
        "colab": {
          "base_uri": "https://localhost:8080/"
        },
        "id": "KdJL1iYIkCJ5",
        "outputId": "d3265b24-e470-42ee-8257-248adf71023d"
      },
      "execution_count": 17,
      "outputs": [
        {
          "output_type": "stream",
          "name": "stdout",
          "text": [
            "Shape of X_train is  (264753, 30)\n",
            "Shape of y_train is  (264753,)\n",
            "Shape of X_val is  (66189, 30)\n",
            "Shape of y_val is  (66189,)\n"
          ]
        }
      ]
    },
    {
      "cell_type": "code",
      "source": [
        "baseline = round(y.value_counts(normalize=True).max(), 2)\n",
        "baseline"
      ],
      "metadata": {
        "colab": {
          "base_uri": "https://localhost:8080/"
        },
        "id": "-vWO_CbEkT9B",
        "outputId": "0c429237-56f4-43e4-ad0b-acc554bc13db"
      },
      "execution_count": 18,
      "outputs": [
        {
          "output_type": "execute_result",
          "data": {
            "text/plain": [
              "0.51"
            ]
          },
          "metadata": {},
          "execution_count": 18
        }
      ]
    },
    {
      "cell_type": "code",
      "source": [
        "n_cols = min(X_train.shape)\n",
        "clf_nn = Sequential([\n",
        "  Dense(n_cols * 2, input_shape=(n_cols,), activation='relu'),\n",
        "  Dense(n_cols * 2, activation='relu'),\n",
        "  Dense(n_cols * 2, activation='relu'),\n",
        "  Dense(n_cols * 2, activation='relu'),\n",
        "  Dense(1, activation='sigmoid')\n",
        "])\n",
        "clf_nn.compile(Adam(), 'binary_crossentropy', metrics=['Accuracy'])"
      ],
      "metadata": {
        "id": "Co402-Hckgln"
      },
      "execution_count": 19,
      "outputs": []
    },
    {
      "cell_type": "code",
      "source": [
        "clf_nn.fit(X_train, y_train, epochs=10, batch_size=64, validation_data=[X_val, y_val])"
      ],
      "metadata": {
        "colab": {
          "base_uri": "https://localhost:8080/"
        },
        "id": "LV-pzi2Skwek",
        "outputId": "094fb094-77a2-4d67-ef52-2f729aab4273"
      },
      "execution_count": 22,
      "outputs": [
        {
          "output_type": "stream",
          "name": "stdout",
          "text": [
            "Epoch 1/10\n",
            "4137/4137 [==============================] - 11s 3ms/step - loss: 0.3206 - Accuracy: 0.8732 - val_loss: 0.3321 - val_Accuracy: 0.8665\n",
            "Epoch 2/10\n",
            "4137/4137 [==============================] - 10s 3ms/step - loss: 0.3194 - Accuracy: 0.8743 - val_loss: 0.3391 - val_Accuracy: 0.8646\n",
            "Epoch 3/10\n",
            "4137/4137 [==============================] - 11s 3ms/step - loss: 0.3175 - Accuracy: 0.8751 - val_loss: 0.3320 - val_Accuracy: 0.8669\n",
            "Epoch 4/10\n",
            "4137/4137 [==============================] - 11s 3ms/step - loss: 0.3158 - Accuracy: 0.8759 - val_loss: 0.3297 - val_Accuracy: 0.8687\n",
            "Epoch 5/10\n",
            "4137/4137 [==============================] - 11s 3ms/step - loss: 0.3145 - Accuracy: 0.8767 - val_loss: 0.3303 - val_Accuracy: 0.8692\n",
            "Epoch 6/10\n",
            "4137/4137 [==============================] - 10s 3ms/step - loss: 0.3138 - Accuracy: 0.8772 - val_loss: 0.3282 - val_Accuracy: 0.8688\n",
            "Epoch 7/10\n",
            "4137/4137 [==============================] - 11s 3ms/step - loss: 0.3123 - Accuracy: 0.8781 - val_loss: 0.3296 - val_Accuracy: 0.8693\n",
            "Epoch 8/10\n",
            "4137/4137 [==============================] - 11s 3ms/step - loss: 0.3119 - Accuracy: 0.8779 - val_loss: 0.3273 - val_Accuracy: 0.8701\n",
            "Epoch 9/10\n",
            "4137/4137 [==============================] - 11s 3ms/step - loss: 0.3103 - Accuracy: 0.8785 - val_loss: 0.3301 - val_Accuracy: 0.8697\n",
            "Epoch 10/10\n",
            "4137/4137 [==============================] - 11s 3ms/step - loss: 0.3094 - Accuracy: 0.8797 - val_loss: 0.3295 - val_Accuracy: 0.8702\n"
          ]
        },
        {
          "output_type": "execute_result",
          "data": {
            "text/plain": [
              "<keras.callbacks.History at 0x7f873e49f050>"
            ]
          },
          "metadata": {},
          "execution_count": 22
        }
      ]
    },
    {
      "cell_type": "markdown",
      "metadata": {
        "id": "LtDpa3dBFsrg"
      },
      "source": [
        "## MODEL BUILDING"
      ]
    },
    {
      "cell_type": "code",
      "execution_count": 23,
      "metadata": {
        "id": "W6Rvm9yXYYyi"
      },
      "outputs": [],
      "source": [
        "def wrangle(filepath):\n",
        "  df = pd.read_csv(filepath).set_index('id')\n",
        "  df.drop(columns='f_27', inplace=True)\n",
        "\n",
        "  return df\n"
      ]
    },
    {
      "cell_type": "code",
      "execution_count": 24,
      "metadata": {
        "colab": {
          "base_uri": "https://localhost:8080/",
          "height": 280
        },
        "id": "tr1YLaxxD_kW",
        "outputId": "fd89a76a-c881-422c-d881-6c544b65bf23"
      },
      "outputs": [
        {
          "output_type": "execute_result",
          "data": {
            "text/plain": [
              "       f_00      f_01      f_02      f_03      f_04      f_05      f_06  f_07  \\\n",
              "0 -1.373246  0.238887 -0.243376  0.567405 -0.647715  0.839326  0.113133     1   \n",
              "1  1.697021 -1.710322 -2.230332 -0.545661  1.113173 -1.552175  0.447825     1   \n",
              "2  1.681726  0.616746 -1.027689  0.810492 -0.609086  0.113965 -0.708660     1   \n",
              "3 -0.118172 -0.587835 -0.804638  2.086822  0.371005 -0.128831 -0.282575     3   \n",
              "4  1.148481 -0.176567 -0.664871 -1.101343  0.467875  0.500117  0.407515     3   \n",
              "\n",
              "   f_08  f_09  ...      f_20      f_21      f_22      f_23      f_24  \\\n",
              "0     5     1  ... -0.919717  3.058541 -2.540739  0.766952 -2.730628   \n",
              "1     3     4  ... -1.075434  2.179050  2.278315 -0.633658 -1.217077   \n",
              "2     0     2  ... -3.485342 -0.784235 -1.385775 -0.520558 -0.009121   \n",
              "3     2     1  ... -2.100177 -2.343819  0.572594 -1.653213  1.686035   \n",
              "4     3     0  ...  0.605033  1.133665 -3.912929 -1.430366  2.127649   \n",
              "\n",
              "       f_25      f_26        f_28  f_29  f_30  \n",
              "0 -0.208177  1.363402   67.609153     0     0  \n",
              "1 -3.782194 -0.058316  377.096415     0     0  \n",
              "2  2.788536 -3.703488 -195.599702     0     2  \n",
              "3 -2.533098 -0.608601  210.826205     0     0  \n",
              "4 -3.306784  4.371371 -217.211798     0     1  \n",
              "\n",
              "[5 rows x 30 columns]"
            ],
            "text/html": [
              "\n",
              "  <div id=\"df-2880a9a6-b79c-46b9-9229-c6075fa2664c\">\n",
              "    <div class=\"colab-df-container\">\n",
              "      <div>\n",
              "<style scoped>\n",
              "    .dataframe tbody tr th:only-of-type {\n",
              "        vertical-align: middle;\n",
              "    }\n",
              "\n",
              "    .dataframe tbody tr th {\n",
              "        vertical-align: top;\n",
              "    }\n",
              "\n",
              "    .dataframe thead th {\n",
              "        text-align: right;\n",
              "    }\n",
              "</style>\n",
              "<table border=\"1\" class=\"dataframe\">\n",
              "  <thead>\n",
              "    <tr style=\"text-align: right;\">\n",
              "      <th></th>\n",
              "      <th>f_00</th>\n",
              "      <th>f_01</th>\n",
              "      <th>f_02</th>\n",
              "      <th>f_03</th>\n",
              "      <th>f_04</th>\n",
              "      <th>f_05</th>\n",
              "      <th>f_06</th>\n",
              "      <th>f_07</th>\n",
              "      <th>f_08</th>\n",
              "      <th>f_09</th>\n",
              "      <th>...</th>\n",
              "      <th>f_20</th>\n",
              "      <th>f_21</th>\n",
              "      <th>f_22</th>\n",
              "      <th>f_23</th>\n",
              "      <th>f_24</th>\n",
              "      <th>f_25</th>\n",
              "      <th>f_26</th>\n",
              "      <th>f_28</th>\n",
              "      <th>f_29</th>\n",
              "      <th>f_30</th>\n",
              "    </tr>\n",
              "  </thead>\n",
              "  <tbody>\n",
              "    <tr>\n",
              "      <th>0</th>\n",
              "      <td>-1.373246</td>\n",
              "      <td>0.238887</td>\n",
              "      <td>-0.243376</td>\n",
              "      <td>0.567405</td>\n",
              "      <td>-0.647715</td>\n",
              "      <td>0.839326</td>\n",
              "      <td>0.113133</td>\n",
              "      <td>1</td>\n",
              "      <td>5</td>\n",
              "      <td>1</td>\n",
              "      <td>...</td>\n",
              "      <td>-0.919717</td>\n",
              "      <td>3.058541</td>\n",
              "      <td>-2.540739</td>\n",
              "      <td>0.766952</td>\n",
              "      <td>-2.730628</td>\n",
              "      <td>-0.208177</td>\n",
              "      <td>1.363402</td>\n",
              "      <td>67.609153</td>\n",
              "      <td>0</td>\n",
              "      <td>0</td>\n",
              "    </tr>\n",
              "    <tr>\n",
              "      <th>1</th>\n",
              "      <td>1.697021</td>\n",
              "      <td>-1.710322</td>\n",
              "      <td>-2.230332</td>\n",
              "      <td>-0.545661</td>\n",
              "      <td>1.113173</td>\n",
              "      <td>-1.552175</td>\n",
              "      <td>0.447825</td>\n",
              "      <td>1</td>\n",
              "      <td>3</td>\n",
              "      <td>4</td>\n",
              "      <td>...</td>\n",
              "      <td>-1.075434</td>\n",
              "      <td>2.179050</td>\n",
              "      <td>2.278315</td>\n",
              "      <td>-0.633658</td>\n",
              "      <td>-1.217077</td>\n",
              "      <td>-3.782194</td>\n",
              "      <td>-0.058316</td>\n",
              "      <td>377.096415</td>\n",
              "      <td>0</td>\n",
              "      <td>0</td>\n",
              "    </tr>\n",
              "    <tr>\n",
              "      <th>2</th>\n",
              "      <td>1.681726</td>\n",
              "      <td>0.616746</td>\n",
              "      <td>-1.027689</td>\n",
              "      <td>0.810492</td>\n",
              "      <td>-0.609086</td>\n",
              "      <td>0.113965</td>\n",
              "      <td>-0.708660</td>\n",
              "      <td>1</td>\n",
              "      <td>0</td>\n",
              "      <td>2</td>\n",
              "      <td>...</td>\n",
              "      <td>-3.485342</td>\n",
              "      <td>-0.784235</td>\n",
              "      <td>-1.385775</td>\n",
              "      <td>-0.520558</td>\n",
              "      <td>-0.009121</td>\n",
              "      <td>2.788536</td>\n",
              "      <td>-3.703488</td>\n",
              "      <td>-195.599702</td>\n",
              "      <td>0</td>\n",
              "      <td>2</td>\n",
              "    </tr>\n",
              "    <tr>\n",
              "      <th>3</th>\n",
              "      <td>-0.118172</td>\n",
              "      <td>-0.587835</td>\n",
              "      <td>-0.804638</td>\n",
              "      <td>2.086822</td>\n",
              "      <td>0.371005</td>\n",
              "      <td>-0.128831</td>\n",
              "      <td>-0.282575</td>\n",
              "      <td>3</td>\n",
              "      <td>2</td>\n",
              "      <td>1</td>\n",
              "      <td>...</td>\n",
              "      <td>-2.100177</td>\n",
              "      <td>-2.343819</td>\n",
              "      <td>0.572594</td>\n",
              "      <td>-1.653213</td>\n",
              "      <td>1.686035</td>\n",
              "      <td>-2.533098</td>\n",
              "      <td>-0.608601</td>\n",
              "      <td>210.826205</td>\n",
              "      <td>0</td>\n",
              "      <td>0</td>\n",
              "    </tr>\n",
              "    <tr>\n",
              "      <th>4</th>\n",
              "      <td>1.148481</td>\n",
              "      <td>-0.176567</td>\n",
              "      <td>-0.664871</td>\n",
              "      <td>-1.101343</td>\n",
              "      <td>0.467875</td>\n",
              "      <td>0.500117</td>\n",
              "      <td>0.407515</td>\n",
              "      <td>3</td>\n",
              "      <td>3</td>\n",
              "      <td>0</td>\n",
              "      <td>...</td>\n",
              "      <td>0.605033</td>\n",
              "      <td>1.133665</td>\n",
              "      <td>-3.912929</td>\n",
              "      <td>-1.430366</td>\n",
              "      <td>2.127649</td>\n",
              "      <td>-3.306784</td>\n",
              "      <td>4.371371</td>\n",
              "      <td>-217.211798</td>\n",
              "      <td>0</td>\n",
              "      <td>1</td>\n",
              "    </tr>\n",
              "  </tbody>\n",
              "</table>\n",
              "<p>5 rows × 30 columns</p>\n",
              "</div>\n",
              "      <button class=\"colab-df-convert\" onclick=\"convertToInteractive('df-2880a9a6-b79c-46b9-9229-c6075fa2664c')\"\n",
              "              title=\"Convert this dataframe to an interactive table.\"\n",
              "              style=\"display:none;\">\n",
              "        \n",
              "  <svg xmlns=\"http://www.w3.org/2000/svg\" height=\"24px\"viewBox=\"0 0 24 24\"\n",
              "       width=\"24px\">\n",
              "    <path d=\"M0 0h24v24H0V0z\" fill=\"none\"/>\n",
              "    <path d=\"M18.56 5.44l.94 2.06.94-2.06 2.06-.94-2.06-.94-.94-2.06-.94 2.06-2.06.94zm-11 1L8.5 8.5l.94-2.06 2.06-.94-2.06-.94L8.5 2.5l-.94 2.06-2.06.94zm10 10l.94 2.06.94-2.06 2.06-.94-2.06-.94-.94-2.06-.94 2.06-2.06.94z\"/><path d=\"M17.41 7.96l-1.37-1.37c-.4-.4-.92-.59-1.43-.59-.52 0-1.04.2-1.43.59L10.3 9.45l-7.72 7.72c-.78.78-.78 2.05 0 2.83L4 21.41c.39.39.9.59 1.41.59.51 0 1.02-.2 1.41-.59l7.78-7.78 2.81-2.81c.8-.78.8-2.07 0-2.86zM5.41 20L4 18.59l7.72-7.72 1.47 1.35L5.41 20z\"/>\n",
              "  </svg>\n",
              "      </button>\n",
              "      \n",
              "  <style>\n",
              "    .colab-df-container {\n",
              "      display:flex;\n",
              "      flex-wrap:wrap;\n",
              "      gap: 12px;\n",
              "    }\n",
              "\n",
              "    .colab-df-convert {\n",
              "      background-color: #E8F0FE;\n",
              "      border: none;\n",
              "      border-radius: 50%;\n",
              "      cursor: pointer;\n",
              "      display: none;\n",
              "      fill: #1967D2;\n",
              "      height: 32px;\n",
              "      padding: 0 0 0 0;\n",
              "      width: 32px;\n",
              "    }\n",
              "\n",
              "    .colab-df-convert:hover {\n",
              "      background-color: #E2EBFA;\n",
              "      box-shadow: 0px 1px 2px rgba(60, 64, 67, 0.3), 0px 1px 3px 1px rgba(60, 64, 67, 0.15);\n",
              "      fill: #174EA6;\n",
              "    }\n",
              "\n",
              "    [theme=dark] .colab-df-convert {\n",
              "      background-color: #3B4455;\n",
              "      fill: #D2E3FC;\n",
              "    }\n",
              "\n",
              "    [theme=dark] .colab-df-convert:hover {\n",
              "      background-color: #434B5C;\n",
              "      box-shadow: 0px 1px 3px 1px rgba(0, 0, 0, 0.15);\n",
              "      filter: drop-shadow(0px 1px 2px rgba(0, 0, 0, 0.3));\n",
              "      fill: #FFFFFF;\n",
              "    }\n",
              "  </style>\n",
              "\n",
              "      <script>\n",
              "        const buttonEl =\n",
              "          document.querySelector('#df-2880a9a6-b79c-46b9-9229-c6075fa2664c button.colab-df-convert');\n",
              "        buttonEl.style.display =\n",
              "          google.colab.kernel.accessAllowed ? 'block' : 'none';\n",
              "\n",
              "        async function convertToInteractive(key) {\n",
              "          const element = document.querySelector('#df-2880a9a6-b79c-46b9-9229-c6075fa2664c');\n",
              "          const dataTable =\n",
              "            await google.colab.kernel.invokeFunction('convertToInteractive',\n",
              "                                                     [key], {});\n",
              "          if (!dataTable) return;\n",
              "\n",
              "          const docLinkHtml = 'Like what you see? Visit the ' +\n",
              "            '<a target=\"_blank\" href=https://colab.research.google.com/notebooks/data_table.ipynb>data table notebook</a>'\n",
              "            + ' to learn more about interactive tables.';\n",
              "          element.innerHTML = '';\n",
              "          dataTable['output_type'] = 'display_data';\n",
              "          await google.colab.output.renderOutput(dataTable, element);\n",
              "          const docLink = document.createElement('div');\n",
              "          docLink.innerHTML = docLinkHtml;\n",
              "          element.appendChild(docLink);\n",
              "        }\n",
              "      </script>\n",
              "    </div>\n",
              "  </div>\n",
              "  "
            ]
          },
          "metadata": {},
          "execution_count": 24
        }
      ],
      "source": [
        "X = df.drop(columns=['id', 'target'])\n",
        "y = df['target']\n",
        "X.head()"
      ]
    },
    {
      "cell_type": "code",
      "execution_count": 25,
      "metadata": {
        "colab": {
          "base_uri": "https://localhost:8080/"
        },
        "id": "sl_j24LtGZVc",
        "outputId": "fd7f91e1-e1da-4cba-a997-d16b51b248b6"
      },
      "outputs": [
        {
          "output_type": "stream",
          "name": "stdout",
          "text": [
            "Shape of X_train is  (720000, 30)\n",
            "Shape of y_train is  (720000,)\n",
            "Shape of X_val is  (180000, 30)\n",
            "Shape of y_val is  (180000,)\n"
          ]
        }
      ],
      "source": [
        "X_train, X_val, y_train, y_val = train_test_split(X, y, test_size=0.2, random_state=42)\n",
        "print('Shape of X_train is ', X_train.shape)\n",
        "print('Shape of y_train is ', y_train.shape)\n",
        "print('Shape of X_val is ', X_val.shape)\n",
        "print('Shape of y_val is ', y_val.shape)"
      ]
    },
    {
      "cell_type": "markdown",
      "metadata": {
        "id": "SdYI5vdKMR8E"
      },
      "source": [
        "Baseline:"
      ]
    },
    {
      "cell_type": "code",
      "execution_count": null,
      "metadata": {
        "colab": {
          "base_uri": "https://localhost:8080/"
        },
        "id": "6X3fBhZXMUBY",
        "outputId": "7c10a212-372b-4055-8c7f-c78c3deac26e"
      },
      "outputs": [
        {
          "output_type": "execute_result",
          "data": {
            "text/plain": [
              "0.51"
            ]
          },
          "metadata": {},
          "execution_count": 18
        }
      ],
      "source": [
        "round(y.value_counts(normalize=True).max(), 2)"
      ]
    },
    {
      "cell_type": "markdown",
      "metadata": {
        "id": "38gWoCypMhZD"
      },
      "source": [
        "therefore the baseline of the model is about 51%"
      ]
    },
    {
      "cell_type": "markdown",
      "source": [
        "## Decision Tree Classifier"
      ],
      "metadata": {
        "id": "jDO1h2R-iDee"
      }
    },
    {
      "cell_type": "code",
      "execution_count": null,
      "metadata": {
        "colab": {
          "base_uri": "https://localhost:8080/"
        },
        "id": "sfCVdQL4HChj",
        "outputId": "022cc2e3-0d42-482d-e7c3-6bbed193e2f3"
      },
      "outputs": [
        {
          "output_type": "stream",
          "name": "stdout",
          "text": [
            "Pipeline(steps=[('decisiontreeclassifier',\n",
            "                 DecisionTreeClassifier(random_state=42))])\n"
          ]
        }
      ],
      "source": [
        "clf = make_pipeline(DecisionTreeClassifier(random_state=42))\n",
        "print(clf)\n"
      ]
    },
    {
      "cell_type": "code",
      "execution_count": null,
      "metadata": {
        "colab": {
          "base_uri": "https://localhost:8080/"
        },
        "id": "2Jve1DXLL868",
        "outputId": "6aa7e4e5-4766-4db1-b28c-d4aa18c48954"
      },
      "outputs": [
        {
          "output_type": "execute_result",
          "data": {
            "text/plain": [
              "Pipeline(steps=[('decisiontreeclassifier',\n",
              "                 DecisionTreeClassifier(random_state=42))])"
            ]
          },
          "metadata": {},
          "execution_count": 12
        }
      ],
      "source": [
        "clf.fit(X_train, y_train)"
      ]
    },
    {
      "cell_type": "code",
      "execution_count": null,
      "metadata": {
        "colab": {
          "base_uri": "https://localhost:8080/"
        },
        "id": "f4fHbG_XM6SE",
        "outputId": "aae1b9a5-c250-4680-8581-943db3303fc3"
      },
      "outputs": [
        {
          "output_type": "stream",
          "name": "stdout",
          "text": [
            "Accuracy Score for the Training Data is  1.0\n",
            "Accuracy Score for the Validation Data is  0.7208222222222223\n"
          ]
        }
      ],
      "source": [
        "print('Accuracy Score for the Training Data is ', clf.score(X_train, y_train))\n",
        "print('Accuracy Score for the Validation Data is ', clf.score(X_val, y_val))"
      ]
    },
    {
      "cell_type": "markdown",
      "metadata": {
        "id": "RTtD_YFqPQwo"
      },
      "source": [
        "As can be seen, the model performs exceptionally on training data, but fails to do so on validation data. Although, it beats baseline on both occassion, it does not generalize, and this is due to overfitting on training data."
      ]
    },
    {
      "cell_type": "markdown",
      "metadata": {
        "id": "6I9TFHt1BBYC"
      },
      "source": [
        "Next, we try using Ensemble Model\n",
        "\n",
        "## Random Forest Classifier"
      ]
    },
    {
      "cell_type": "code",
      "execution_count": null,
      "metadata": {
        "colab": {
          "base_uri": "https://localhost:8080/"
        },
        "id": "8GWFpoPDPGAU",
        "outputId": "8822a177-5fe9-496c-e1dc-2112ec1e38a4"
      },
      "outputs": [
        {
          "output_type": "stream",
          "name": "stdout",
          "text": [
            "Pipeline(steps=[('randomforestclassifier', RandomForestClassifier())])\n"
          ]
        }
      ],
      "source": [
        "clf_forest = make_pipeline(RandomForestClassifier())\n",
        "print(clf_forest)"
      ]
    },
    {
      "cell_type": "code",
      "execution_count": null,
      "metadata": {
        "colab": {
          "base_uri": "https://localhost:8080/"
        },
        "id": "nSwZPBVNNHVg",
        "outputId": "308f6247-0402-4d5b-d623-6259e90d7622"
      },
      "outputs": [
        {
          "output_type": "execute_result",
          "data": {
            "text/plain": [
              "Pipeline(steps=[('randomforestclassifier', RandomForestClassifier())])"
            ]
          },
          "metadata": {},
          "execution_count": 16
        }
      ],
      "source": [
        "clf_forest.fit(X_train, y_train)"
      ]
    },
    {
      "cell_type": "code",
      "execution_count": null,
      "metadata": {
        "colab": {
          "base_uri": "https://localhost:8080/"
        },
        "id": "klKE9SVDBzQm",
        "outputId": "f949be44-1cf5-44d1-d34d-b9dde14bd9ea"
      },
      "outputs": [
        {
          "output_type": "execute_result",
          "data": {
            "text/plain": [
              "0.8244277777777778"
            ]
          },
          "metadata": {},
          "execution_count": 17
        }
      ],
      "source": [
        "clf_forest.score(X_val, y_val)"
      ]
    },
    {
      "cell_type": "markdown",
      "metadata": {
        "id": "c3t65B6RZBhw"
      },
      "source": [
        "The Random Tree Classifier increase the accuracy on the validation set but could it get better.\n",
        "\n",
        "Next we try another ensemble model\n",
        "\n",
        "## Gradient Boosting"
      ]
    },
    {
      "cell_type": "code",
      "execution_count": null,
      "metadata": {
        "id": "e0ueWmy0-X97"
      },
      "outputs": [],
      "source": [
        "clf_grad = GradientBoostingClassifier()"
      ]
    },
    {
      "cell_type": "code",
      "execution_count": null,
      "metadata": {
        "colab": {
          "base_uri": "https://localhost:8080/"
        },
        "id": "WrB7J6upZ8sa",
        "outputId": "c3e65f15-b03f-4905-af64-5dffa1d56bb7"
      },
      "outputs": [
        {
          "data": {
            "text/plain": [
              "GradientBoostingClassifier()"
            ]
          },
          "execution_count": 12,
          "metadata": {},
          "output_type": "execute_result"
        }
      ],
      "source": [
        "clf_grad.fit(X_train, y_train)"
      ]
    },
    {
      "cell_type": "code",
      "execution_count": null,
      "metadata": {
        "colab": {
          "base_uri": "https://localhost:8080/"
        },
        "id": "U0bTzrsfZ_tL",
        "outputId": "a385a2b1-61c3-4ca6-a580-1a6a02be0048"
      },
      "outputs": [
        {
          "data": {
            "text/plain": [
              "0.7366944444444444"
            ]
          },
          "execution_count": 13,
          "metadata": {},
          "output_type": "execute_result"
        }
      ],
      "source": [
        "clf_grad.score(X_train, y_train)"
      ]
    },
    {
      "cell_type": "code",
      "execution_count": null,
      "metadata": {
        "colab": {
          "base_uri": "https://localhost:8080/"
        },
        "id": "zLtnLM7Odp88",
        "outputId": "f68ec566-abd6-4c17-e74c-1bdb9753e362"
      },
      "outputs": [
        {
          "data": {
            "text/plain": [
              "0.7353611111111111"
            ]
          },
          "execution_count": 14,
          "metadata": {},
          "output_type": "execute_result"
        }
      ],
      "source": [
        "clf_grad.score(X_val, y_val)"
      ]
    },
    {
      "cell_type": "markdown",
      "metadata": {
        "id": "XLQaUIUWe13-"
      },
      "source": [
        "Unfortunately, Gradient Boosting does not have a better accuracy than the Random Forest Classifier"
      ]
    },
    {
      "cell_type": "markdown",
      "metadata": {
        "id": "gihqhEOhftTU"
      },
      "source": [
        "Since this is a multipurpose model, I plan on trying as much classification algorithm as possible.\n",
        "\n",
        "Next, we try \n",
        "\n",
        "## XGBOOST"
      ]
    },
    {
      "cell_type": "code",
      "execution_count": null,
      "metadata": {
        "id": "X2SlpPNadtSn"
      },
      "outputs": [],
      "source": [
        "clf_xgb = xgb.XGBClassifier(n_jobs=multiprocessing.cpu_count() // 2)"
      ]
    },
    {
      "cell_type": "code",
      "execution_count": null,
      "metadata": {
        "colab": {
          "base_uri": "https://localhost:8080/"
        },
        "id": "iTs6UNssgLaq",
        "outputId": "3a80e84d-5c1f-4984-b3cd-ea437ecca85f"
      },
      "outputs": [
        {
          "data": {
            "text/plain": [
              "XGBClassifier()"
            ]
          },
          "execution_count": 18,
          "metadata": {},
          "output_type": "execute_result"
        }
      ],
      "source": [
        "clf_xgb.fit(X_train, y_train)"
      ]
    },
    {
      "cell_type": "code",
      "execution_count": null,
      "metadata": {
        "colab": {
          "base_uri": "https://localhost:8080/"
        },
        "id": "Ula1BXHrgONy",
        "outputId": "03393318-d7df-41c4-d833-eda3577a481a"
      },
      "outputs": [
        {
          "data": {
            "text/plain": [
              "0.7412305555555555"
            ]
          },
          "execution_count": 19,
          "metadata": {},
          "output_type": "execute_result"
        }
      ],
      "source": [
        "clf_xgb.score(X_train, y_train)"
      ]
    },
    {
      "cell_type": "code",
      "execution_count": null,
      "metadata": {
        "colab": {
          "base_uri": "https://localhost:8080/"
        },
        "id": "8vyWYfj9hFcT",
        "outputId": "66a58b1e-533e-4701-a035-1a6268d04b6c"
      },
      "outputs": [
        {
          "data": {
            "text/plain": [
              "0.7401388888888889"
            ]
          },
          "execution_count": 20,
          "metadata": {},
          "output_type": "execute_result"
        }
      ],
      "source": [
        "clf_xgb.score(X_val, y_val)"
      ]
    },
    {
      "cell_type": "markdown",
      "metadata": {
        "id": "nC9AXI_ohLgM"
      },
      "source": [
        "Well, XGBoost does perform better than the normal Gradient Boosting and is faster. But the accuracy still doesn't compare to the Random Forest Classsifier.\n",
        "\n",
        "Next, we use\n",
        "\n",
        "## K-Nearest Neighbors"
      ]
    },
    {
      "cell_type": "code",
      "execution_count": null,
      "metadata": {
        "id": "G-dQlLcciMj5"
      },
      "outputs": [],
      "source": [
        "train_acc = dict()\n",
        "val_acc = dict()\n",
        "for k in range(5, 50, 5):\n",
        "  start_time = time.time()\n",
        "  clf_knn = make_pipeline(MinMaxScaler(), KNeighborsClassifier(n_neighbors=k))\n",
        "  clf_knn.fit(X_train, y_train)\n",
        "  train_acc['k'] = accuracy_score(y_train, clf_knn.predict(X_train))\n",
        "  val_acc['k'] = accuracy_score(y_val, clf_knn.predict(X_val))\n",
        "  time_elasped = time.time() - start_time\n",
        "  print(f'For {k} neighbors, the model took {time_elasped} to complete')"
      ]
    },
    {
      "cell_type": "code",
      "execution_count": null,
      "metadata": {
        "colab": {
          "background_save": true,
          "base_uri": "https://localhost:8080/"
        },
        "id": "MSsxiJKCiZaz",
        "outputId": "3f678019-e742-4f8a-f3eb-17e2620b242c"
      },
      "outputs": [
        {
          "name": "stdout",
          "output_type": "stream",
          "text": [
            "Fitting 5 folds for each of 8 candidates, totalling 40 fits\n"
          ]
        }
      ],
      "source": [
        "train_acc"
      ]
    },
    {
      "cell_type": "code",
      "execution_count": null,
      "metadata": {
        "id": "TEIimsTZie0e",
        "colab": {
          "base_uri": "https://localhost:8080/"
        },
        "outputId": "5d1fba54-e533-45b6-9707-e1113e7b3c87"
      },
      "outputs": [
        {
          "output_type": "execute_result",
          "data": {
            "text/plain": [
              "Pipeline(steps=[('minmaxscaler', MinMaxScaler()),\n",
              "                ('kneighborsclassifier', KNeighborsClassifier())])"
            ]
          },
          "metadata": {},
          "execution_count": 14
        }
      ],
      "source": [
        "clf_knn = make_pipeline(MinMaxScaler(), KNeighborsClassifier(n_neighbors=k))\n",
        "clf_knn"
      ]
    },
    {
      "cell_type": "markdown",
      "source": [
        "How about using \n",
        "## Neural Networks\n",
        "\n",
        "The data seems to be large enough (with 700,000 rows) for an neural network model"
      ],
      "metadata": {
        "id": "lNbYFeg8DAgV"
      }
    },
    {
      "cell_type": "code",
      "source": [
        "n_cols = min(X_train.shape)\n",
        "clf_nn = Sequential([\n",
        "  Dense(n_cols * 2, input_shape=(n_cols,), activation='relu'),\n",
        "  Dense(n_cols * 2, activation='relu'),\n",
        "  Dense(n_cols * 2, activation='relu'),\n",
        "  Dense(n_cols * 2, activation='relu'),\n",
        "  Dense(n_cols * 2, activation='relu'),\n",
        "  Dense(n_cols * 2, activation='relu'),\n",
        "  Dense(1, activation='sigmoid')\n",
        "])\n",
        "clf_nn.summary()"
      ],
      "metadata": {
        "colab": {
          "base_uri": "https://localhost:8080/"
        },
        "id": "2eUuYKWGDPUV",
        "outputId": "0bf6646f-59e9-4d36-a60b-3f6c91d61f1f"
      },
      "execution_count": 61,
      "outputs": [
        {
          "output_type": "stream",
          "name": "stdout",
          "text": [
            "Model: \"sequential_8\"\n",
            "_________________________________________________________________\n",
            " Layer (type)                Output Shape              Param #   \n",
            "=================================================================\n",
            " dense_37 (Dense)            (None, 60)                1860      \n",
            "                                                                 \n",
            " dense_38 (Dense)            (None, 60)                3660      \n",
            "                                                                 \n",
            " dense_39 (Dense)            (None, 60)                3660      \n",
            "                                                                 \n",
            " dense_40 (Dense)            (None, 60)                3660      \n",
            "                                                                 \n",
            " dense_41 (Dense)            (None, 60)                3660      \n",
            "                                                                 \n",
            " dense_42 (Dense)            (None, 60)                3660      \n",
            "                                                                 \n",
            " dense_43 (Dense)            (None, 1)                 61        \n",
            "                                                                 \n",
            "=================================================================\n",
            "Total params: 20,221\n",
            "Trainable params: 20,221\n",
            "Non-trainable params: 0\n",
            "_________________________________________________________________\n"
          ]
        }
      ]
    },
    {
      "cell_type": "code",
      "source": [
        "clf_nn.compile(Adam(), 'binary_crossentropy', metrics=['Accuracy'])"
      ],
      "metadata": {
        "id": "xmVN3S8BHBVW"
      },
      "execution_count": 28,
      "outputs": []
    },
    {
      "cell_type": "code",
      "source": [
        "clf_nn.fit(X_train, y_train, epochs=50, batch_size=64, validation_data=[X_val, y_val])"
      ],
      "metadata": {
        "id": "wS_Ii4bmJR6k"
      },
      "execution_count": null,
      "outputs": []
    },
    {
      "cell_type": "code",
      "source": [
        "models = [\n",
        "  Sequential([\n",
        "  Dense(n_cols * 2, input_shape=(n_cols,), activation='relu'),\n",
        "  Dense(n_cols * 2, activation='relu'),\n",
        "  Dense(n_cols * 2, activation='relu'),\n",
        "  Dense(1, activation='sigmoid')\n",
        "]), \n",
        "\n",
        "Sequential([\n",
        "  Dense(n_cols * 2, input_shape=(n_cols,), activation='relu'),\n",
        "  Dense(n_cols * 2, activation='relu'),\n",
        "  Dense(n_cols * 2, activation='relu'),\n",
        "  Dense(1, activation='sigmoid')\n",
        "]), \n",
        "\n",
        "Sequential([\n",
        "  Dense(n_cols * 2, input_shape=(n_cols,), activation='relu'),\n",
        "  Dense(n_cols * 2, activation='relu'),\n",
        "  Dense(n_cols * 2, activation='relu'),\n",
        "  Dense(1, activation='sigmoid')\n",
        "]), \n",
        "\n",
        "Sequential([\n",
        "  Dense(n_cols * 2, input_shape=(n_cols,), activation='relu'),\n",
        "  Dense(n_cols * 2, activation='relu'),\n",
        "  Dense(n_cols * 2, activation='relu'),\n",
        "  Dense(1, activation='sigmoid')\n",
        "]), \n",
        "\n",
        "Sequential([\n",
        "  Dense(n_cols * 2, input_shape=(n_cols,), activation='relu'),\n",
        "  Dense(n_cols * 2, activation='relu'),\n",
        "  Dense(n_cols * 2, activation='relu'),\n",
        "  Dense(1, activation='sigmoid')\n",
        "]), \n",
        "]\n",
        "\n",
        "for model in models:\n",
        "  model.compile(Adam(), 'binary_crossentropy', metrics=['Accuracy'])"
      ],
      "metadata": {
        "id": "92Ae3Xh7mwDb"
      },
      "execution_count": 31,
      "outputs": []
    },
    {
      "cell_type": "code",
      "source": [
        "def neural_cross_val(models, X, y, cv=5, epochs=10, batch_size=64):\n",
        "  kf = KFold(n_splits=cv, shuffle=True)\n",
        "  i = 0\n",
        "  for train_index, test_index in kf.split(X):\n",
        "    print('Training ', i, 'for', type(models[i]).__name__)\n",
        "    models[i].fit(X.iloc[train_index], y.iloc[train_index], epochs=epochs, batch_size=batch_size, validation_data=[X.iloc[test_index], y.iloc[test_index]])\n",
        "    i = i + 1\n"
      ],
      "metadata": {
        "id": "AXArkVphogck"
      },
      "execution_count": 35,
      "outputs": []
    },
    {
      "cell_type": "code",
      "source": [
        "neural_cross_val(models, X_train, y_train)"
      ],
      "metadata": {
        "colab": {
          "base_uri": "https://localhost:8080/"
        },
        "id": "sp13CeiJrSxM",
        "outputId": "8bb8f15f-429d-4f73-a353-9090a402139d"
      },
      "execution_count": 36,
      "outputs": [
        {
          "output_type": "stream",
          "name": "stdout",
          "text": [
            "Training  0 for Sequential\n",
            "Epoch 1/10\n",
            "9000/9000 [==============================] - 20s 2ms/step - loss: 0.5850 - Accuracy: 0.6926 - val_loss: 0.5262 - val_Accuracy: 0.7380\n",
            "Epoch 2/10\n",
            "9000/9000 [==============================] - 20s 2ms/step - loss: 0.4936 - Accuracy: 0.7633 - val_loss: 0.4563 - val_Accuracy: 0.7880\n",
            "Epoch 3/10\n",
            "9000/9000 [==============================] - 20s 2ms/step - loss: 0.4201 - Accuracy: 0.8130 - val_loss: 0.4129 - val_Accuracy: 0.8192\n",
            "Epoch 4/10\n",
            "9000/9000 [==============================] - 22s 2ms/step - loss: 0.3755 - Accuracy: 0.8413 - val_loss: 0.3650 - val_Accuracy: 0.8469\n",
            "Epoch 5/10\n",
            "9000/9000 [==============================] - 20s 2ms/step - loss: 0.3569 - Accuracy: 0.8527 - val_loss: 0.3538 - val_Accuracy: 0.8548\n",
            "Epoch 6/10\n",
            "9000/9000 [==============================] - 19s 2ms/step - loss: 0.3442 - Accuracy: 0.8600 - val_loss: 0.3369 - val_Accuracy: 0.8654\n",
            "Epoch 7/10\n",
            "9000/9000 [==============================] - 19s 2ms/step - loss: 0.3353 - Accuracy: 0.8655 - val_loss: 0.3310 - val_Accuracy: 0.8682\n",
            "Epoch 8/10\n",
            "9000/9000 [==============================] - 19s 2ms/step - loss: 0.3291 - Accuracy: 0.8692 - val_loss: 0.3284 - val_Accuracy: 0.8699\n",
            "Epoch 9/10\n",
            "9000/9000 [==============================] - 19s 2ms/step - loss: 0.3233 - Accuracy: 0.8723 - val_loss: 0.3205 - val_Accuracy: 0.8735\n",
            "Epoch 10/10\n",
            "9000/9000 [==============================] - 19s 2ms/step - loss: 0.3196 - Accuracy: 0.8742 - val_loss: 0.3234 - val_Accuracy: 0.8721\n",
            "Training  1 for Sequential\n",
            "Epoch 1/10\n",
            "9000/9000 [==============================] - 20s 2ms/step - loss: 0.5847 - Accuracy: 0.6913 - val_loss: 0.5543 - val_Accuracy: 0.7234\n",
            "Epoch 2/10\n",
            "9000/9000 [==============================] - 19s 2ms/step - loss: 0.4917 - Accuracy: 0.7654 - val_loss: 0.4498 - val_Accuracy: 0.7926\n",
            "Epoch 3/10\n",
            "9000/9000 [==============================] - 19s 2ms/step - loss: 0.4176 - Accuracy: 0.8152 - val_loss: 0.3864 - val_Accuracy: 0.8338\n",
            "Epoch 4/10\n",
            "9000/9000 [==============================] - 19s 2ms/step - loss: 0.3811 - Accuracy: 0.8382 - val_loss: 0.3637 - val_Accuracy: 0.8484\n",
            "Epoch 5/10\n",
            "9000/9000 [==============================] - 19s 2ms/step - loss: 0.3621 - Accuracy: 0.8496 - val_loss: 0.3544 - val_Accuracy: 0.8540\n",
            "Epoch 6/10\n",
            "9000/9000 [==============================] - 19s 2ms/step - loss: 0.3502 - Accuracy: 0.8564 - val_loss: 0.3432 - val_Accuracy: 0.8605\n",
            "Epoch 7/10\n",
            "9000/9000 [==============================] - 20s 2ms/step - loss: 0.3407 - Accuracy: 0.8625 - val_loss: 0.3568 - val_Accuracy: 0.8530\n",
            "Epoch 8/10\n",
            "9000/9000 [==============================] - 19s 2ms/step - loss: 0.3340 - Accuracy: 0.8664 - val_loss: 0.3362 - val_Accuracy: 0.8647\n",
            "Epoch 9/10\n",
            "9000/9000 [==============================] - 19s 2ms/step - loss: 0.3280 - Accuracy: 0.8694 - val_loss: 0.3383 - val_Accuracy: 0.8637\n",
            "Epoch 10/10\n",
            "9000/9000 [==============================] - 19s 2ms/step - loss: 0.3234 - Accuracy: 0.8725 - val_loss: 0.3199 - val_Accuracy: 0.8744\n",
            "Training  2 for Sequential\n",
            "Epoch 1/10\n",
            "9000/9000 [==============================] - 20s 2ms/step - loss: 0.5852 - Accuracy: 0.6919 - val_loss: 0.5282 - val_Accuracy: 0.7400\n",
            "Epoch 2/10\n",
            "9000/9000 [==============================] - 20s 2ms/step - loss: 0.4799 - Accuracy: 0.7738 - val_loss: 0.4353 - val_Accuracy: 0.8038\n",
            "Epoch 3/10\n",
            "9000/9000 [==============================] - 19s 2ms/step - loss: 0.4000 - Accuracy: 0.8260 - val_loss: 0.3798 - val_Accuracy: 0.8379\n",
            "Epoch 4/10\n",
            "9000/9000 [==============================] - 20s 2ms/step - loss: 0.3702 - Accuracy: 0.8435 - val_loss: 0.3614 - val_Accuracy: 0.8489\n",
            "Epoch 5/10\n",
            "9000/9000 [==============================] - 19s 2ms/step - loss: 0.3538 - Accuracy: 0.8537 - val_loss: 0.3481 - val_Accuracy: 0.8578\n",
            "Epoch 6/10\n",
            "9000/9000 [==============================] - 19s 2ms/step - loss: 0.3435 - Accuracy: 0.8600 - val_loss: 0.3422 - val_Accuracy: 0.8602\n",
            "Epoch 7/10\n",
            "9000/9000 [==============================] - 19s 2ms/step - loss: 0.3351 - Accuracy: 0.8653 - val_loss: 0.3328 - val_Accuracy: 0.8665\n",
            "Epoch 8/10\n",
            "9000/9000 [==============================] - 20s 2ms/step - loss: 0.3286 - Accuracy: 0.8686 - val_loss: 0.3298 - val_Accuracy: 0.8679\n",
            "Epoch 9/10\n",
            "9000/9000 [==============================] - 19s 2ms/step - loss: 0.3227 - Accuracy: 0.8717 - val_loss: 0.3210 - val_Accuracy: 0.8732\n",
            "Epoch 10/10\n",
            "9000/9000 [==============================] - 20s 2ms/step - loss: 0.3191 - Accuracy: 0.8742 - val_loss: 0.3217 - val_Accuracy: 0.8736\n",
            "Training  3 for Sequential\n",
            "Epoch 1/10\n",
            "9000/9000 [==============================] - 23s 2ms/step - loss: 0.5667 - Accuracy: 0.7065 - val_loss: 0.5100 - val_Accuracy: 0.7526\n",
            "Epoch 2/10\n",
            "9000/9000 [==============================] - 20s 2ms/step - loss: 0.4663 - Accuracy: 0.7829 - val_loss: 0.4309 - val_Accuracy: 0.8066\n",
            "Epoch 3/10\n",
            "9000/9000 [==============================] - 20s 2ms/step - loss: 0.3978 - Accuracy: 0.8274 - val_loss: 0.3737 - val_Accuracy: 0.8425\n",
            "Epoch 4/10\n",
            "9000/9000 [==============================] - 20s 2ms/step - loss: 0.3676 - Accuracy: 0.8459 - val_loss: 0.3579 - val_Accuracy: 0.8538\n",
            "Epoch 5/10\n",
            "9000/9000 [==============================] - 20s 2ms/step - loss: 0.3522 - Accuracy: 0.8551 - val_loss: 0.3444 - val_Accuracy: 0.8599\n",
            "Epoch 6/10\n",
            "9000/9000 [==============================] - 29s 3ms/step - loss: 0.3429 - Accuracy: 0.8610 - val_loss: 0.3412 - val_Accuracy: 0.8628\n",
            "Epoch 7/10\n",
            "9000/9000 [==============================] - 26s 3ms/step - loss: 0.3350 - Accuracy: 0.8654 - val_loss: 0.3430 - val_Accuracy: 0.8624\n",
            "Epoch 8/10\n",
            "9000/9000 [==============================] - 32s 4ms/step - loss: 0.3299 - Accuracy: 0.8676 - val_loss: 0.3254 - val_Accuracy: 0.8719\n",
            "Epoch 9/10\n",
            "9000/9000 [==============================] - 25s 3ms/step - loss: 0.3241 - Accuracy: 0.8713 - val_loss: 0.3259 - val_Accuracy: 0.8713\n",
            "Epoch 10/10\n",
            "9000/9000 [==============================] - 27s 3ms/step - loss: 0.3198 - Accuracy: 0.8738 - val_loss: 0.3238 - val_Accuracy: 0.8719\n",
            "Training  4 for Sequential\n",
            "Epoch 1/10\n",
            "9000/9000 [==============================] - 30s 3ms/step - loss: 0.5818 - Accuracy: 0.6946 - val_loss: 0.5140 - val_Accuracy: 0.7486\n",
            "Epoch 2/10\n",
            "9000/9000 [==============================] - 29s 3ms/step - loss: 0.4593 - Accuracy: 0.7864 - val_loss: 0.4101 - val_Accuracy: 0.8203\n",
            "Epoch 3/10\n",
            "9000/9000 [==============================] - 23s 3ms/step - loss: 0.3883 - Accuracy: 0.8331 - val_loss: 0.3820 - val_Accuracy: 0.8379\n",
            "Epoch 4/10\n",
            "9000/9000 [==============================] - 23s 3ms/step - loss: 0.3623 - Accuracy: 0.8487 - val_loss: 0.3592 - val_Accuracy: 0.8512\n",
            "Epoch 5/10\n",
            "9000/9000 [==============================] - 20s 2ms/step - loss: 0.3488 - Accuracy: 0.8572 - val_loss: 0.3433 - val_Accuracy: 0.8613\n",
            "Epoch 6/10\n",
            "9000/9000 [==============================] - 21s 2ms/step - loss: 0.3386 - Accuracy: 0.8629 - val_loss: 0.3431 - val_Accuracy: 0.8614\n",
            "Epoch 7/10\n",
            "9000/9000 [==============================] - 20s 2ms/step - loss: 0.3316 - Accuracy: 0.8671 - val_loss: 0.3317 - val_Accuracy: 0.8686\n",
            "Epoch 8/10\n",
            "9000/9000 [==============================] - 20s 2ms/step - loss: 0.3248 - Accuracy: 0.8708 - val_loss: 0.3292 - val_Accuracy: 0.8700\n",
            "Epoch 9/10\n",
            "9000/9000 [==============================] - 20s 2ms/step - loss: 0.3198 - Accuracy: 0.8738 - val_loss: 0.3222 - val_Accuracy: 0.8728\n",
            "Epoch 10/10\n",
            "9000/9000 [==============================] - 20s 2ms/step - loss: 0.3162 - Accuracy: 0.8761 - val_loss: 0.3092 - val_Accuracy: 0.8815\n"
          ]
        }
      ]
    },
    {
      "cell_type": "code",
      "source": [
        "stack = StackingClassifierEstimator(neuralnet_models=models)"
      ],
      "metadata": {
        "id": "nT6Hobtzvz2d"
      },
      "execution_count": 57,
      "outputs": []
    },
    {
      "cell_type": "code",
      "source": [
        "pred_cv = stack.create_pred_df(X_train, y_train)"
      ],
      "metadata": {
        "id": "VO6k149cwq6a"
      },
      "execution_count": 59,
      "outputs": []
    },
    {
      "cell_type": "code",
      "source": [
        "pred_cv.head()"
      ],
      "metadata": {
        "colab": {
          "base_uri": "https://localhost:8080/",
          "height": 206
        },
        "id": "9_N-CCw_yIj-",
        "outputId": "a412602e-4188-4690-a928-ae6e7617a9bb"
      },
      "execution_count": 60,
      "outputs": [
        {
          "output_type": "execute_result",
          "data": {
            "text/plain": [
              "        nn0       nn1       nn2       nn3       nn4  target\n",
              "0  0.104560  0.026087  0.118033  0.153249  0.046310       0\n",
              "1  0.011686  0.019474  0.022732  0.015274  0.062490       0\n",
              "2  0.992218  0.994551  0.950965  0.933800  0.973104       1\n",
              "3  0.054295  0.030710  0.056276  0.077463  0.042403       0\n",
              "4  0.909317  0.936684  0.900594  0.842717  0.880743       1"
            ],
            "text/html": [
              "\n",
              "  <div id=\"df-871a827a-dfed-4d98-8e01-f2a9884d5541\">\n",
              "    <div class=\"colab-df-container\">\n",
              "      <div>\n",
              "<style scoped>\n",
              "    .dataframe tbody tr th:only-of-type {\n",
              "        vertical-align: middle;\n",
              "    }\n",
              "\n",
              "    .dataframe tbody tr th {\n",
              "        vertical-align: top;\n",
              "    }\n",
              "\n",
              "    .dataframe thead th {\n",
              "        text-align: right;\n",
              "    }\n",
              "</style>\n",
              "<table border=\"1\" class=\"dataframe\">\n",
              "  <thead>\n",
              "    <tr style=\"text-align: right;\">\n",
              "      <th></th>\n",
              "      <th>nn0</th>\n",
              "      <th>nn1</th>\n",
              "      <th>nn2</th>\n",
              "      <th>nn3</th>\n",
              "      <th>nn4</th>\n",
              "      <th>target</th>\n",
              "    </tr>\n",
              "  </thead>\n",
              "  <tbody>\n",
              "    <tr>\n",
              "      <th>0</th>\n",
              "      <td>0.104560</td>\n",
              "      <td>0.026087</td>\n",
              "      <td>0.118033</td>\n",
              "      <td>0.153249</td>\n",
              "      <td>0.046310</td>\n",
              "      <td>0</td>\n",
              "    </tr>\n",
              "    <tr>\n",
              "      <th>1</th>\n",
              "      <td>0.011686</td>\n",
              "      <td>0.019474</td>\n",
              "      <td>0.022732</td>\n",
              "      <td>0.015274</td>\n",
              "      <td>0.062490</td>\n",
              "      <td>0</td>\n",
              "    </tr>\n",
              "    <tr>\n",
              "      <th>2</th>\n",
              "      <td>0.992218</td>\n",
              "      <td>0.994551</td>\n",
              "      <td>0.950965</td>\n",
              "      <td>0.933800</td>\n",
              "      <td>0.973104</td>\n",
              "      <td>1</td>\n",
              "    </tr>\n",
              "    <tr>\n",
              "      <th>3</th>\n",
              "      <td>0.054295</td>\n",
              "      <td>0.030710</td>\n",
              "      <td>0.056276</td>\n",
              "      <td>0.077463</td>\n",
              "      <td>0.042403</td>\n",
              "      <td>0</td>\n",
              "    </tr>\n",
              "    <tr>\n",
              "      <th>4</th>\n",
              "      <td>0.909317</td>\n",
              "      <td>0.936684</td>\n",
              "      <td>0.900594</td>\n",
              "      <td>0.842717</td>\n",
              "      <td>0.880743</td>\n",
              "      <td>1</td>\n",
              "    </tr>\n",
              "  </tbody>\n",
              "</table>\n",
              "</div>\n",
              "      <button class=\"colab-df-convert\" onclick=\"convertToInteractive('df-871a827a-dfed-4d98-8e01-f2a9884d5541')\"\n",
              "              title=\"Convert this dataframe to an interactive table.\"\n",
              "              style=\"display:none;\">\n",
              "        \n",
              "  <svg xmlns=\"http://www.w3.org/2000/svg\" height=\"24px\"viewBox=\"0 0 24 24\"\n",
              "       width=\"24px\">\n",
              "    <path d=\"M0 0h24v24H0V0z\" fill=\"none\"/>\n",
              "    <path d=\"M18.56 5.44l.94 2.06.94-2.06 2.06-.94-2.06-.94-.94-2.06-.94 2.06-2.06.94zm-11 1L8.5 8.5l.94-2.06 2.06-.94-2.06-.94L8.5 2.5l-.94 2.06-2.06.94zm10 10l.94 2.06.94-2.06 2.06-.94-2.06-.94-.94-2.06-.94 2.06-2.06.94z\"/><path d=\"M17.41 7.96l-1.37-1.37c-.4-.4-.92-.59-1.43-.59-.52 0-1.04.2-1.43.59L10.3 9.45l-7.72 7.72c-.78.78-.78 2.05 0 2.83L4 21.41c.39.39.9.59 1.41.59.51 0 1.02-.2 1.41-.59l7.78-7.78 2.81-2.81c.8-.78.8-2.07 0-2.86zM5.41 20L4 18.59l7.72-7.72 1.47 1.35L5.41 20z\"/>\n",
              "  </svg>\n",
              "      </button>\n",
              "      \n",
              "  <style>\n",
              "    .colab-df-container {\n",
              "      display:flex;\n",
              "      flex-wrap:wrap;\n",
              "      gap: 12px;\n",
              "    }\n",
              "\n",
              "    .colab-df-convert {\n",
              "      background-color: #E8F0FE;\n",
              "      border: none;\n",
              "      border-radius: 50%;\n",
              "      cursor: pointer;\n",
              "      display: none;\n",
              "      fill: #1967D2;\n",
              "      height: 32px;\n",
              "      padding: 0 0 0 0;\n",
              "      width: 32px;\n",
              "    }\n",
              "\n",
              "    .colab-df-convert:hover {\n",
              "      background-color: #E2EBFA;\n",
              "      box-shadow: 0px 1px 2px rgba(60, 64, 67, 0.3), 0px 1px 3px 1px rgba(60, 64, 67, 0.15);\n",
              "      fill: #174EA6;\n",
              "    }\n",
              "\n",
              "    [theme=dark] .colab-df-convert {\n",
              "      background-color: #3B4455;\n",
              "      fill: #D2E3FC;\n",
              "    }\n",
              "\n",
              "    [theme=dark] .colab-df-convert:hover {\n",
              "      background-color: #434B5C;\n",
              "      box-shadow: 0px 1px 3px 1px rgba(0, 0, 0, 0.15);\n",
              "      filter: drop-shadow(0px 1px 2px rgba(0, 0, 0, 0.3));\n",
              "      fill: #FFFFFF;\n",
              "    }\n",
              "  </style>\n",
              "\n",
              "      <script>\n",
              "        const buttonEl =\n",
              "          document.querySelector('#df-871a827a-dfed-4d98-8e01-f2a9884d5541 button.colab-df-convert');\n",
              "        buttonEl.style.display =\n",
              "          google.colab.kernel.accessAllowed ? 'block' : 'none';\n",
              "\n",
              "        async function convertToInteractive(key) {\n",
              "          const element = document.querySelector('#df-871a827a-dfed-4d98-8e01-f2a9884d5541');\n",
              "          const dataTable =\n",
              "            await google.colab.kernel.invokeFunction('convertToInteractive',\n",
              "                                                     [key], {});\n",
              "          if (!dataTable) return;\n",
              "\n",
              "          const docLinkHtml = 'Like what you see? Visit the ' +\n",
              "            '<a target=\"_blank\" href=https://colab.research.google.com/notebooks/data_table.ipynb>data table notebook</a>'\n",
              "            + ' to learn more about interactive tables.';\n",
              "          element.innerHTML = '';\n",
              "          dataTable['output_type'] = 'display_data';\n",
              "          await google.colab.output.renderOutput(dataTable, element);\n",
              "          const docLink = document.createElement('div');\n",
              "          docLink.innerHTML = docLinkHtml;\n",
              "          element.appendChild(docLink);\n",
              "        }\n",
              "      </script>\n",
              "    </div>\n",
              "  </div>\n",
              "  "
            ]
          },
          "metadata": {},
          "execution_count": 60
        }
      ]
    },
    {
      "cell_type": "code",
      "source": [
        "n_cols = min(pred_cv.drop(columns='target').shape)\n",
        "clf_nn = Sequential([\n",
        "  Dense(n_cols * 2, input_shape=(n_cols,), activation='relu'),\n",
        "  Dense(n_cols * 2, activation='relu'),\n",
        "  Dense(n_cols * 2, activation='relu'),\n",
        "  Dense(n_cols * 2, activation='relu'),\n",
        "  Dense(n_cols * 2, activation='relu'),\n",
        "  Dense(n_cols * 2, activation='relu'),\n",
        "  Dense(1, activation='sigmoid')\n",
        "])\n",
        "clf_nn.compile(Adam(), 'binary_crossentropy', metrics=['Accuracy'])"
      ],
      "metadata": {
        "id": "R72xnOIt0VnH"
      },
      "execution_count": 65,
      "outputs": []
    },
    {
      "cell_type": "code",
      "source": [
        "clf_nn.fit(pred_cv.drop(columns='target'), pred_cv['target'], epochs=50, batch_size=64)"
      ],
      "metadata": {
        "id": "YtE87zrv05up"
      },
      "execution_count": null,
      "outputs": []
    },
    {
      "cell_type": "code",
      "source": [
        "test_df = wrangle('test.csv')\n",
        "test_df.head()"
      ],
      "metadata": {
        "colab": {
          "base_uri": "https://localhost:8080/",
          "height": 331
        },
        "id": "49Ct7Ac08_8Q",
        "outputId": "0062f3a1-38d6-403d-dc44-c57eb69a97db"
      },
      "execution_count": 68,
      "outputs": [
        {
          "output_type": "execute_result",
          "data": {
            "text/plain": [
              "            f_00      f_01      f_02      f_03      f_04      f_05      f_06  \\\n",
              "id                                                                             \n",
              "900000  0.442517  0.174380 -0.999816  0.762741  0.186778 -1.074775  0.501888   \n",
              "900001 -0.605598 -0.305715  0.627667 -0.578898 -1.750931  1.355550 -0.190911   \n",
              "900002  0.303990  2.445110  0.246515  0.818248  0.359731 -1.331845  1.358622   \n",
              "900003  0.154053  0.260126 -1.367092 -0.093175 -1.111034 -0.948481  1.119220   \n",
              "900004 -1.651904 -0.424266 -0.667356 -0.322124 -0.089462  0.181705  1.784983   \n",
              "\n",
              "        f_07  f_08  f_09  ...      f_20      f_21      f_22      f_23  \\\n",
              "id                        ...                                           \n",
              "900000     6     6     0  ...  2.749347 -1.006400 -1.193879 -2.435736   \n",
              "900001     1     3     4  ...  1.080762  2.382405  0.149442  1.883322   \n",
              "900002     3     3     4  ... -1.406712 -7.026098  1.312277 -5.157192   \n",
              "900003     0     0     4  ...  3.011085 -0.594532 -3.939475  1.754570   \n",
              "900004     2     2     2  ...  0.100594  0.084906 -0.985736 -0.130467   \n",
              "\n",
              "            f_24      f_25      f_26        f_28  f_29  f_30  \n",
              "id                                                            \n",
              "900000 -2.427430 -1.966887  5.734205   99.478419     0     0  \n",
              "900001 -2.848714 -0.725155  3.194219  -65.993825     1     0  \n",
              "900002  1.714005  0.585032  0.066898  -87.405622     0     1  \n",
              "900003 -2.364007 -1.003320  3.893099 -281.293460     0     0  \n",
              "900004 -3.557893  1.210687  1.861884   25.629415     0     2  \n",
              "\n",
              "[5 rows x 30 columns]"
            ],
            "text/html": [
              "\n",
              "  <div id=\"df-ed5cb81d-98a5-40c2-8389-7c238c72c393\">\n",
              "    <div class=\"colab-df-container\">\n",
              "      <div>\n",
              "<style scoped>\n",
              "    .dataframe tbody tr th:only-of-type {\n",
              "        vertical-align: middle;\n",
              "    }\n",
              "\n",
              "    .dataframe tbody tr th {\n",
              "        vertical-align: top;\n",
              "    }\n",
              "\n",
              "    .dataframe thead th {\n",
              "        text-align: right;\n",
              "    }\n",
              "</style>\n",
              "<table border=\"1\" class=\"dataframe\">\n",
              "  <thead>\n",
              "    <tr style=\"text-align: right;\">\n",
              "      <th></th>\n",
              "      <th>f_00</th>\n",
              "      <th>f_01</th>\n",
              "      <th>f_02</th>\n",
              "      <th>f_03</th>\n",
              "      <th>f_04</th>\n",
              "      <th>f_05</th>\n",
              "      <th>f_06</th>\n",
              "      <th>f_07</th>\n",
              "      <th>f_08</th>\n",
              "      <th>f_09</th>\n",
              "      <th>...</th>\n",
              "      <th>f_20</th>\n",
              "      <th>f_21</th>\n",
              "      <th>f_22</th>\n",
              "      <th>f_23</th>\n",
              "      <th>f_24</th>\n",
              "      <th>f_25</th>\n",
              "      <th>f_26</th>\n",
              "      <th>f_28</th>\n",
              "      <th>f_29</th>\n",
              "      <th>f_30</th>\n",
              "    </tr>\n",
              "    <tr>\n",
              "      <th>id</th>\n",
              "      <th></th>\n",
              "      <th></th>\n",
              "      <th></th>\n",
              "      <th></th>\n",
              "      <th></th>\n",
              "      <th></th>\n",
              "      <th></th>\n",
              "      <th></th>\n",
              "      <th></th>\n",
              "      <th></th>\n",
              "      <th></th>\n",
              "      <th></th>\n",
              "      <th></th>\n",
              "      <th></th>\n",
              "      <th></th>\n",
              "      <th></th>\n",
              "      <th></th>\n",
              "      <th></th>\n",
              "      <th></th>\n",
              "      <th></th>\n",
              "      <th></th>\n",
              "    </tr>\n",
              "  </thead>\n",
              "  <tbody>\n",
              "    <tr>\n",
              "      <th>900000</th>\n",
              "      <td>0.442517</td>\n",
              "      <td>0.174380</td>\n",
              "      <td>-0.999816</td>\n",
              "      <td>0.762741</td>\n",
              "      <td>0.186778</td>\n",
              "      <td>-1.074775</td>\n",
              "      <td>0.501888</td>\n",
              "      <td>6</td>\n",
              "      <td>6</td>\n",
              "      <td>0</td>\n",
              "      <td>...</td>\n",
              "      <td>2.749347</td>\n",
              "      <td>-1.006400</td>\n",
              "      <td>-1.193879</td>\n",
              "      <td>-2.435736</td>\n",
              "      <td>-2.427430</td>\n",
              "      <td>-1.966887</td>\n",
              "      <td>5.734205</td>\n",
              "      <td>99.478419</td>\n",
              "      <td>0</td>\n",
              "      <td>0</td>\n",
              "    </tr>\n",
              "    <tr>\n",
              "      <th>900001</th>\n",
              "      <td>-0.605598</td>\n",
              "      <td>-0.305715</td>\n",
              "      <td>0.627667</td>\n",
              "      <td>-0.578898</td>\n",
              "      <td>-1.750931</td>\n",
              "      <td>1.355550</td>\n",
              "      <td>-0.190911</td>\n",
              "      <td>1</td>\n",
              "      <td>3</td>\n",
              "      <td>4</td>\n",
              "      <td>...</td>\n",
              "      <td>1.080762</td>\n",
              "      <td>2.382405</td>\n",
              "      <td>0.149442</td>\n",
              "      <td>1.883322</td>\n",
              "      <td>-2.848714</td>\n",
              "      <td>-0.725155</td>\n",
              "      <td>3.194219</td>\n",
              "      <td>-65.993825</td>\n",
              "      <td>1</td>\n",
              "      <td>0</td>\n",
              "    </tr>\n",
              "    <tr>\n",
              "      <th>900002</th>\n",
              "      <td>0.303990</td>\n",
              "      <td>2.445110</td>\n",
              "      <td>0.246515</td>\n",
              "      <td>0.818248</td>\n",
              "      <td>0.359731</td>\n",
              "      <td>-1.331845</td>\n",
              "      <td>1.358622</td>\n",
              "      <td>3</td>\n",
              "      <td>3</td>\n",
              "      <td>4</td>\n",
              "      <td>...</td>\n",
              "      <td>-1.406712</td>\n",
              "      <td>-7.026098</td>\n",
              "      <td>1.312277</td>\n",
              "      <td>-5.157192</td>\n",
              "      <td>1.714005</td>\n",
              "      <td>0.585032</td>\n",
              "      <td>0.066898</td>\n",
              "      <td>-87.405622</td>\n",
              "      <td>0</td>\n",
              "      <td>1</td>\n",
              "    </tr>\n",
              "    <tr>\n",
              "      <th>900003</th>\n",
              "      <td>0.154053</td>\n",
              "      <td>0.260126</td>\n",
              "      <td>-1.367092</td>\n",
              "      <td>-0.093175</td>\n",
              "      <td>-1.111034</td>\n",
              "      <td>-0.948481</td>\n",
              "      <td>1.119220</td>\n",
              "      <td>0</td>\n",
              "      <td>0</td>\n",
              "      <td>4</td>\n",
              "      <td>...</td>\n",
              "      <td>3.011085</td>\n",
              "      <td>-0.594532</td>\n",
              "      <td>-3.939475</td>\n",
              "      <td>1.754570</td>\n",
              "      <td>-2.364007</td>\n",
              "      <td>-1.003320</td>\n",
              "      <td>3.893099</td>\n",
              "      <td>-281.293460</td>\n",
              "      <td>0</td>\n",
              "      <td>0</td>\n",
              "    </tr>\n",
              "    <tr>\n",
              "      <th>900004</th>\n",
              "      <td>-1.651904</td>\n",
              "      <td>-0.424266</td>\n",
              "      <td>-0.667356</td>\n",
              "      <td>-0.322124</td>\n",
              "      <td>-0.089462</td>\n",
              "      <td>0.181705</td>\n",
              "      <td>1.784983</td>\n",
              "      <td>2</td>\n",
              "      <td>2</td>\n",
              "      <td>2</td>\n",
              "      <td>...</td>\n",
              "      <td>0.100594</td>\n",
              "      <td>0.084906</td>\n",
              "      <td>-0.985736</td>\n",
              "      <td>-0.130467</td>\n",
              "      <td>-3.557893</td>\n",
              "      <td>1.210687</td>\n",
              "      <td>1.861884</td>\n",
              "      <td>25.629415</td>\n",
              "      <td>0</td>\n",
              "      <td>2</td>\n",
              "    </tr>\n",
              "  </tbody>\n",
              "</table>\n",
              "<p>5 rows × 30 columns</p>\n",
              "</div>\n",
              "      <button class=\"colab-df-convert\" onclick=\"convertToInteractive('df-ed5cb81d-98a5-40c2-8389-7c238c72c393')\"\n",
              "              title=\"Convert this dataframe to an interactive table.\"\n",
              "              style=\"display:none;\">\n",
              "        \n",
              "  <svg xmlns=\"http://www.w3.org/2000/svg\" height=\"24px\"viewBox=\"0 0 24 24\"\n",
              "       width=\"24px\">\n",
              "    <path d=\"M0 0h24v24H0V0z\" fill=\"none\"/>\n",
              "    <path d=\"M18.56 5.44l.94 2.06.94-2.06 2.06-.94-2.06-.94-.94-2.06-.94 2.06-2.06.94zm-11 1L8.5 8.5l.94-2.06 2.06-.94-2.06-.94L8.5 2.5l-.94 2.06-2.06.94zm10 10l.94 2.06.94-2.06 2.06-.94-2.06-.94-.94-2.06-.94 2.06-2.06.94z\"/><path d=\"M17.41 7.96l-1.37-1.37c-.4-.4-.92-.59-1.43-.59-.52 0-1.04.2-1.43.59L10.3 9.45l-7.72 7.72c-.78.78-.78 2.05 0 2.83L4 21.41c.39.39.9.59 1.41.59.51 0 1.02-.2 1.41-.59l7.78-7.78 2.81-2.81c.8-.78.8-2.07 0-2.86zM5.41 20L4 18.59l7.72-7.72 1.47 1.35L5.41 20z\"/>\n",
              "  </svg>\n",
              "      </button>\n",
              "      \n",
              "  <style>\n",
              "    .colab-df-container {\n",
              "      display:flex;\n",
              "      flex-wrap:wrap;\n",
              "      gap: 12px;\n",
              "    }\n",
              "\n",
              "    .colab-df-convert {\n",
              "      background-color: #E8F0FE;\n",
              "      border: none;\n",
              "      border-radius: 50%;\n",
              "      cursor: pointer;\n",
              "      display: none;\n",
              "      fill: #1967D2;\n",
              "      height: 32px;\n",
              "      padding: 0 0 0 0;\n",
              "      width: 32px;\n",
              "    }\n",
              "\n",
              "    .colab-df-convert:hover {\n",
              "      background-color: #E2EBFA;\n",
              "      box-shadow: 0px 1px 2px rgba(60, 64, 67, 0.3), 0px 1px 3px 1px rgba(60, 64, 67, 0.15);\n",
              "      fill: #174EA6;\n",
              "    }\n",
              "\n",
              "    [theme=dark] .colab-df-convert {\n",
              "      background-color: #3B4455;\n",
              "      fill: #D2E3FC;\n",
              "    }\n",
              "\n",
              "    [theme=dark] .colab-df-convert:hover {\n",
              "      background-color: #434B5C;\n",
              "      box-shadow: 0px 1px 3px 1px rgba(0, 0, 0, 0.15);\n",
              "      filter: drop-shadow(0px 1px 2px rgba(0, 0, 0, 0.3));\n",
              "      fill: #FFFFFF;\n",
              "    }\n",
              "  </style>\n",
              "\n",
              "      <script>\n",
              "        const buttonEl =\n",
              "          document.querySelector('#df-ed5cb81d-98a5-40c2-8389-7c238c72c393 button.colab-df-convert');\n",
              "        buttonEl.style.display =\n",
              "          google.colab.kernel.accessAllowed ? 'block' : 'none';\n",
              "\n",
              "        async function convertToInteractive(key) {\n",
              "          const element = document.querySelector('#df-ed5cb81d-98a5-40c2-8389-7c238c72c393');\n",
              "          const dataTable =\n",
              "            await google.colab.kernel.invokeFunction('convertToInteractive',\n",
              "                                                     [key], {});\n",
              "          if (!dataTable) return;\n",
              "\n",
              "          const docLinkHtml = 'Like what you see? Visit the ' +\n",
              "            '<a target=\"_blank\" href=https://colab.research.google.com/notebooks/data_table.ipynb>data table notebook</a>'\n",
              "            + ' to learn more about interactive tables.';\n",
              "          element.innerHTML = '';\n",
              "          dataTable['output_type'] = 'display_data';\n",
              "          await google.colab.output.renderOutput(dataTable, element);\n",
              "          const docLink = document.createElement('div');\n",
              "          docLink.innerHTML = docLinkHtml;\n",
              "          element.appendChild(docLink);\n",
              "        }\n",
              "      </script>\n",
              "    </div>\n",
              "  </div>\n",
              "  "
            ]
          },
          "metadata": {},
          "execution_count": 68
        }
      ]
    },
    {
      "cell_type": "code",
      "source": [
        "test_pred_df = stack.create_pred_df(test_df)\n",
        "test_pred_df.head()"
      ],
      "metadata": {
        "colab": {
          "base_uri": "https://localhost:8080/",
          "height": 206
        },
        "id": "DMZ1l7fS-W1q",
        "outputId": "8c0ff61c-0d30-4af2-899c-55e60b5978da"
      },
      "execution_count": 71,
      "outputs": [
        {
          "output_type": "execute_result",
          "data": {
            "text/plain": [
              "        nn0       nn1       nn2       nn3       nn4\n",
              "0  0.958347  0.987253  0.951831  0.971547  0.985505\n",
              "1  0.963831  0.966842  0.945337  0.961077  0.965165\n",
              "2  0.009744  0.002876  0.002139  0.001706  0.000743\n",
              "3  0.133126  0.088133  0.071537  0.082897  0.143601\n",
              "4  0.741907  0.788486  0.872806  0.773599  0.609941"
            ],
            "text/html": [
              "\n",
              "  <div id=\"df-1646d69f-8e56-4993-b83e-89deff1d1f38\">\n",
              "    <div class=\"colab-df-container\">\n",
              "      <div>\n",
              "<style scoped>\n",
              "    .dataframe tbody tr th:only-of-type {\n",
              "        vertical-align: middle;\n",
              "    }\n",
              "\n",
              "    .dataframe tbody tr th {\n",
              "        vertical-align: top;\n",
              "    }\n",
              "\n",
              "    .dataframe thead th {\n",
              "        text-align: right;\n",
              "    }\n",
              "</style>\n",
              "<table border=\"1\" class=\"dataframe\">\n",
              "  <thead>\n",
              "    <tr style=\"text-align: right;\">\n",
              "      <th></th>\n",
              "      <th>nn0</th>\n",
              "      <th>nn1</th>\n",
              "      <th>nn2</th>\n",
              "      <th>nn3</th>\n",
              "      <th>nn4</th>\n",
              "    </tr>\n",
              "  </thead>\n",
              "  <tbody>\n",
              "    <tr>\n",
              "      <th>0</th>\n",
              "      <td>0.958347</td>\n",
              "      <td>0.987253</td>\n",
              "      <td>0.951831</td>\n",
              "      <td>0.971547</td>\n",
              "      <td>0.985505</td>\n",
              "    </tr>\n",
              "    <tr>\n",
              "      <th>1</th>\n",
              "      <td>0.963831</td>\n",
              "      <td>0.966842</td>\n",
              "      <td>0.945337</td>\n",
              "      <td>0.961077</td>\n",
              "      <td>0.965165</td>\n",
              "    </tr>\n",
              "    <tr>\n",
              "      <th>2</th>\n",
              "      <td>0.009744</td>\n",
              "      <td>0.002876</td>\n",
              "      <td>0.002139</td>\n",
              "      <td>0.001706</td>\n",
              "      <td>0.000743</td>\n",
              "    </tr>\n",
              "    <tr>\n",
              "      <th>3</th>\n",
              "      <td>0.133126</td>\n",
              "      <td>0.088133</td>\n",
              "      <td>0.071537</td>\n",
              "      <td>0.082897</td>\n",
              "      <td>0.143601</td>\n",
              "    </tr>\n",
              "    <tr>\n",
              "      <th>4</th>\n",
              "      <td>0.741907</td>\n",
              "      <td>0.788486</td>\n",
              "      <td>0.872806</td>\n",
              "      <td>0.773599</td>\n",
              "      <td>0.609941</td>\n",
              "    </tr>\n",
              "  </tbody>\n",
              "</table>\n",
              "</div>\n",
              "      <button class=\"colab-df-convert\" onclick=\"convertToInteractive('df-1646d69f-8e56-4993-b83e-89deff1d1f38')\"\n",
              "              title=\"Convert this dataframe to an interactive table.\"\n",
              "              style=\"display:none;\">\n",
              "        \n",
              "  <svg xmlns=\"http://www.w3.org/2000/svg\" height=\"24px\"viewBox=\"0 0 24 24\"\n",
              "       width=\"24px\">\n",
              "    <path d=\"M0 0h24v24H0V0z\" fill=\"none\"/>\n",
              "    <path d=\"M18.56 5.44l.94 2.06.94-2.06 2.06-.94-2.06-.94-.94-2.06-.94 2.06-2.06.94zm-11 1L8.5 8.5l.94-2.06 2.06-.94-2.06-.94L8.5 2.5l-.94 2.06-2.06.94zm10 10l.94 2.06.94-2.06 2.06-.94-2.06-.94-.94-2.06-.94 2.06-2.06.94z\"/><path d=\"M17.41 7.96l-1.37-1.37c-.4-.4-.92-.59-1.43-.59-.52 0-1.04.2-1.43.59L10.3 9.45l-7.72 7.72c-.78.78-.78 2.05 0 2.83L4 21.41c.39.39.9.59 1.41.59.51 0 1.02-.2 1.41-.59l7.78-7.78 2.81-2.81c.8-.78.8-2.07 0-2.86zM5.41 20L4 18.59l7.72-7.72 1.47 1.35L5.41 20z\"/>\n",
              "  </svg>\n",
              "      </button>\n",
              "      \n",
              "  <style>\n",
              "    .colab-df-container {\n",
              "      display:flex;\n",
              "      flex-wrap:wrap;\n",
              "      gap: 12px;\n",
              "    }\n",
              "\n",
              "    .colab-df-convert {\n",
              "      background-color: #E8F0FE;\n",
              "      border: none;\n",
              "      border-radius: 50%;\n",
              "      cursor: pointer;\n",
              "      display: none;\n",
              "      fill: #1967D2;\n",
              "      height: 32px;\n",
              "      padding: 0 0 0 0;\n",
              "      width: 32px;\n",
              "    }\n",
              "\n",
              "    .colab-df-convert:hover {\n",
              "      background-color: #E2EBFA;\n",
              "      box-shadow: 0px 1px 2px rgba(60, 64, 67, 0.3), 0px 1px 3px 1px rgba(60, 64, 67, 0.15);\n",
              "      fill: #174EA6;\n",
              "    }\n",
              "\n",
              "    [theme=dark] .colab-df-convert {\n",
              "      background-color: #3B4455;\n",
              "      fill: #D2E3FC;\n",
              "    }\n",
              "\n",
              "    [theme=dark] .colab-df-convert:hover {\n",
              "      background-color: #434B5C;\n",
              "      box-shadow: 0px 1px 3px 1px rgba(0, 0, 0, 0.15);\n",
              "      filter: drop-shadow(0px 1px 2px rgba(0, 0, 0, 0.3));\n",
              "      fill: #FFFFFF;\n",
              "    }\n",
              "  </style>\n",
              "\n",
              "      <script>\n",
              "        const buttonEl =\n",
              "          document.querySelector('#df-1646d69f-8e56-4993-b83e-89deff1d1f38 button.colab-df-convert');\n",
              "        buttonEl.style.display =\n",
              "          google.colab.kernel.accessAllowed ? 'block' : 'none';\n",
              "\n",
              "        async function convertToInteractive(key) {\n",
              "          const element = document.querySelector('#df-1646d69f-8e56-4993-b83e-89deff1d1f38');\n",
              "          const dataTable =\n",
              "            await google.colab.kernel.invokeFunction('convertToInteractive',\n",
              "                                                     [key], {});\n",
              "          if (!dataTable) return;\n",
              "\n",
              "          const docLinkHtml = 'Like what you see? Visit the ' +\n",
              "            '<a target=\"_blank\" href=https://colab.research.google.com/notebooks/data_table.ipynb>data table notebook</a>'\n",
              "            + ' to learn more about interactive tables.';\n",
              "          element.innerHTML = '';\n",
              "          dataTable['output_type'] = 'display_data';\n",
              "          await google.colab.output.renderOutput(dataTable, element);\n",
              "          const docLink = document.createElement('div');\n",
              "          docLink.innerHTML = docLinkHtml;\n",
              "          element.appendChild(docLink);\n",
              "        }\n",
              "      </script>\n",
              "    </div>\n",
              "  </div>\n",
              "  "
            ]
          },
          "metadata": {},
          "execution_count": 71
        }
      ]
    },
    {
      "cell_type": "code",
      "source": [
        "test_pred = clf_nn.predict(test_pred_df)"
      ],
      "metadata": {
        "id": "90gDnJfH_hdZ"
      },
      "execution_count": null,
      "outputs": []
    },
    {
      "cell_type": "code",
      "source": [
        "submission = pd.read_csv('sample_submission.csv')\n",
        "submission['target'] = test_pred.round(0).astype(int)\n",
        "submission.head()\n"
      ],
      "metadata": {
        "colab": {
          "base_uri": "https://localhost:8080/",
          "height": 206
        },
        "id": "dM2GLPwrAUDh",
        "outputId": "3ba68456-3b63-44f3-e676-40c18a6f2a0f"
      },
      "execution_count": 85,
      "outputs": [
        {
          "output_type": "execute_result",
          "data": {
            "text/plain": [
              "       id  target\n",
              "0  900000       1\n",
              "1  900001       1\n",
              "2  900002       0\n",
              "3  900003       0\n",
              "4  900004       1"
            ],
            "text/html": [
              "\n",
              "  <div id=\"df-00f5d1f6-650a-4797-a4dd-2dd308126d46\">\n",
              "    <div class=\"colab-df-container\">\n",
              "      <div>\n",
              "<style scoped>\n",
              "    .dataframe tbody tr th:only-of-type {\n",
              "        vertical-align: middle;\n",
              "    }\n",
              "\n",
              "    .dataframe tbody tr th {\n",
              "        vertical-align: top;\n",
              "    }\n",
              "\n",
              "    .dataframe thead th {\n",
              "        text-align: right;\n",
              "    }\n",
              "</style>\n",
              "<table border=\"1\" class=\"dataframe\">\n",
              "  <thead>\n",
              "    <tr style=\"text-align: right;\">\n",
              "      <th></th>\n",
              "      <th>id</th>\n",
              "      <th>target</th>\n",
              "    </tr>\n",
              "  </thead>\n",
              "  <tbody>\n",
              "    <tr>\n",
              "      <th>0</th>\n",
              "      <td>900000</td>\n",
              "      <td>1</td>\n",
              "    </tr>\n",
              "    <tr>\n",
              "      <th>1</th>\n",
              "      <td>900001</td>\n",
              "      <td>1</td>\n",
              "    </tr>\n",
              "    <tr>\n",
              "      <th>2</th>\n",
              "      <td>900002</td>\n",
              "      <td>0</td>\n",
              "    </tr>\n",
              "    <tr>\n",
              "      <th>3</th>\n",
              "      <td>900003</td>\n",
              "      <td>0</td>\n",
              "    </tr>\n",
              "    <tr>\n",
              "      <th>4</th>\n",
              "      <td>900004</td>\n",
              "      <td>1</td>\n",
              "    </tr>\n",
              "  </tbody>\n",
              "</table>\n",
              "</div>\n",
              "      <button class=\"colab-df-convert\" onclick=\"convertToInteractive('df-00f5d1f6-650a-4797-a4dd-2dd308126d46')\"\n",
              "              title=\"Convert this dataframe to an interactive table.\"\n",
              "              style=\"display:none;\">\n",
              "        \n",
              "  <svg xmlns=\"http://www.w3.org/2000/svg\" height=\"24px\"viewBox=\"0 0 24 24\"\n",
              "       width=\"24px\">\n",
              "    <path d=\"M0 0h24v24H0V0z\" fill=\"none\"/>\n",
              "    <path d=\"M18.56 5.44l.94 2.06.94-2.06 2.06-.94-2.06-.94-.94-2.06-.94 2.06-2.06.94zm-11 1L8.5 8.5l.94-2.06 2.06-.94-2.06-.94L8.5 2.5l-.94 2.06-2.06.94zm10 10l.94 2.06.94-2.06 2.06-.94-2.06-.94-.94-2.06-.94 2.06-2.06.94z\"/><path d=\"M17.41 7.96l-1.37-1.37c-.4-.4-.92-.59-1.43-.59-.52 0-1.04.2-1.43.59L10.3 9.45l-7.72 7.72c-.78.78-.78 2.05 0 2.83L4 21.41c.39.39.9.59 1.41.59.51 0 1.02-.2 1.41-.59l7.78-7.78 2.81-2.81c.8-.78.8-2.07 0-2.86zM5.41 20L4 18.59l7.72-7.72 1.47 1.35L5.41 20z\"/>\n",
              "  </svg>\n",
              "      </button>\n",
              "      \n",
              "  <style>\n",
              "    .colab-df-container {\n",
              "      display:flex;\n",
              "      flex-wrap:wrap;\n",
              "      gap: 12px;\n",
              "    }\n",
              "\n",
              "    .colab-df-convert {\n",
              "      background-color: #E8F0FE;\n",
              "      border: none;\n",
              "      border-radius: 50%;\n",
              "      cursor: pointer;\n",
              "      display: none;\n",
              "      fill: #1967D2;\n",
              "      height: 32px;\n",
              "      padding: 0 0 0 0;\n",
              "      width: 32px;\n",
              "    }\n",
              "\n",
              "    .colab-df-convert:hover {\n",
              "      background-color: #E2EBFA;\n",
              "      box-shadow: 0px 1px 2px rgba(60, 64, 67, 0.3), 0px 1px 3px 1px rgba(60, 64, 67, 0.15);\n",
              "      fill: #174EA6;\n",
              "    }\n",
              "\n",
              "    [theme=dark] .colab-df-convert {\n",
              "      background-color: #3B4455;\n",
              "      fill: #D2E3FC;\n",
              "    }\n",
              "\n",
              "    [theme=dark] .colab-df-convert:hover {\n",
              "      background-color: #434B5C;\n",
              "      box-shadow: 0px 1px 3px 1px rgba(0, 0, 0, 0.15);\n",
              "      filter: drop-shadow(0px 1px 2px rgba(0, 0, 0, 0.3));\n",
              "      fill: #FFFFFF;\n",
              "    }\n",
              "  </style>\n",
              "\n",
              "      <script>\n",
              "        const buttonEl =\n",
              "          document.querySelector('#df-00f5d1f6-650a-4797-a4dd-2dd308126d46 button.colab-df-convert');\n",
              "        buttonEl.style.display =\n",
              "          google.colab.kernel.accessAllowed ? 'block' : 'none';\n",
              "\n",
              "        async function convertToInteractive(key) {\n",
              "          const element = document.querySelector('#df-00f5d1f6-650a-4797-a4dd-2dd308126d46');\n",
              "          const dataTable =\n",
              "            await google.colab.kernel.invokeFunction('convertToInteractive',\n",
              "                                                     [key], {});\n",
              "          if (!dataTable) return;\n",
              "\n",
              "          const docLinkHtml = 'Like what you see? Visit the ' +\n",
              "            '<a target=\"_blank\" href=https://colab.research.google.com/notebooks/data_table.ipynb>data table notebook</a>'\n",
              "            + ' to learn more about interactive tables.';\n",
              "          element.innerHTML = '';\n",
              "          dataTable['output_type'] = 'display_data';\n",
              "          await google.colab.output.renderOutput(dataTable, element);\n",
              "          const docLink = document.createElement('div');\n",
              "          docLink.innerHTML = docLinkHtml;\n",
              "          element.appendChild(docLink);\n",
              "        }\n",
              "      </script>\n",
              "    </div>\n",
              "  </div>\n",
              "  "
            ]
          },
          "metadata": {},
          "execution_count": 85
        }
      ]
    },
    {
      "cell_type": "code",
      "source": [
        "submission.to_csv('sample_submission.csv', index=False)"
      ],
      "metadata": {
        "id": "COGTw3-EBoPt"
      },
      "execution_count": 86,
      "outputs": []
    },
    {
      "cell_type": "code",
      "source": [
        "submission = pd.read_csv('sample_submission.csv')\n",
        "submission.head()"
      ],
      "metadata": {
        "colab": {
          "base_uri": "https://localhost:8080/",
          "height": 206
        },
        "id": "ggLP-1dMDmvV",
        "outputId": "7c499688-3d80-4458-97be-967b54316225"
      },
      "execution_count": 87,
      "outputs": [
        {
          "output_type": "execute_result",
          "data": {
            "text/plain": [
              "       id  target\n",
              "0  900000       1\n",
              "1  900001       1\n",
              "2  900002       0\n",
              "3  900003       0\n",
              "4  900004       1"
            ],
            "text/html": [
              "\n",
              "  <div id=\"df-82e1733e-34c5-4805-81c4-5ac14dd7237e\">\n",
              "    <div class=\"colab-df-container\">\n",
              "      <div>\n",
              "<style scoped>\n",
              "    .dataframe tbody tr th:only-of-type {\n",
              "        vertical-align: middle;\n",
              "    }\n",
              "\n",
              "    .dataframe tbody tr th {\n",
              "        vertical-align: top;\n",
              "    }\n",
              "\n",
              "    .dataframe thead th {\n",
              "        text-align: right;\n",
              "    }\n",
              "</style>\n",
              "<table border=\"1\" class=\"dataframe\">\n",
              "  <thead>\n",
              "    <tr style=\"text-align: right;\">\n",
              "      <th></th>\n",
              "      <th>id</th>\n",
              "      <th>target</th>\n",
              "    </tr>\n",
              "  </thead>\n",
              "  <tbody>\n",
              "    <tr>\n",
              "      <th>0</th>\n",
              "      <td>900000</td>\n",
              "      <td>1</td>\n",
              "    </tr>\n",
              "    <tr>\n",
              "      <th>1</th>\n",
              "      <td>900001</td>\n",
              "      <td>1</td>\n",
              "    </tr>\n",
              "    <tr>\n",
              "      <th>2</th>\n",
              "      <td>900002</td>\n",
              "      <td>0</td>\n",
              "    </tr>\n",
              "    <tr>\n",
              "      <th>3</th>\n",
              "      <td>900003</td>\n",
              "      <td>0</td>\n",
              "    </tr>\n",
              "    <tr>\n",
              "      <th>4</th>\n",
              "      <td>900004</td>\n",
              "      <td>1</td>\n",
              "    </tr>\n",
              "  </tbody>\n",
              "</table>\n",
              "</div>\n",
              "      <button class=\"colab-df-convert\" onclick=\"convertToInteractive('df-82e1733e-34c5-4805-81c4-5ac14dd7237e')\"\n",
              "              title=\"Convert this dataframe to an interactive table.\"\n",
              "              style=\"display:none;\">\n",
              "        \n",
              "  <svg xmlns=\"http://www.w3.org/2000/svg\" height=\"24px\"viewBox=\"0 0 24 24\"\n",
              "       width=\"24px\">\n",
              "    <path d=\"M0 0h24v24H0V0z\" fill=\"none\"/>\n",
              "    <path d=\"M18.56 5.44l.94 2.06.94-2.06 2.06-.94-2.06-.94-.94-2.06-.94 2.06-2.06.94zm-11 1L8.5 8.5l.94-2.06 2.06-.94-2.06-.94L8.5 2.5l-.94 2.06-2.06.94zm10 10l.94 2.06.94-2.06 2.06-.94-2.06-.94-.94-2.06-.94 2.06-2.06.94z\"/><path d=\"M17.41 7.96l-1.37-1.37c-.4-.4-.92-.59-1.43-.59-.52 0-1.04.2-1.43.59L10.3 9.45l-7.72 7.72c-.78.78-.78 2.05 0 2.83L4 21.41c.39.39.9.59 1.41.59.51 0 1.02-.2 1.41-.59l7.78-7.78 2.81-2.81c.8-.78.8-2.07 0-2.86zM5.41 20L4 18.59l7.72-7.72 1.47 1.35L5.41 20z\"/>\n",
              "  </svg>\n",
              "      </button>\n",
              "      \n",
              "  <style>\n",
              "    .colab-df-container {\n",
              "      display:flex;\n",
              "      flex-wrap:wrap;\n",
              "      gap: 12px;\n",
              "    }\n",
              "\n",
              "    .colab-df-convert {\n",
              "      background-color: #E8F0FE;\n",
              "      border: none;\n",
              "      border-radius: 50%;\n",
              "      cursor: pointer;\n",
              "      display: none;\n",
              "      fill: #1967D2;\n",
              "      height: 32px;\n",
              "      padding: 0 0 0 0;\n",
              "      width: 32px;\n",
              "    }\n",
              "\n",
              "    .colab-df-convert:hover {\n",
              "      background-color: #E2EBFA;\n",
              "      box-shadow: 0px 1px 2px rgba(60, 64, 67, 0.3), 0px 1px 3px 1px rgba(60, 64, 67, 0.15);\n",
              "      fill: #174EA6;\n",
              "    }\n",
              "\n",
              "    [theme=dark] .colab-df-convert {\n",
              "      background-color: #3B4455;\n",
              "      fill: #D2E3FC;\n",
              "    }\n",
              "\n",
              "    [theme=dark] .colab-df-convert:hover {\n",
              "      background-color: #434B5C;\n",
              "      box-shadow: 0px 1px 3px 1px rgba(0, 0, 0, 0.15);\n",
              "      filter: drop-shadow(0px 1px 2px rgba(0, 0, 0, 0.3));\n",
              "      fill: #FFFFFF;\n",
              "    }\n",
              "  </style>\n",
              "\n",
              "      <script>\n",
              "        const buttonEl =\n",
              "          document.querySelector('#df-82e1733e-34c5-4805-81c4-5ac14dd7237e button.colab-df-convert');\n",
              "        buttonEl.style.display =\n",
              "          google.colab.kernel.accessAllowed ? 'block' : 'none';\n",
              "\n",
              "        async function convertToInteractive(key) {\n",
              "          const element = document.querySelector('#df-82e1733e-34c5-4805-81c4-5ac14dd7237e');\n",
              "          const dataTable =\n",
              "            await google.colab.kernel.invokeFunction('convertToInteractive',\n",
              "                                                     [key], {});\n",
              "          if (!dataTable) return;\n",
              "\n",
              "          const docLinkHtml = 'Like what you see? Visit the ' +\n",
              "            '<a target=\"_blank\" href=https://colab.research.google.com/notebooks/data_table.ipynb>data table notebook</a>'\n",
              "            + ' to learn more about interactive tables.';\n",
              "          element.innerHTML = '';\n",
              "          dataTable['output_type'] = 'display_data';\n",
              "          await google.colab.output.renderOutput(dataTable, element);\n",
              "          const docLink = document.createElement('div');\n",
              "          docLink.innerHTML = docLinkHtml;\n",
              "          element.appendChild(docLink);\n",
              "        }\n",
              "      </script>\n",
              "    </div>\n",
              "  </div>\n",
              "  "
            ]
          },
          "metadata": {},
          "execution_count": 87
        }
      ]
    },
    {
      "cell_type": "markdown",
      "source": [
        "## Using Tensorflow Decision Forest"
      ],
      "metadata": {
        "id": "ZAkvmg-Uois2"
      }
    },
    {
      "cell_type": "code",
      "source": [
        "X_train_ds = X_train\n",
        "X_train_ds['target'] = y_train\n",
        "X_val_ds = X_val\n",
        "X_val_ds['target'] = y_val"
      ],
      "metadata": {
        "id": "Z9MTV5rvpywQ"
      },
      "execution_count": null,
      "outputs": []
    },
    {
      "cell_type": "code",
      "source": [
        "X_train_ds = tfdf.pd_dataframe_to_tf_dataset(X_train_ds, label='target')\n",
        "X_val_ds = tfdf.pd_dataframe_to_tf_dataset(X_val_ds, label='target')"
      ],
      "metadata": {
        "colab": {
          "base_uri": "https://localhost:8080/"
        },
        "id": "tehfiq_uornc",
        "outputId": "4c84ced8-f24e-4ec7-dadc-2c815f2d07d8"
      },
      "execution_count": null,
      "outputs": [
        {
          "output_type": "stream",
          "name": "stderr",
          "text": [
            "/usr/local/lib/python3.7/dist-packages/tensorflow_decision_forests/keras/core.py:2036: FutureWarning: In a future version of pandas all arguments of DataFrame.drop except for the argument 'labels' will be keyword-only\n",
            "  features_dataframe = dataframe.drop(label, 1)\n"
          ]
        }
      ]
    },
    {
      "cell_type": "code",
      "source": [
        "clf_tfforest = tfdf.RandomForestModel()\n",
        "clf_tfforest.fit(X_train_ds)"
      ],
      "metadata": {
        "colab": {
          "base_uri": "https://localhost:8080/"
        },
        "id": "FUTETBUHpOsk",
        "outputId": "fe73c116-ce15-4e24-fd21-adc8c4f57051"
      },
      "execution_count": null,
      "outputs": [
        {
          "output_type": "stream",
          "name": "stdout",
          "text": [
            "Use /tmp/tmp3ozqpxbq as temporary training directory\n",
            "Starting reading the dataset\n",
            "719/720 [============================>.] - ETA: 0s\n",
            "Dataset read in 0:00:25.041521\n",
            "Training model\n",
            "Model trained in 0:20:59.051689\n",
            "Compiling model\n",
            "720/720 [==============================] - 1293s 2s/step\n",
            "WARNING:tensorflow:AutoGraph could not transform <function simple_ml_inference_op_with_handle at 0x7fc0b9052b90> and will run it as-is.\n",
            "Please report this to the TensorFlow team. When filing the bug, set the verbosity to 10 (on Linux, `export AUTOGRAPH_VERBOSITY=10`) and attach the full output.\n",
            "Cause: could not get source code\n",
            "To silence this warning, decorate the function with @tf.autograph.experimental.do_not_convert\n"
          ]
        },
        {
          "output_type": "stream",
          "name": "stderr",
          "text": [
            "WARNING:tensorflow:AutoGraph could not transform <function simple_ml_inference_op_with_handle at 0x7fc0b9052b90> and will run it as-is.\n",
            "Please report this to the TensorFlow team. When filing the bug, set the verbosity to 10 (on Linux, `export AUTOGRAPH_VERBOSITY=10`) and attach the full output.\n",
            "Cause: could not get source code\n",
            "To silence this warning, decorate the function with @tf.autograph.experimental.do_not_convert\n"
          ]
        },
        {
          "output_type": "stream",
          "name": "stdout",
          "text": [
            "WARNING: AutoGraph could not transform <function simple_ml_inference_op_with_handle at 0x7fc0b9052b90> and will run it as-is.\n",
            "Please report this to the TensorFlow team. When filing the bug, set the verbosity to 10 (on Linux, `export AUTOGRAPH_VERBOSITY=10`) and attach the full output.\n",
            "Cause: could not get source code\n",
            "To silence this warning, decorate the function with @tf.autograph.experimental.do_not_convert\n"
          ]
        },
        {
          "output_type": "execute_result",
          "data": {
            "text/plain": [
              "<keras.callbacks.History at 0x7fc0b915cfd0>"
            ]
          },
          "metadata": {},
          "execution_count": 17
        }
      ]
    },
    {
      "cell_type": "code",
      "source": [
        "clf_tfforest.compile(metrics=['accuracy'])\n",
        "eval = clf_tfforest.evaluate(X_val_ds, return_dict=True)\n",
        "\n",
        "for name, val in eval.items():\n",
        "  print(f'{name}: {val:.4f}')"
      ],
      "metadata": {
        "colab": {
          "base_uri": "https://localhost:8080/"
        },
        "id": "KxD-MPLlpTAA",
        "outputId": "34642b7c-5cff-4bae-a880-40ff6736fffc"
      },
      "execution_count": null,
      "outputs": [
        {
          "output_type": "stream",
          "name": "stdout",
          "text": [
            "180/180 [==============================] - 27s 149ms/step - loss: 0.0000e+00 - accuracy: 0.7960\n",
            "loss: 0.0000\n",
            "accuracy: 0.7960\n"
          ]
        }
      ]
    },
    {
      "cell_type": "markdown",
      "source": [
        "## Stacking"
      ],
      "metadata": {
        "id": "Is6v2PdX30xF"
      }
    },
    {
      "cell_type": "code",
      "source": [
        "models = [('rf', DecisionTreeClassifier()),\n",
        "          ('svm', SVC()),\n",
        "          ('nb', GaussianNB())]"
      ],
      "metadata": {
        "id": "UZtXDk-v0vhZ"
      },
      "execution_count": null,
      "outputs": []
    },
    {
      "cell_type": "code",
      "source": [
        "clf_stack = StackingClassifier(estimators=models, final_estimator=LogisticRegression())"
      ],
      "metadata": {
        "id": "uwl-R4wC3yvc"
      },
      "execution_count": null,
      "outputs": []
    },
    {
      "cell_type": "code",
      "source": [
        "clf_stack.fit(X_train, y_train)"
      ],
      "metadata": {
        "id": "sHYeyoaP4_BQ"
      },
      "execution_count": null,
      "outputs": []
    },
    {
      "cell_type": "code",
      "source": [
        "class StackingClassifierEstimator:\n",
        "  trained_models = None\n",
        "  accuracy = dict()\n",
        "  # pred_df = None\n",
        "  \n",
        "  def __init__(self, estimators=None, final_estimator=None, neuralnet_models=None, cv=None):\n",
        "    self.estimators = estimators\n",
        "    self.neuralnet_models = neuralnet_models\n",
        "    self.cv = cv\n",
        "    self.final_estimator = final_estimator\n",
        "    pass\n",
        "  \n",
        "  def fit(self, X, y):\n",
        "    trained_models = []\n",
        "    if self.estimators is not None:\n",
        "      for model in self.estimators:\n",
        "        self.accuracy[type(model).__name__] = list()\n",
        "        if self.cv is not None and self.cv > 0:\n",
        "          kf = KFold(n_splits=self.cv, shuffle=True)\n",
        "          i = 1\n",
        "          for train_index, test_index in kf.split(X):\n",
        "            print(f'training KFold {i} for {model}')\n",
        "            model.fit(X.iloc[train_index], y.iloc[train_index])\n",
        "            self.accuracy[type(model).__name__].append(\n",
        "                [\n",
        "                model.score(X.iloc[train_index], y.iloc[train_index]), \n",
        "                model.score(X.iloc[test_index], y.iloc[test_index])\n",
        "                ]\n",
        "            )\n",
        "            trained_models.append(model)\n",
        "            i = i + 1\n",
        "        else:\n",
        "          print(f'training {model}')\n",
        "          model.fit(X, y)\n",
        "          self.accuracy[model].append(model.score(X, y))\n",
        "          trained_models.append(model)\n",
        "      self.trained_models = trained_models\n",
        "    return trained_models\n",
        "\n",
        "  # trained_models = trained_models\n",
        "\n",
        "  def create_pred_df(self, X, y=None):\n",
        "    preds = dict()\n",
        "    # trained_models = self.fit(X, y)\n",
        "    i = 0\n",
        "    if self.trained_models is not None:\n",
        "      for model in self.trained_models:\n",
        "        preds[i] = model.predict(X)\n",
        "        i = i + 1\n",
        "    if self.neuralnet_models is not None:\n",
        "      if type(self.neuralnet_models) is list:\n",
        "        j = 0\n",
        "        for model in self.neuralnet_models:\n",
        "          preds['nn'+str(j)] = model.predict(X)[:,0]\n",
        "          j = j + 1\n",
        "      else:\n",
        "        preds['nn'] = self.neuralnet_models.predict(X)[:,0]\n",
        "    if y is not None:\n",
        "      preds['target'] = y.values\n",
        "    return pd.DataFrame(preds)\n",
        "\n",
        "  def train(self, X, y):\n",
        "    X_train, X_test, y_train, y_test = train_test_split(\n",
        "        X, y, test_size=0.5\n",
        "    )\n",
        "    self.fit(X_train, y_train)\n",
        "    df = self.create_pred_df(X, y)\n",
        "    X = df.drop(columns='target')\n",
        "    y = df['target']\n",
        "    if self.final_estimator is not None:\n",
        "      print(f'Training final estimator -- {self.final_estimator}')\n",
        "      self.final_estimator.fit(X, y)\n",
        "      print(self.final_estimator.score(X, y))\n",
        "\n",
        "  def predict(self, X):\n",
        "    return self.final_estimator.predict(self.create_pred_df(X))\n",
        "\n",
        "  def score(self, X, y):\n",
        "    df = self.create_pred_df(X, y)\n",
        "    return self.final_estimator.score(df.drop(columns='target'), df['target'])\n",
        "\n",
        "\n",
        "\n"
      ],
      "metadata": {
        "id": "AER4r2wtj7L9"
      },
      "execution_count": 56,
      "outputs": []
    },
    {
      "cell_type": "code",
      "source": [
        "models = [RandomForestClassifier(), xgb.XGBClassifier(), GaussianNB(), LogisticRegression(max_iter=1000), SGDClassifier()]\n",
        "m = StackingClassifierEstimator(models, DecisionTreeClassifier(), clf_nn, cv=5)"
      ],
      "metadata": {
        "id": "HDo4L-X1A6vy"
      },
      "execution_count": null,
      "outputs": []
    },
    {
      "cell_type": "code",
      "source": [
        "m.train(X_train, y_train)"
      ],
      "metadata": {
        "id": "L_Ti4F7UBQU6",
        "colab": {
          "base_uri": "https://localhost:8080/"
        },
        "outputId": "499c35d9-3968-42ea-aabb-607519b3336c"
      },
      "execution_count": null,
      "outputs": [
        {
          "output_type": "stream",
          "name": "stdout",
          "text": [
            "training KFold 1 for RandomForestClassifier()\n",
            "training KFold 2 for RandomForestClassifier()\n",
            "training KFold 3 for RandomForestClassifier()\n",
            "training KFold 4 for RandomForestClassifier()\n",
            "training KFold 5 for RandomForestClassifier()\n",
            "training KFold 1 for XGBClassifier()\n",
            "training KFold 2 for XGBClassifier()\n",
            "training KFold 3 for XGBClassifier()\n",
            "training KFold 4 for XGBClassifier()\n",
            "training KFold 5 for XGBClassifier()\n",
            "training KFold 1 for GaussianNB()\n",
            "training KFold 2 for GaussianNB()\n",
            "training KFold 3 for GaussianNB()\n",
            "training KFold 4 for GaussianNB()\n",
            "training KFold 5 for GaussianNB()\n",
            "training KFold 1 for LogisticRegression(max_iter=1000)\n",
            "training KFold 2 for LogisticRegression(max_iter=1000)\n",
            "training KFold 3 for LogisticRegression(max_iter=1000)\n",
            "training KFold 4 for LogisticRegression(max_iter=1000)\n",
            "training KFold 5 for LogisticRegression(max_iter=1000)\n",
            "training KFold 1 for SGDClassifier()\n",
            "training KFold 2 for SGDClassifier()\n",
            "training KFold 3 for SGDClassifier()\n",
            "training KFold 4 for SGDClassifier()\n",
            "training KFold 5 for SGDClassifier()\n",
            "Training final estimator -- DecisionTreeClassifier()\n"
          ]
        },
        {
          "output_type": "stream",
          "name": "stderr",
          "text": [
            "/usr/local/lib/python3.7/dist-packages/sklearn/utils/validation.py:1692: FutureWarning: Feature names only support names that are all strings. Got feature names with dtypes: ['int', 'str']. An error will be raised in 1.2.\n",
            "  FutureWarning,\n",
            "/usr/local/lib/python3.7/dist-packages/sklearn/utils/validation.py:1692: FutureWarning: Feature names only support names that are all strings. Got feature names with dtypes: ['int', 'str']. An error will be raised in 1.2.\n",
            "  FutureWarning,\n"
          ]
        },
        {
          "output_type": "stream",
          "name": "stdout",
          "text": [
            "0.9974736111111111\n"
          ]
        }
      ]
    },
    {
      "cell_type": "code",
      "source": [
        "model = RandomForestClassifier()\n",
        "type(model).__name__ + ' ' + str(2)"
      ],
      "metadata": {
        "colab": {
          "base_uri": "https://localhost:8080/",
          "height": 35
        },
        "id": "z2NGmECt9xXb",
        "outputId": "b4809c27-8acd-4452-d935-0086a4cbfb17"
      },
      "execution_count": null,
      "outputs": [
        {
          "output_type": "execute_result",
          "data": {
            "text/plain": [
              "'RandomForestClassifier 2'"
            ],
            "application/vnd.google.colaboratory.intrinsic+json": {
              "type": "string"
            }
          },
          "metadata": {},
          "execution_count": 32
        }
      ]
    },
    {
      "cell_type": "code",
      "source": [
        "m.score(X_val, y_val)"
      ],
      "metadata": {
        "colab": {
          "base_uri": "https://localhost:8080/"
        },
        "id": "pRldXBB91c_K",
        "outputId": "bc3331e4-a0fb-4bf1-9168-2626e069b304"
      },
      "execution_count": null,
      "outputs": [
        {
          "output_type": "stream",
          "name": "stderr",
          "text": [
            "/usr/local/lib/python3.7/dist-packages/sklearn/utils/validation.py:1692: FutureWarning: Feature names only support names that are all strings. Got feature names with dtypes: ['int', 'str']. An error will be raised in 1.2.\n",
            "  FutureWarning,\n"
          ]
        },
        {
          "output_type": "execute_result",
          "data": {
            "text/plain": [
              "0.8261166666666667"
            ]
          },
          "metadata": {},
          "execution_count": 39
        }
      ]
    },
    {
      "cell_type": "code",
      "source": [
        "pd.DataFrame(m.accuracy)"
      ],
      "metadata": {
        "colab": {
          "base_uri": "https://localhost:8080/",
          "height": 206
        },
        "id": "wp5KMDK4-i6N",
        "outputId": "d5a2bf89-8b3b-44b4-9a55-e365aaa29cfc"
      },
      "execution_count": null,
      "outputs": [
        {
          "output_type": "execute_result",
          "data": {
            "text/plain": [
              "                     RandomForestClassifier  \\\n",
              "0                           [1.0, 0.815375]   \n",
              "1                 [1.0, 0.8171111111111111]   \n",
              "2                 [1.0, 0.8156944444444445]   \n",
              "3  [0.9999965277777778, 0.8159722222222222]   \n",
              "4  [0.9999965277777778, 0.8145138888888889]   \n",
              "\n",
              "                              XGBClassifier  \\\n",
              "0  [0.7400208333333333, 0.7390138888888889]   \n",
              "1  [0.7350833333333333, 0.7346527777777778]   \n",
              "2  [0.7419166666666667, 0.7346527777777778]   \n",
              "3  [0.7413090277777777, 0.7376111111111111]   \n",
              "4  [0.7407708333333334, 0.7364305555555556]   \n",
              "\n",
              "                                 GaussianNB  \\\n",
              "0  [0.6258993055555555, 0.6259166666666667]   \n",
              "1            [0.626125, 0.6261805555555555]   \n",
              "2             [0.6259652777777778, 0.62725]   \n",
              "3  [0.6262534722222223, 0.6254027777777778]   \n",
              "4  [0.6259965277777778, 0.6254444444444445]   \n",
              "\n",
              "                         LogisticRegression  \\\n",
              "0              [0.6152256944444444, 0.6175]   \n",
              "1  [0.6157986111111111, 0.6150416666666667]   \n",
              "2  [0.6163854166666667, 0.6136111111111111]   \n",
              "3  [0.6156840277777778, 0.6151805555555555]   \n",
              "4  [0.6156006944444444, 0.6151805555555555]   \n",
              "\n",
              "                              SGDClassifier  \n",
              "0  [0.5293368055555555, 0.5303472222222222]  \n",
              "1             [0.5516180555555555, 0.55075]  \n",
              "2            [0.5602118055555556, 0.555625]  \n",
              "3  [0.5847118055555556, 0.5865833333333333]  \n",
              "4  [0.5908159722222223, 0.5911944444444445]  "
            ],
            "text/html": [
              "\n",
              "  <div id=\"df-fc1224ab-53d6-4996-9f45-fb5115010bcc\">\n",
              "    <div class=\"colab-df-container\">\n",
              "      <div>\n",
              "<style scoped>\n",
              "    .dataframe tbody tr th:only-of-type {\n",
              "        vertical-align: middle;\n",
              "    }\n",
              "\n",
              "    .dataframe tbody tr th {\n",
              "        vertical-align: top;\n",
              "    }\n",
              "\n",
              "    .dataframe thead th {\n",
              "        text-align: right;\n",
              "    }\n",
              "</style>\n",
              "<table border=\"1\" class=\"dataframe\">\n",
              "  <thead>\n",
              "    <tr style=\"text-align: right;\">\n",
              "      <th></th>\n",
              "      <th>RandomForestClassifier</th>\n",
              "      <th>XGBClassifier</th>\n",
              "      <th>GaussianNB</th>\n",
              "      <th>LogisticRegression</th>\n",
              "      <th>SGDClassifier</th>\n",
              "    </tr>\n",
              "  </thead>\n",
              "  <tbody>\n",
              "    <tr>\n",
              "      <th>0</th>\n",
              "      <td>[1.0, 0.815375]</td>\n",
              "      <td>[0.7400208333333333, 0.7390138888888889]</td>\n",
              "      <td>[0.6258993055555555, 0.6259166666666667]</td>\n",
              "      <td>[0.6152256944444444, 0.6175]</td>\n",
              "      <td>[0.5293368055555555, 0.5303472222222222]</td>\n",
              "    </tr>\n",
              "    <tr>\n",
              "      <th>1</th>\n",
              "      <td>[1.0, 0.8171111111111111]</td>\n",
              "      <td>[0.7350833333333333, 0.7346527777777778]</td>\n",
              "      <td>[0.626125, 0.6261805555555555]</td>\n",
              "      <td>[0.6157986111111111, 0.6150416666666667]</td>\n",
              "      <td>[0.5516180555555555, 0.55075]</td>\n",
              "    </tr>\n",
              "    <tr>\n",
              "      <th>2</th>\n",
              "      <td>[1.0, 0.8156944444444445]</td>\n",
              "      <td>[0.7419166666666667, 0.7346527777777778]</td>\n",
              "      <td>[0.6259652777777778, 0.62725]</td>\n",
              "      <td>[0.6163854166666667, 0.6136111111111111]</td>\n",
              "      <td>[0.5602118055555556, 0.555625]</td>\n",
              "    </tr>\n",
              "    <tr>\n",
              "      <th>3</th>\n",
              "      <td>[0.9999965277777778, 0.8159722222222222]</td>\n",
              "      <td>[0.7413090277777777, 0.7376111111111111]</td>\n",
              "      <td>[0.6262534722222223, 0.6254027777777778]</td>\n",
              "      <td>[0.6156840277777778, 0.6151805555555555]</td>\n",
              "      <td>[0.5847118055555556, 0.5865833333333333]</td>\n",
              "    </tr>\n",
              "    <tr>\n",
              "      <th>4</th>\n",
              "      <td>[0.9999965277777778, 0.8145138888888889]</td>\n",
              "      <td>[0.7407708333333334, 0.7364305555555556]</td>\n",
              "      <td>[0.6259965277777778, 0.6254444444444445]</td>\n",
              "      <td>[0.6156006944444444, 0.6151805555555555]</td>\n",
              "      <td>[0.5908159722222223, 0.5911944444444445]</td>\n",
              "    </tr>\n",
              "  </tbody>\n",
              "</table>\n",
              "</div>\n",
              "      <button class=\"colab-df-convert\" onclick=\"convertToInteractive('df-fc1224ab-53d6-4996-9f45-fb5115010bcc')\"\n",
              "              title=\"Convert this dataframe to an interactive table.\"\n",
              "              style=\"display:none;\">\n",
              "        \n",
              "  <svg xmlns=\"http://www.w3.org/2000/svg\" height=\"24px\"viewBox=\"0 0 24 24\"\n",
              "       width=\"24px\">\n",
              "    <path d=\"M0 0h24v24H0V0z\" fill=\"none\"/>\n",
              "    <path d=\"M18.56 5.44l.94 2.06.94-2.06 2.06-.94-2.06-.94-.94-2.06-.94 2.06-2.06.94zm-11 1L8.5 8.5l.94-2.06 2.06-.94-2.06-.94L8.5 2.5l-.94 2.06-2.06.94zm10 10l.94 2.06.94-2.06 2.06-.94-2.06-.94-.94-2.06-.94 2.06-2.06.94z\"/><path d=\"M17.41 7.96l-1.37-1.37c-.4-.4-.92-.59-1.43-.59-.52 0-1.04.2-1.43.59L10.3 9.45l-7.72 7.72c-.78.78-.78 2.05 0 2.83L4 21.41c.39.39.9.59 1.41.59.51 0 1.02-.2 1.41-.59l7.78-7.78 2.81-2.81c.8-.78.8-2.07 0-2.86zM5.41 20L4 18.59l7.72-7.72 1.47 1.35L5.41 20z\"/>\n",
              "  </svg>\n",
              "      </button>\n",
              "      \n",
              "  <style>\n",
              "    .colab-df-container {\n",
              "      display:flex;\n",
              "      flex-wrap:wrap;\n",
              "      gap: 12px;\n",
              "    }\n",
              "\n",
              "    .colab-df-convert {\n",
              "      background-color: #E8F0FE;\n",
              "      border: none;\n",
              "      border-radius: 50%;\n",
              "      cursor: pointer;\n",
              "      display: none;\n",
              "      fill: #1967D2;\n",
              "      height: 32px;\n",
              "      padding: 0 0 0 0;\n",
              "      width: 32px;\n",
              "    }\n",
              "\n",
              "    .colab-df-convert:hover {\n",
              "      background-color: #E2EBFA;\n",
              "      box-shadow: 0px 1px 2px rgba(60, 64, 67, 0.3), 0px 1px 3px 1px rgba(60, 64, 67, 0.15);\n",
              "      fill: #174EA6;\n",
              "    }\n",
              "\n",
              "    [theme=dark] .colab-df-convert {\n",
              "      background-color: #3B4455;\n",
              "      fill: #D2E3FC;\n",
              "    }\n",
              "\n",
              "    [theme=dark] .colab-df-convert:hover {\n",
              "      background-color: #434B5C;\n",
              "      box-shadow: 0px 1px 3px 1px rgba(0, 0, 0, 0.15);\n",
              "      filter: drop-shadow(0px 1px 2px rgba(0, 0, 0, 0.3));\n",
              "      fill: #FFFFFF;\n",
              "    }\n",
              "  </style>\n",
              "\n",
              "      <script>\n",
              "        const buttonEl =\n",
              "          document.querySelector('#df-fc1224ab-53d6-4996-9f45-fb5115010bcc button.colab-df-convert');\n",
              "        buttonEl.style.display =\n",
              "          google.colab.kernel.accessAllowed ? 'block' : 'none';\n",
              "\n",
              "        async function convertToInteractive(key) {\n",
              "          const element = document.querySelector('#df-fc1224ab-53d6-4996-9f45-fb5115010bcc');\n",
              "          const dataTable =\n",
              "            await google.colab.kernel.invokeFunction('convertToInteractive',\n",
              "                                                     [key], {});\n",
              "          if (!dataTable) return;\n",
              "\n",
              "          const docLinkHtml = 'Like what you see? Visit the ' +\n",
              "            '<a target=\"_blank\" href=https://colab.research.google.com/notebooks/data_table.ipynb>data table notebook</a>'\n",
              "            + ' to learn more about interactive tables.';\n",
              "          element.innerHTML = '';\n",
              "          dataTable['output_type'] = 'display_data';\n",
              "          await google.colab.output.renderOutput(dataTable, element);\n",
              "          const docLink = document.createElement('div');\n",
              "          docLink.innerHTML = docLinkHtml;\n",
              "          element.appendChild(docLink);\n",
              "        }\n",
              "      </script>\n",
              "    </div>\n",
              "  </div>\n",
              "  "
            ]
          },
          "metadata": {},
          "execution_count": 41
        }
      ]
    },
    {
      "cell_type": "code",
      "source": [
        "df2 = m.create_pred_df(X_train, y_train)\n",
        "df2.head()"
      ],
      "metadata": {
        "id": "192esZAdP1KM",
        "colab": {
          "base_uri": "https://localhost:8080/",
          "height": 236
        },
        "outputId": "b8a39225-fc5c-4bac-b086-25c6ad13d331"
      },
      "execution_count": null,
      "outputs": [
        {
          "output_type": "execute_result",
          "data": {
            "text/plain": [
              "   0  1  2  3  4  5  6  7  8  9  ...  12  13  14  15  16  17  18  19  \\\n",
              "0  0  0  0  0  0  0  0  0  0  0  ...   0   0   0   0   0   0   0   0   \n",
              "1  0  0  0  0  0  0  0  0  0  0  ...   0   0   0   0   0   0   0   0   \n",
              "2  1  1  1  1  1  1  1  1  1  1  ...   1   1   1   1   1   1   1   1   \n",
              "3  0  0  0  0  0  0  0  0  0  0  ...   0   0   0   0   0   0   0   0   \n",
              "4  1  1  1  1  1  0  0  0  0  0  ...   1   1   1   1   1   1   1   1   \n",
              "\n",
              "         nn  target  \n",
              "0  0.051432       0  \n",
              "1  0.012238       0  \n",
              "2  0.964378       1  \n",
              "3  0.049843       0  \n",
              "4  0.875327       1  \n",
              "\n",
              "[5 rows x 22 columns]"
            ],
            "text/html": [
              "\n",
              "  <div id=\"df-809e8154-0506-42ee-9d35-2f5aaadc0541\">\n",
              "    <div class=\"colab-df-container\">\n",
              "      <div>\n",
              "<style scoped>\n",
              "    .dataframe tbody tr th:only-of-type {\n",
              "        vertical-align: middle;\n",
              "    }\n",
              "\n",
              "    .dataframe tbody tr th {\n",
              "        vertical-align: top;\n",
              "    }\n",
              "\n",
              "    .dataframe thead th {\n",
              "        text-align: right;\n",
              "    }\n",
              "</style>\n",
              "<table border=\"1\" class=\"dataframe\">\n",
              "  <thead>\n",
              "    <tr style=\"text-align: right;\">\n",
              "      <th></th>\n",
              "      <th>0</th>\n",
              "      <th>1</th>\n",
              "      <th>2</th>\n",
              "      <th>3</th>\n",
              "      <th>4</th>\n",
              "      <th>5</th>\n",
              "      <th>6</th>\n",
              "      <th>7</th>\n",
              "      <th>8</th>\n",
              "      <th>9</th>\n",
              "      <th>...</th>\n",
              "      <th>12</th>\n",
              "      <th>13</th>\n",
              "      <th>14</th>\n",
              "      <th>15</th>\n",
              "      <th>16</th>\n",
              "      <th>17</th>\n",
              "      <th>18</th>\n",
              "      <th>19</th>\n",
              "      <th>nn</th>\n",
              "      <th>target</th>\n",
              "    </tr>\n",
              "  </thead>\n",
              "  <tbody>\n",
              "    <tr>\n",
              "      <th>0</th>\n",
              "      <td>0</td>\n",
              "      <td>0</td>\n",
              "      <td>0</td>\n",
              "      <td>0</td>\n",
              "      <td>0</td>\n",
              "      <td>0</td>\n",
              "      <td>0</td>\n",
              "      <td>0</td>\n",
              "      <td>0</td>\n",
              "      <td>0</td>\n",
              "      <td>...</td>\n",
              "      <td>0</td>\n",
              "      <td>0</td>\n",
              "      <td>0</td>\n",
              "      <td>0</td>\n",
              "      <td>0</td>\n",
              "      <td>0</td>\n",
              "      <td>0</td>\n",
              "      <td>0</td>\n",
              "      <td>0.051432</td>\n",
              "      <td>0</td>\n",
              "    </tr>\n",
              "    <tr>\n",
              "      <th>1</th>\n",
              "      <td>0</td>\n",
              "      <td>0</td>\n",
              "      <td>0</td>\n",
              "      <td>0</td>\n",
              "      <td>0</td>\n",
              "      <td>0</td>\n",
              "      <td>0</td>\n",
              "      <td>0</td>\n",
              "      <td>0</td>\n",
              "      <td>0</td>\n",
              "      <td>...</td>\n",
              "      <td>0</td>\n",
              "      <td>0</td>\n",
              "      <td>0</td>\n",
              "      <td>0</td>\n",
              "      <td>0</td>\n",
              "      <td>0</td>\n",
              "      <td>0</td>\n",
              "      <td>0</td>\n",
              "      <td>0.012238</td>\n",
              "      <td>0</td>\n",
              "    </tr>\n",
              "    <tr>\n",
              "      <th>2</th>\n",
              "      <td>1</td>\n",
              "      <td>1</td>\n",
              "      <td>1</td>\n",
              "      <td>1</td>\n",
              "      <td>1</td>\n",
              "      <td>1</td>\n",
              "      <td>1</td>\n",
              "      <td>1</td>\n",
              "      <td>1</td>\n",
              "      <td>1</td>\n",
              "      <td>...</td>\n",
              "      <td>1</td>\n",
              "      <td>1</td>\n",
              "      <td>1</td>\n",
              "      <td>1</td>\n",
              "      <td>1</td>\n",
              "      <td>1</td>\n",
              "      <td>1</td>\n",
              "      <td>1</td>\n",
              "      <td>0.964378</td>\n",
              "      <td>1</td>\n",
              "    </tr>\n",
              "    <tr>\n",
              "      <th>3</th>\n",
              "      <td>0</td>\n",
              "      <td>0</td>\n",
              "      <td>0</td>\n",
              "      <td>0</td>\n",
              "      <td>0</td>\n",
              "      <td>0</td>\n",
              "      <td>0</td>\n",
              "      <td>0</td>\n",
              "      <td>0</td>\n",
              "      <td>0</td>\n",
              "      <td>...</td>\n",
              "      <td>0</td>\n",
              "      <td>0</td>\n",
              "      <td>0</td>\n",
              "      <td>0</td>\n",
              "      <td>0</td>\n",
              "      <td>0</td>\n",
              "      <td>0</td>\n",
              "      <td>0</td>\n",
              "      <td>0.049843</td>\n",
              "      <td>0</td>\n",
              "    </tr>\n",
              "    <tr>\n",
              "      <th>4</th>\n",
              "      <td>1</td>\n",
              "      <td>1</td>\n",
              "      <td>1</td>\n",
              "      <td>1</td>\n",
              "      <td>1</td>\n",
              "      <td>0</td>\n",
              "      <td>0</td>\n",
              "      <td>0</td>\n",
              "      <td>0</td>\n",
              "      <td>0</td>\n",
              "      <td>...</td>\n",
              "      <td>1</td>\n",
              "      <td>1</td>\n",
              "      <td>1</td>\n",
              "      <td>1</td>\n",
              "      <td>1</td>\n",
              "      <td>1</td>\n",
              "      <td>1</td>\n",
              "      <td>1</td>\n",
              "      <td>0.875327</td>\n",
              "      <td>1</td>\n",
              "    </tr>\n",
              "  </tbody>\n",
              "</table>\n",
              "<p>5 rows × 22 columns</p>\n",
              "</div>\n",
              "      <button class=\"colab-df-convert\" onclick=\"convertToInteractive('df-809e8154-0506-42ee-9d35-2f5aaadc0541')\"\n",
              "              title=\"Convert this dataframe to an interactive table.\"\n",
              "              style=\"display:none;\">\n",
              "        \n",
              "  <svg xmlns=\"http://www.w3.org/2000/svg\" height=\"24px\"viewBox=\"0 0 24 24\"\n",
              "       width=\"24px\">\n",
              "    <path d=\"M0 0h24v24H0V0z\" fill=\"none\"/>\n",
              "    <path d=\"M18.56 5.44l.94 2.06.94-2.06 2.06-.94-2.06-.94-.94-2.06-.94 2.06-2.06.94zm-11 1L8.5 8.5l.94-2.06 2.06-.94-2.06-.94L8.5 2.5l-.94 2.06-2.06.94zm10 10l.94 2.06.94-2.06 2.06-.94-2.06-.94-.94-2.06-.94 2.06-2.06.94z\"/><path d=\"M17.41 7.96l-1.37-1.37c-.4-.4-.92-.59-1.43-.59-.52 0-1.04.2-1.43.59L10.3 9.45l-7.72 7.72c-.78.78-.78 2.05 0 2.83L4 21.41c.39.39.9.59 1.41.59.51 0 1.02-.2 1.41-.59l7.78-7.78 2.81-2.81c.8-.78.8-2.07 0-2.86zM5.41 20L4 18.59l7.72-7.72 1.47 1.35L5.41 20z\"/>\n",
              "  </svg>\n",
              "      </button>\n",
              "      \n",
              "  <style>\n",
              "    .colab-df-container {\n",
              "      display:flex;\n",
              "      flex-wrap:wrap;\n",
              "      gap: 12px;\n",
              "    }\n",
              "\n",
              "    .colab-df-convert {\n",
              "      background-color: #E8F0FE;\n",
              "      border: none;\n",
              "      border-radius: 50%;\n",
              "      cursor: pointer;\n",
              "      display: none;\n",
              "      fill: #1967D2;\n",
              "      height: 32px;\n",
              "      padding: 0 0 0 0;\n",
              "      width: 32px;\n",
              "    }\n",
              "\n",
              "    .colab-df-convert:hover {\n",
              "      background-color: #E2EBFA;\n",
              "      box-shadow: 0px 1px 2px rgba(60, 64, 67, 0.3), 0px 1px 3px 1px rgba(60, 64, 67, 0.15);\n",
              "      fill: #174EA6;\n",
              "    }\n",
              "\n",
              "    [theme=dark] .colab-df-convert {\n",
              "      background-color: #3B4455;\n",
              "      fill: #D2E3FC;\n",
              "    }\n",
              "\n",
              "    [theme=dark] .colab-df-convert:hover {\n",
              "      background-color: #434B5C;\n",
              "      box-shadow: 0px 1px 3px 1px rgba(0, 0, 0, 0.15);\n",
              "      filter: drop-shadow(0px 1px 2px rgba(0, 0, 0, 0.3));\n",
              "      fill: #FFFFFF;\n",
              "    }\n",
              "  </style>\n",
              "\n",
              "      <script>\n",
              "        const buttonEl =\n",
              "          document.querySelector('#df-809e8154-0506-42ee-9d35-2f5aaadc0541 button.colab-df-convert');\n",
              "        buttonEl.style.display =\n",
              "          google.colab.kernel.accessAllowed ? 'block' : 'none';\n",
              "\n",
              "        async function convertToInteractive(key) {\n",
              "          const element = document.querySelector('#df-809e8154-0506-42ee-9d35-2f5aaadc0541');\n",
              "          const dataTable =\n",
              "            await google.colab.kernel.invokeFunction('convertToInteractive',\n",
              "                                                     [key], {});\n",
              "          if (!dataTable) return;\n",
              "\n",
              "          const docLinkHtml = 'Like what you see? Visit the ' +\n",
              "            '<a target=\"_blank\" href=https://colab.research.google.com/notebooks/data_table.ipynb>data table notebook</a>'\n",
              "            + ' to learn more about interactive tables.';\n",
              "          element.innerHTML = '';\n",
              "          dataTable['output_type'] = 'display_data';\n",
              "          await google.colab.output.renderOutput(dataTable, element);\n",
              "          const docLink = document.createElement('div');\n",
              "          docLink.innerHTML = docLinkHtml;\n",
              "          element.appendChild(docLink);\n",
              "        }\n",
              "      </script>\n",
              "    </div>\n",
              "  </div>\n",
              "  "
            ]
          },
          "metadata": {},
          "execution_count": 17
        }
      ]
    },
    {
      "cell_type": "code",
      "source": [
        "df3 = m.create_pred_df(X_val, y_val)\n",
        "X_ii = df3.drop(columns='target')\n",
        "y_ii = df3['target']"
      ],
      "metadata": {
        "id": "XsfE3SqzsSha"
      },
      "execution_count": null,
      "outputs": []
    },
    {
      "cell_type": "code",
      "source": [
        "X_i = df2.drop(columns='target')\n",
        "y_i = df2['target']\n",
        "n_cols = min(X_i.shape)\n",
        "model_2 = Sequential([\n",
        "  Dense(n_cols * 2, input_shape=(n_cols,), activation='relu'),\n",
        "  Dense(n_cols * 2, activation='relu'),\n",
        "  Dense(n_cols * 2, activation='relu'),\n",
        "  Dense(n_cols * 2, activation='relu'),\n",
        "  Dense(1, activation='sigmoid')                  \n",
        "])"
      ],
      "metadata": {
        "id": "G4q4ovrHrZyV"
      },
      "execution_count": null,
      "outputs": []
    },
    {
      "cell_type": "code",
      "source": [
        "model_2.compile(Adam(), 'binary_crossentropy', metrics=['Accuracy'])"
      ],
      "metadata": {
        "id": "45nX5ssmskiY"
      },
      "execution_count": null,
      "outputs": []
    },
    {
      "cell_type": "code",
      "source": [
        "model_2.fit(X_i, y_i, epochs=2, batch_size=64, validation_data=[X_ii, y_ii])"
      ],
      "metadata": {
        "colab": {
          "base_uri": "https://localhost:8080/"
        },
        "id": "88YWZrbEspXP",
        "outputId": "d65731ed-6dd0-4a82-da11-3ac20271215f"
      },
      "execution_count": null,
      "outputs": [
        {
          "output_type": "stream",
          "name": "stdout",
          "text": [
            "Epoch 1/2\n",
            "11250/11250 [==============================] - 33s 3ms/step - loss: 0.2535 - Accuracy: 0.9056 - val_loss: 0.3401 - val_Accuracy: 0.8583\n",
            "Epoch 2/2\n",
            "11250/11250 [==============================] - 32s 3ms/step - loss: 0.2531 - Accuracy: 0.9055 - val_loss: 0.3516 - val_Accuracy: 0.8588\n"
          ]
        },
        {
          "output_type": "execute_result",
          "data": {
            "text/plain": [
              "<keras.callbacks.History at 0x7fe34d305750>"
            ]
          },
          "metadata": {},
          "execution_count": 40
        }
      ]
    },
    {
      "cell_type": "code",
      "source": [
        "mask = df2[df2['nn'].between(0.4, 0.6)]\n",
        "# df2[mask].head()\n",
        "mask"
      ],
      "metadata": {
        "colab": {
          "base_uri": "https://localhost:8080/",
          "height": 424
        },
        "id": "iuYBRl1q12Nh",
        "outputId": "cfdcb076-0b42-4db4-bbd5-5645bd35e973"
      },
      "execution_count": null,
      "outputs": [
        {
          "output_type": "execute_result",
          "data": {
            "text/plain": [
              "        0  1  2  3  4  5  6  7  8  9  10  11  12  13  14        nn  target\n",
              "31      1  1  1  1  1  0  0  0  0  0   0   0   0   0   0  0.457152       1\n",
              "44      0  0  0  0  0  0  0  0  0  0   1   1   1   1   1  0.434332       0\n",
              "48      0  0  0  0  0  0  0  0  0  0   0   0   0   0   0  0.538046       0\n",
              "49      1  1  1  1  1  1  1  1  1  1   0   0   0   0   0  0.568418       0\n",
              "90      0  0  0  0  0  0  0  0  0  0   0   0   0   0   0  0.442512       1\n",
              "...    .. .. .. .. .. .. .. .. .. ..  ..  ..  ..  ..  ..       ...     ...\n",
              "719948  1  1  1  1  1  1  1  1  1  1   1   1   1   1   1  0.426224       0\n",
              "719951  0  0  0  0  0  0  0  0  0  0   0   0   0   0   0  0.415296       0\n",
              "719955  0  0  0  0  0  1  1  1  1  1   1   1   1   1   1  0.476533       0\n",
              "719984  0  0  0  0  0  0  0  0  0  0   0   0   0   0   0  0.468008       1\n",
              "719987  1  1  1  1  1  1  1  1  1  1   1   1   1   1   1  0.533918       0\n",
              "\n",
              "[45764 rows x 17 columns]"
            ],
            "text/html": [
              "\n",
              "  <div id=\"df-d8661c31-0a5c-4220-aa14-ebd035dfeae8\">\n",
              "    <div class=\"colab-df-container\">\n",
              "      <div>\n",
              "<style scoped>\n",
              "    .dataframe tbody tr th:only-of-type {\n",
              "        vertical-align: middle;\n",
              "    }\n",
              "\n",
              "    .dataframe tbody tr th {\n",
              "        vertical-align: top;\n",
              "    }\n",
              "\n",
              "    .dataframe thead th {\n",
              "        text-align: right;\n",
              "    }\n",
              "</style>\n",
              "<table border=\"1\" class=\"dataframe\">\n",
              "  <thead>\n",
              "    <tr style=\"text-align: right;\">\n",
              "      <th></th>\n",
              "      <th>0</th>\n",
              "      <th>1</th>\n",
              "      <th>2</th>\n",
              "      <th>3</th>\n",
              "      <th>4</th>\n",
              "      <th>5</th>\n",
              "      <th>6</th>\n",
              "      <th>7</th>\n",
              "      <th>8</th>\n",
              "      <th>9</th>\n",
              "      <th>10</th>\n",
              "      <th>11</th>\n",
              "      <th>12</th>\n",
              "      <th>13</th>\n",
              "      <th>14</th>\n",
              "      <th>nn</th>\n",
              "      <th>target</th>\n",
              "    </tr>\n",
              "  </thead>\n",
              "  <tbody>\n",
              "    <tr>\n",
              "      <th>31</th>\n",
              "      <td>1</td>\n",
              "      <td>1</td>\n",
              "      <td>1</td>\n",
              "      <td>1</td>\n",
              "      <td>1</td>\n",
              "      <td>0</td>\n",
              "      <td>0</td>\n",
              "      <td>0</td>\n",
              "      <td>0</td>\n",
              "      <td>0</td>\n",
              "      <td>0</td>\n",
              "      <td>0</td>\n",
              "      <td>0</td>\n",
              "      <td>0</td>\n",
              "      <td>0</td>\n",
              "      <td>0.457152</td>\n",
              "      <td>1</td>\n",
              "    </tr>\n",
              "    <tr>\n",
              "      <th>44</th>\n",
              "      <td>0</td>\n",
              "      <td>0</td>\n",
              "      <td>0</td>\n",
              "      <td>0</td>\n",
              "      <td>0</td>\n",
              "      <td>0</td>\n",
              "      <td>0</td>\n",
              "      <td>0</td>\n",
              "      <td>0</td>\n",
              "      <td>0</td>\n",
              "      <td>1</td>\n",
              "      <td>1</td>\n",
              "      <td>1</td>\n",
              "      <td>1</td>\n",
              "      <td>1</td>\n",
              "      <td>0.434332</td>\n",
              "      <td>0</td>\n",
              "    </tr>\n",
              "    <tr>\n",
              "      <th>48</th>\n",
              "      <td>0</td>\n",
              "      <td>0</td>\n",
              "      <td>0</td>\n",
              "      <td>0</td>\n",
              "      <td>0</td>\n",
              "      <td>0</td>\n",
              "      <td>0</td>\n",
              "      <td>0</td>\n",
              "      <td>0</td>\n",
              "      <td>0</td>\n",
              "      <td>0</td>\n",
              "      <td>0</td>\n",
              "      <td>0</td>\n",
              "      <td>0</td>\n",
              "      <td>0</td>\n",
              "      <td>0.538046</td>\n",
              "      <td>0</td>\n",
              "    </tr>\n",
              "    <tr>\n",
              "      <th>49</th>\n",
              "      <td>1</td>\n",
              "      <td>1</td>\n",
              "      <td>1</td>\n",
              "      <td>1</td>\n",
              "      <td>1</td>\n",
              "      <td>1</td>\n",
              "      <td>1</td>\n",
              "      <td>1</td>\n",
              "      <td>1</td>\n",
              "      <td>1</td>\n",
              "      <td>0</td>\n",
              "      <td>0</td>\n",
              "      <td>0</td>\n",
              "      <td>0</td>\n",
              "      <td>0</td>\n",
              "      <td>0.568418</td>\n",
              "      <td>0</td>\n",
              "    </tr>\n",
              "    <tr>\n",
              "      <th>90</th>\n",
              "      <td>0</td>\n",
              "      <td>0</td>\n",
              "      <td>0</td>\n",
              "      <td>0</td>\n",
              "      <td>0</td>\n",
              "      <td>0</td>\n",
              "      <td>0</td>\n",
              "      <td>0</td>\n",
              "      <td>0</td>\n",
              "      <td>0</td>\n",
              "      <td>0</td>\n",
              "      <td>0</td>\n",
              "      <td>0</td>\n",
              "      <td>0</td>\n",
              "      <td>0</td>\n",
              "      <td>0.442512</td>\n",
              "      <td>1</td>\n",
              "    </tr>\n",
              "    <tr>\n",
              "      <th>...</th>\n",
              "      <td>...</td>\n",
              "      <td>...</td>\n",
              "      <td>...</td>\n",
              "      <td>...</td>\n",
              "      <td>...</td>\n",
              "      <td>...</td>\n",
              "      <td>...</td>\n",
              "      <td>...</td>\n",
              "      <td>...</td>\n",
              "      <td>...</td>\n",
              "      <td>...</td>\n",
              "      <td>...</td>\n",
              "      <td>...</td>\n",
              "      <td>...</td>\n",
              "      <td>...</td>\n",
              "      <td>...</td>\n",
              "      <td>...</td>\n",
              "    </tr>\n",
              "    <tr>\n",
              "      <th>719948</th>\n",
              "      <td>1</td>\n",
              "      <td>1</td>\n",
              "      <td>1</td>\n",
              "      <td>1</td>\n",
              "      <td>1</td>\n",
              "      <td>1</td>\n",
              "      <td>1</td>\n",
              "      <td>1</td>\n",
              "      <td>1</td>\n",
              "      <td>1</td>\n",
              "      <td>1</td>\n",
              "      <td>1</td>\n",
              "      <td>1</td>\n",
              "      <td>1</td>\n",
              "      <td>1</td>\n",
              "      <td>0.426224</td>\n",
              "      <td>0</td>\n",
              "    </tr>\n",
              "    <tr>\n",
              "      <th>719951</th>\n",
              "      <td>0</td>\n",
              "      <td>0</td>\n",
              "      <td>0</td>\n",
              "      <td>0</td>\n",
              "      <td>0</td>\n",
              "      <td>0</td>\n",
              "      <td>0</td>\n",
              "      <td>0</td>\n",
              "      <td>0</td>\n",
              "      <td>0</td>\n",
              "      <td>0</td>\n",
              "      <td>0</td>\n",
              "      <td>0</td>\n",
              "      <td>0</td>\n",
              "      <td>0</td>\n",
              "      <td>0.415296</td>\n",
              "      <td>0</td>\n",
              "    </tr>\n",
              "    <tr>\n",
              "      <th>719955</th>\n",
              "      <td>0</td>\n",
              "      <td>0</td>\n",
              "      <td>0</td>\n",
              "      <td>0</td>\n",
              "      <td>0</td>\n",
              "      <td>1</td>\n",
              "      <td>1</td>\n",
              "      <td>1</td>\n",
              "      <td>1</td>\n",
              "      <td>1</td>\n",
              "      <td>1</td>\n",
              "      <td>1</td>\n",
              "      <td>1</td>\n",
              "      <td>1</td>\n",
              "      <td>1</td>\n",
              "      <td>0.476533</td>\n",
              "      <td>0</td>\n",
              "    </tr>\n",
              "    <tr>\n",
              "      <th>719984</th>\n",
              "      <td>0</td>\n",
              "      <td>0</td>\n",
              "      <td>0</td>\n",
              "      <td>0</td>\n",
              "      <td>0</td>\n",
              "      <td>0</td>\n",
              "      <td>0</td>\n",
              "      <td>0</td>\n",
              "      <td>0</td>\n",
              "      <td>0</td>\n",
              "      <td>0</td>\n",
              "      <td>0</td>\n",
              "      <td>0</td>\n",
              "      <td>0</td>\n",
              "      <td>0</td>\n",
              "      <td>0.468008</td>\n",
              "      <td>1</td>\n",
              "    </tr>\n",
              "    <tr>\n",
              "      <th>719987</th>\n",
              "      <td>1</td>\n",
              "      <td>1</td>\n",
              "      <td>1</td>\n",
              "      <td>1</td>\n",
              "      <td>1</td>\n",
              "      <td>1</td>\n",
              "      <td>1</td>\n",
              "      <td>1</td>\n",
              "      <td>1</td>\n",
              "      <td>1</td>\n",
              "      <td>1</td>\n",
              "      <td>1</td>\n",
              "      <td>1</td>\n",
              "      <td>1</td>\n",
              "      <td>1</td>\n",
              "      <td>0.533918</td>\n",
              "      <td>0</td>\n",
              "    </tr>\n",
              "  </tbody>\n",
              "</table>\n",
              "<p>45764 rows × 17 columns</p>\n",
              "</div>\n",
              "      <button class=\"colab-df-convert\" onclick=\"convertToInteractive('df-d8661c31-0a5c-4220-aa14-ebd035dfeae8')\"\n",
              "              title=\"Convert this dataframe to an interactive table.\"\n",
              "              style=\"display:none;\">\n",
              "        \n",
              "  <svg xmlns=\"http://www.w3.org/2000/svg\" height=\"24px\"viewBox=\"0 0 24 24\"\n",
              "       width=\"24px\">\n",
              "    <path d=\"M0 0h24v24H0V0z\" fill=\"none\"/>\n",
              "    <path d=\"M18.56 5.44l.94 2.06.94-2.06 2.06-.94-2.06-.94-.94-2.06-.94 2.06-2.06.94zm-11 1L8.5 8.5l.94-2.06 2.06-.94-2.06-.94L8.5 2.5l-.94 2.06-2.06.94zm10 10l.94 2.06.94-2.06 2.06-.94-2.06-.94-.94-2.06-.94 2.06-2.06.94z\"/><path d=\"M17.41 7.96l-1.37-1.37c-.4-.4-.92-.59-1.43-.59-.52 0-1.04.2-1.43.59L10.3 9.45l-7.72 7.72c-.78.78-.78 2.05 0 2.83L4 21.41c.39.39.9.59 1.41.59.51 0 1.02-.2 1.41-.59l7.78-7.78 2.81-2.81c.8-.78.8-2.07 0-2.86zM5.41 20L4 18.59l7.72-7.72 1.47 1.35L5.41 20z\"/>\n",
              "  </svg>\n",
              "      </button>\n",
              "      \n",
              "  <style>\n",
              "    .colab-df-container {\n",
              "      display:flex;\n",
              "      flex-wrap:wrap;\n",
              "      gap: 12px;\n",
              "    }\n",
              "\n",
              "    .colab-df-convert {\n",
              "      background-color: #E8F0FE;\n",
              "      border: none;\n",
              "      border-radius: 50%;\n",
              "      cursor: pointer;\n",
              "      display: none;\n",
              "      fill: #1967D2;\n",
              "      height: 32px;\n",
              "      padding: 0 0 0 0;\n",
              "      width: 32px;\n",
              "    }\n",
              "\n",
              "    .colab-df-convert:hover {\n",
              "      background-color: #E2EBFA;\n",
              "      box-shadow: 0px 1px 2px rgba(60, 64, 67, 0.3), 0px 1px 3px 1px rgba(60, 64, 67, 0.15);\n",
              "      fill: #174EA6;\n",
              "    }\n",
              "\n",
              "    [theme=dark] .colab-df-convert {\n",
              "      background-color: #3B4455;\n",
              "      fill: #D2E3FC;\n",
              "    }\n",
              "\n",
              "    [theme=dark] .colab-df-convert:hover {\n",
              "      background-color: #434B5C;\n",
              "      box-shadow: 0px 1px 3px 1px rgba(0, 0, 0, 0.15);\n",
              "      filter: drop-shadow(0px 1px 2px rgba(0, 0, 0, 0.3));\n",
              "      fill: #FFFFFF;\n",
              "    }\n",
              "  </style>\n",
              "\n",
              "      <script>\n",
              "        const buttonEl =\n",
              "          document.querySelector('#df-d8661c31-0a5c-4220-aa14-ebd035dfeae8 button.colab-df-convert');\n",
              "        buttonEl.style.display =\n",
              "          google.colab.kernel.accessAllowed ? 'block' : 'none';\n",
              "\n",
              "        async function convertToInteractive(key) {\n",
              "          const element = document.querySelector('#df-d8661c31-0a5c-4220-aa14-ebd035dfeae8');\n",
              "          const dataTable =\n",
              "            await google.colab.kernel.invokeFunction('convertToInteractive',\n",
              "                                                     [key], {});\n",
              "          if (!dataTable) return;\n",
              "\n",
              "          const docLinkHtml = 'Like what you see? Visit the ' +\n",
              "            '<a target=\"_blank\" href=https://colab.research.google.com/notebooks/data_table.ipynb>data table notebook</a>'\n",
              "            + ' to learn more about interactive tables.';\n",
              "          element.innerHTML = '';\n",
              "          dataTable['output_type'] = 'display_data';\n",
              "          await google.colab.output.renderOutput(dataTable, element);\n",
              "          const docLink = document.createElement('div');\n",
              "          docLink.innerHTML = docLinkHtml;\n",
              "          element.appendChild(docLink);\n",
              "        }\n",
              "      </script>\n",
              "    </div>\n",
              "  </div>\n",
              "  "
            ]
          },
          "metadata": {},
          "execution_count": 43
        }
      ]
    },
    {
      "cell_type": "code",
      "source": [
        "m.score(X_val, y_val)"
      ],
      "metadata": {
        "colab": {
          "base_uri": "https://localhost:8080/"
        },
        "id": "YIOCzcbcwdSJ",
        "outputId": "b910ea51-ab10-4ec1-9375-996d536db857"
      },
      "execution_count": null,
      "outputs": [
        {
          "output_type": "stream",
          "name": "stderr",
          "text": [
            "/usr/local/lib/python3.7/dist-packages/sklearn/utils/validation.py:1692: FutureWarning: Feature names only support names that are all strings. Got feature names with dtypes: ['int', 'str']. An error will be raised in 1.2.\n",
            "  FutureWarning,\n"
          ]
        },
        {
          "output_type": "execute_result",
          "data": {
            "text/plain": [
              "0.86315"
            ]
          },
          "metadata": {},
          "execution_count": 28
        }
      ]
    },
    {
      "cell_type": "code",
      "source": [
        "pd.DataFrame(m.accuracy).head()"
      ],
      "metadata": {
        "colab": {
          "base_uri": "https://localhost:8080/",
          "height": 1000
        },
        "id": "qeQ8-S50ptqF",
        "outputId": "6ca6e61e-61ea-47fe-e502-4bf5a6e993af"
      },
      "execution_count": null,
      "outputs": [
        {
          "output_type": "execute_result",
          "data": {
            "text/plain": [
              "  (DecisionTreeClassifier(max_features='auto', random_state=1090449688), DecisionTreeClassifier(max_features='auto', random_state=1533477483), DecisionTreeClassifier(max_features='auto', random_state=765320332), DecisionTreeClassifier(max_features='auto', random_state=1371147489), DecisionTreeClassifier(max_features='auto', random_state=1756042758), DecisionTreeClassifier(max_features='auto', random_state=1401310737), DecisionTreeClassifier(max_features='auto', random_state=1124052573), DecisionTreeClassifier(max_features='auto', random_state=1515273250), DecisionTreeClassifier(max_features='auto', random_state=1279390989), DecisionTreeClassifier(max_features='auto', random_state=1783299282), DecisionTreeClassifier(max_features='auto', random_state=1737143472), DecisionTreeClassifier(max_features='auto', random_state=2121312711), DecisionTreeClassifier(max_features='auto', random_state=440587708), DecisionTreeClassifier(max_features='auto', random_state=40438340), DecisionTreeClassifier(max_features='auto', random_state=1209205934), DecisionTreeClassifier(max_features='auto', random_state=34641749), DecisionTreeClassifier(max_features='auto', random_state=1959556204), DecisionTreeClassifier(max_features='auto', random_state=1471187131), DecisionTreeClassifier(max_features='auto', random_state=1058061362), DecisionTreeClassifier(max_features='auto', random_state=727459185), DecisionTreeClassifier(max_features='auto', random_state=10674125), DecisionTreeClassifier(max_features='auto', random_state=1657433818), DecisionTreeClassifier(max_features='auto', random_state=766814899), DecisionTreeClassifier(max_features='auto', random_state=1248413419), DecisionTreeClassifier(max_features='auto', random_state=1626742259), DecisionTreeClassifier(max_features='auto', random_state=2115233630), DecisionTreeClassifier(max_features='auto', random_state=1561524226), DecisionTreeClassifier(max_features='auto', random_state=1441260437), DecisionTreeClassifier(max_features='auto', random_state=219261142), DecisionTreeClassifier(max_features='auto', random_state=1942473615), DecisionTreeClassifier(max_features='auto', random_state=529091109), DecisionTreeClassifier(max_features='auto', random_state=550189710), DecisionTreeClassifier(max_features='auto', random_state=559192002), DecisionTreeClassifier(max_features='auto', random_state=412912878), DecisionTreeClassifier(max_features='auto', random_state=1100460675), DecisionTreeClassifier(max_features='auto', random_state=447148799), DecisionTreeClassifier(max_features='auto', random_state=746317056), DecisionTreeClassifier(max_features='auto', random_state=1244793312), DecisionTreeClassifier(max_features='auto', random_state=695677628), DecisionTreeClassifier(max_features='auto', random_state=188054580), DecisionTreeClassifier(max_features='auto', random_state=671315807), DecisionTreeClassifier(max_features='auto', random_state=1155953589), DecisionTreeClassifier(max_features='auto', random_state=1798763838), DecisionTreeClassifier(max_features='auto', random_state=682829791), DecisionTreeClassifier(max_features='auto', random_state=1147355150), DecisionTreeClassifier(max_features='auto', random_state=1287695755), DecisionTreeClassifier(max_features='auto', random_state=1206687362), DecisionTreeClassifier(max_features='auto', random_state=1382273045), DecisionTreeClassifier(max_features='auto', random_state=347584490), DecisionTreeClassifier(max_features='auto', random_state=353034758), DecisionTreeClassifier(max_features='auto', random_state=1525768615), DecisionTreeClassifier(max_features='auto', random_state=1722942940), DecisionTreeClassifier(max_features='auto', random_state=66796090), DecisionTreeClassifier(max_features='auto', random_state=1804927968), DecisionTreeClassifier(max_features='auto', random_state=1551450538), DecisionTreeClassifier(max_features='auto', random_state=1090644349), DecisionTreeClassifier(max_features='auto', random_state=520183277), DecisionTreeClassifier(max_features='auto', random_state=422413637), DecisionTreeClassifier(max_features='auto', random_state=1123603721), DecisionTreeClassifier(max_features='auto', random_state=254219158), DecisionTreeClassifier(max_features='auto', random_state=2098177788), DecisionTreeClassifier(max_features='auto', random_state=258524847), DecisionTreeClassifier(max_features='auto', random_state=1420916659), DecisionTreeClassifier(max_features='auto', random_state=585266057), DecisionTreeClassifier(max_features='auto', random_state=1540044501), DecisionTreeClassifier(max_features='auto', random_state=1732762390), DecisionTreeClassifier(max_features='auto', random_state=2146790234), DecisionTreeClassifier(max_features='auto', random_state=1919121075), DecisionTreeClassifier(max_features='auto', random_state=1055621048), DecisionTreeClassifier(max_features='auto', random_state=723731738), DecisionTreeClassifier(max_features='auto', random_state=148716408), DecisionTreeClassifier(max_features='auto', random_state=1045380542), DecisionTreeClassifier(max_features='auto', random_state=1754999157), DecisionTreeClassifier(max_features='auto', random_state=2094815075), DecisionTreeClassifier(max_features='auto', random_state=1500524953), DecisionTreeClassifier(max_features='auto', random_state=1393970514), DecisionTreeClassifier(max_features='auto', random_state=959902885), DecisionTreeClassifier(max_features='auto', random_state=1805591251), DecisionTreeClassifier(max_features='auto', random_state=392188355), DecisionTreeClassifier(max_features='auto', random_state=1772969816), DecisionTreeClassifier(max_features='auto', random_state=1173672830), DecisionTreeClassifier(max_features='auto', random_state=388036297), DecisionTreeClassifier(max_features='auto', random_state=1608951179), DecisionTreeClassifier(max_features='auto', random_state=591304454), DecisionTreeClassifier(max_features='auto', random_state=1259693099), DecisionTreeClassifier(max_features='auto', random_state=2087189673), DecisionTreeClassifier(max_features='auto', random_state=718786708), DecisionTreeClassifier(max_features='auto', random_state=352977843), DecisionTreeClassifier(max_features='auto', random_state=1406107568), DecisionTreeClassifier(max_features='auto', random_state=1603542923), DecisionTreeClassifier(max_features='auto', random_state=817743034), DecisionTreeClassifier(max_features='auto', random_state=880715954), DecisionTreeClassifier(max_features='auto', random_state=170944606), DecisionTreeClassifier(max_features='auto', random_state=1446399360), DecisionTreeClassifier(max_features='auto', random_state=741853680), DecisionTreeClassifier(max_features='auto', random_state=1563551370), DecisionTreeClassifier(max_features='auto', random_state=2006609572), DecisionTreeClassifier(max_features='auto', random_state=1818816143), DecisionTreeClassifier(max_features='auto', random_state=275998413), DecisionTreeClassifier(max_features='auto', random_state=1689245580))  \\\n",
              "0                          [1.0, 0.8158055555555556]                                                                                                                                                                                                                                                                                                                                                                                                                                                                                                                                                                                                                                                                                                                                                                                                                                                                                                                                                                                                                                                                                                                                                                                                                                                                                                                                                                                                                                                                                                                                                                                                                                                                                                                                                                                                                                                                                                                                                                                                                                                                                                                                                                                                                                                                                                                                                                                                                                                                                                                                                                                                                                                                                                                                                                                                                                                                                                                                                                                                                                                                                                                                                                                                                                                                                                                                                                                                                                                                                                                                                                                                                                                                                                                                                                                                                                                                                                                                                                                                                                                                                                                                                                                                                                                                                                                                                                                                                                                                                                                                                                                                                                                                                                                                                                                                                                                                                                                                                                                                                                                                                                                                                                                                                                                                                                                                                                                                                                                                                                                                                                                                                                                                                                                                                                                                                                                                                                                                                                                                                                                                                                                                                                                                                                                                                                                                                                                                                                                                                                                                                                                                                                                                                                                                                                                                                                                                                                                                                                                                                                                                                                                                                                                              \n",
              "1                          [1.0, 0.8145833333333333]                                                                                                                                                                                                                                                                                                                                                                                                                                                                                                                                                                                                                                                                                                                                                                                                                                                                                                                                                                                                                                                                                                                                                                                                                                                                                                                                                                                                                                                                                                                                                                                                                                                                                                                                                                                                                                                                                                                                                                                                                                                                                                                                                                                                                                                                                                                                                                                                                                                                                                                                                                                                                                                                                                                                                                                                                                                                                                                                                                                                                                                                                                                                                                                                                                                                                                                                                                                                                                                                                                                                                                                                                                                                                                                                                                                                                                                                                                                                                                                                                                                                                                                                                                                                                                                                                                                                                                                                                                                                                                                                                                                                                                                                                                                                                                                                                                                                                                                                                                                                                                                                                                                                                                                                                                                                                                                                                                                                                                                                                                                                                                                                                                                                                                                                                                                                                                                                                                                                                                                                                                                                                                                                                                                                                                                                                                                                                                                                                                                                                                                                                                                                                                                                                                                                                                                                                                                                                                                                                                                                                                                                                                                                                                                              \n",
              "2                          [1.0, 0.8130833333333334]                                                                                                                                                                                                                                                                                                                                                                                                                                                                                                                                                                                                                                                                                                                                                                                                                                                                                                                                                                                                                                                                                                                                                                                                                                                                                                                                                                                                                                                                                                                                                                                                                                                                                                                                                                                                                                                                                                                                                                                                                                                                                                                                                                                                                                                                                                                                                                                                                                                                                                                                                                                                                                                                                                                                                                                                                                                                                                                                                                                                                                                                                                                                                                                                                                                                                                                                                                                                                                                                                                                                                                                                                                                                                                                                                                                                                                                                                                                                                                                                                                                                                                                                                                                                                                                                                                                                                                                                                                                                                                                                                                                                                                                                                                                                                                                                                                                                                                                                                                                                                                                                                                                                                                                                                                                                                                                                                                                                                                                                                                                                                                                                                                                                                                                                                                                                                                                                                                                                                                                                                                                                                                                                                                                                                                                                                                                                                                                                                                                                                                                                                                                                                                                                                                                                                                                                                                                                                                                                                                                                                                                                                                                                                                                              \n",
              "3                          [1.0, 0.8120416666666667]                                                                                                                                                                                                                                                                                                                                                                                                                                                                                                                                                                                                                                                                                                                                                                                                                                                                                                                                                                                                                                                                                                                                                                                                                                                                                                                                                                                                                                                                                                                                                                                                                                                                                                                                                                                                                                                                                                                                                                                                                                                                                                                                                                                                                                                                                                                                                                                                                                                                                                                                                                                                                                                                                                                                                                                                                                                                                                                                                                                                                                                                                                                                                                                                                                                                                                                                                                                                                                                                                                                                                                                                                                                                                                                                                                                                                                                                                                                                                                                                                                                                                                                                                                                                                                                                                                                                                                                                                                                                                                                                                                                                                                                                                                                                                                                                                                                                                                                                                                                                                                                                                                                                                                                                                                                                                                                                                                                                                                                                                                                                                                                                                                                                                                                                                                                                                                                                                                                                                                                                                                                                                                                                                                                                                                                                                                                                                                                                                                                                                                                                                                                                                                                                                                                                                                                                                                                                                                                                                                                                                                                                                                                                                                                              \n",
              "4                          [1.0, 0.8156944444444445]                                                                                                                                                                                                                                                                                                                                                                                                                                                                                                                                                                                                                                                                                                                                                                                                                                                                                                                                                                                                                                                                                                                                                                                                                                                                                                                                                                                                                                                                                                                                                                                                                                                                                                                                                                                                                                                                                                                                                                                                                                                                                                                                                                                                                                                                                                                                                                                                                                                                                                                                                                                                                                                                                                                                                                                                                                                                                                                                                                                                                                                                                                                                                                                                                                                                                                                                                                                                                                                                                                                                                                                                                                                                                                                                                                                                                                                                                                                                                                                                                                                                                                                                                                                                                                                                                                                                                                                                                                                                                                                                                                                                                                                                                                                                                                                                                                                                                                                                                                                                                                                                                                                                                                                                                                                                                                                                                                                                                                                                                                                                                                                                                                                                                                                                                                                                                                                                                                                                                                                                                                                                                                                                                                                                                                                                                                                                                                                                                                                                                                                                                                                                                                                                                                                                                                                                                                                                                                                                                                                                                                                                                                                                                                                              \n",
              "\n",
              "                            XGBClassifier()  \\\n",
              "0  [0.7409166666666667, 0.7386527777777778]   \n",
              "1  [0.7426006944444444, 0.7396527777777778]   \n",
              "2  [0.7399756944444444, 0.7356666666666667]   \n",
              "3  [0.7398958333333333, 0.7365694444444445]   \n",
              "4  [0.7374548611111111, 0.7349722222222222]   \n",
              "\n",
              "                               GaussianNB()  \n",
              "0  [0.6266319444444445, 0.6270277777777777]  \n",
              "1  [0.6264270833333333, 0.6286944444444444]  \n",
              "2  [0.6270069444444445, 0.6266944444444444]  \n",
              "3  [0.6265451388888889, 0.6257777777777778]  \n",
              "4           [0.6269375, 0.6240555555555556]  "
            ],
            "text/html": [
              "\n",
              "  <div id=\"df-28c70385-a4e9-4638-b1fa-2b96fe1b2b5d\">\n",
              "    <div class=\"colab-df-container\">\n",
              "      <div>\n",
              "<style scoped>\n",
              "    .dataframe tbody tr th:only-of-type {\n",
              "        vertical-align: middle;\n",
              "    }\n",
              "\n",
              "    .dataframe tbody tr th {\n",
              "        vertical-align: top;\n",
              "    }\n",
              "\n",
              "    .dataframe thead th {\n",
              "        text-align: right;\n",
              "    }\n",
              "</style>\n",
              "<table border=\"1\" class=\"dataframe\">\n",
              "  <thead>\n",
              "    <tr style=\"text-align: right;\">\n",
              "      <th></th>\n",
              "      <th>(DecisionTreeClassifier(max_features='auto', random_state=1090449688), DecisionTreeClassifier(max_features='auto', random_state=1533477483), DecisionTreeClassifier(max_features='auto', random_state=765320332), DecisionTreeClassifier(max_features='auto', random_state=1371147489), DecisionTreeClassifier(max_features='auto', random_state=1756042758), DecisionTreeClassifier(max_features='auto', random_state=1401310737), DecisionTreeClassifier(max_features='auto', random_state=1124052573), DecisionTreeClassifier(max_features='auto', random_state=1515273250), DecisionTreeClassifier(max_features='auto', random_state=1279390989), DecisionTreeClassifier(max_features='auto', random_state=1783299282), DecisionTreeClassifier(max_features='auto', random_state=1737143472), DecisionTreeClassifier(max_features='auto', random_state=2121312711), DecisionTreeClassifier(max_features='auto', random_state=440587708), DecisionTreeClassifier(max_features='auto', random_state=40438340), DecisionTreeClassifier(max_features='auto', random_state=1209205934), DecisionTreeClassifier(max_features='auto', random_state=34641749), DecisionTreeClassifier(max_features='auto', random_state=1959556204), DecisionTreeClassifier(max_features='auto', random_state=1471187131), DecisionTreeClassifier(max_features='auto', random_state=1058061362), DecisionTreeClassifier(max_features='auto', random_state=727459185), DecisionTreeClassifier(max_features='auto', random_state=10674125), DecisionTreeClassifier(max_features='auto', random_state=1657433818), DecisionTreeClassifier(max_features='auto', random_state=766814899), DecisionTreeClassifier(max_features='auto', random_state=1248413419), DecisionTreeClassifier(max_features='auto', random_state=1626742259), DecisionTreeClassifier(max_features='auto', random_state=2115233630), DecisionTreeClassifier(max_features='auto', random_state=1561524226), DecisionTreeClassifier(max_features='auto', random_state=1441260437), DecisionTreeClassifier(max_features='auto', random_state=219261142), DecisionTreeClassifier(max_features='auto', random_state=1942473615), DecisionTreeClassifier(max_features='auto', random_state=529091109), DecisionTreeClassifier(max_features='auto', random_state=550189710), DecisionTreeClassifier(max_features='auto', random_state=559192002), DecisionTreeClassifier(max_features='auto', random_state=412912878), DecisionTreeClassifier(max_features='auto', random_state=1100460675), DecisionTreeClassifier(max_features='auto', random_state=447148799), DecisionTreeClassifier(max_features='auto', random_state=746317056), DecisionTreeClassifier(max_features='auto', random_state=1244793312), DecisionTreeClassifier(max_features='auto', random_state=695677628), DecisionTreeClassifier(max_features='auto', random_state=188054580), DecisionTreeClassifier(max_features='auto', random_state=671315807), DecisionTreeClassifier(max_features='auto', random_state=1155953589), DecisionTreeClassifier(max_features='auto', random_state=1798763838), DecisionTreeClassifier(max_features='auto', random_state=682829791), DecisionTreeClassifier(max_features='auto', random_state=1147355150), DecisionTreeClassifier(max_features='auto', random_state=1287695755), DecisionTreeClassifier(max_features='auto', random_state=1206687362), DecisionTreeClassifier(max_features='auto', random_state=1382273045), DecisionTreeClassifier(max_features='auto', random_state=347584490), DecisionTreeClassifier(max_features='auto', random_state=353034758), DecisionTreeClassifier(max_features='auto', random_state=1525768615), DecisionTreeClassifier(max_features='auto', random_state=1722942940), DecisionTreeClassifier(max_features='auto', random_state=66796090), DecisionTreeClassifier(max_features='auto', random_state=1804927968), DecisionTreeClassifier(max_features='auto', random_state=1551450538), DecisionTreeClassifier(max_features='auto', random_state=1090644349), DecisionTreeClassifier(max_features='auto', random_state=520183277), DecisionTreeClassifier(max_features='auto', random_state=422413637), DecisionTreeClassifier(max_features='auto', random_state=1123603721), DecisionTreeClassifier(max_features='auto', random_state=254219158), DecisionTreeClassifier(max_features='auto', random_state=2098177788), DecisionTreeClassifier(max_features='auto', random_state=258524847), DecisionTreeClassifier(max_features='auto', random_state=1420916659), DecisionTreeClassifier(max_features='auto', random_state=585266057), DecisionTreeClassifier(max_features='auto', random_state=1540044501), DecisionTreeClassifier(max_features='auto', random_state=1732762390), DecisionTreeClassifier(max_features='auto', random_state=2146790234), DecisionTreeClassifier(max_features='auto', random_state=1919121075), DecisionTreeClassifier(max_features='auto', random_state=1055621048), DecisionTreeClassifier(max_features='auto', random_state=723731738), DecisionTreeClassifier(max_features='auto', random_state=148716408), DecisionTreeClassifier(max_features='auto', random_state=1045380542), DecisionTreeClassifier(max_features='auto', random_state=1754999157), DecisionTreeClassifier(max_features='auto', random_state=2094815075), DecisionTreeClassifier(max_features='auto', random_state=1500524953), DecisionTreeClassifier(max_features='auto', random_state=1393970514), DecisionTreeClassifier(max_features='auto', random_state=959902885), DecisionTreeClassifier(max_features='auto', random_state=1805591251), DecisionTreeClassifier(max_features='auto', random_state=392188355), DecisionTreeClassifier(max_features='auto', random_state=1772969816), DecisionTreeClassifier(max_features='auto', random_state=1173672830), DecisionTreeClassifier(max_features='auto', random_state=388036297), DecisionTreeClassifier(max_features='auto', random_state=1608951179), DecisionTreeClassifier(max_features='auto', random_state=591304454), DecisionTreeClassifier(max_features='auto', random_state=1259693099), DecisionTreeClassifier(max_features='auto', random_state=2087189673), DecisionTreeClassifier(max_features='auto', random_state=718786708), DecisionTreeClassifier(max_features='auto', random_state=352977843), DecisionTreeClassifier(max_features='auto', random_state=1406107568), DecisionTreeClassifier(max_features='auto', random_state=1603542923), DecisionTreeClassifier(max_features='auto', random_state=817743034), DecisionTreeClassifier(max_features='auto', random_state=880715954), DecisionTreeClassifier(max_features='auto', random_state=170944606), DecisionTreeClassifier(max_features='auto', random_state=1446399360), DecisionTreeClassifier(max_features='auto', random_state=741853680), DecisionTreeClassifier(max_features='auto', random_state=1563551370), DecisionTreeClassifier(max_features='auto', random_state=2006609572), DecisionTreeClassifier(max_features='auto', random_state=1818816143), DecisionTreeClassifier(max_features='auto', random_state=275998413), DecisionTreeClassifier(max_features='auto', random_state=1689245580))</th>\n",
              "      <th>XGBClassifier()</th>\n",
              "      <th>GaussianNB()</th>\n",
              "    </tr>\n",
              "  </thead>\n",
              "  <tbody>\n",
              "    <tr>\n",
              "      <th>0</th>\n",
              "      <td>[1.0, 0.8158055555555556]</td>\n",
              "      <td>[0.7409166666666667, 0.7386527777777778]</td>\n",
              "      <td>[0.6266319444444445, 0.6270277777777777]</td>\n",
              "    </tr>\n",
              "    <tr>\n",
              "      <th>1</th>\n",
              "      <td>[1.0, 0.8145833333333333]</td>\n",
              "      <td>[0.7426006944444444, 0.7396527777777778]</td>\n",
              "      <td>[0.6264270833333333, 0.6286944444444444]</td>\n",
              "    </tr>\n",
              "    <tr>\n",
              "      <th>2</th>\n",
              "      <td>[1.0, 0.8130833333333334]</td>\n",
              "      <td>[0.7399756944444444, 0.7356666666666667]</td>\n",
              "      <td>[0.6270069444444445, 0.6266944444444444]</td>\n",
              "    </tr>\n",
              "    <tr>\n",
              "      <th>3</th>\n",
              "      <td>[1.0, 0.8120416666666667]</td>\n",
              "      <td>[0.7398958333333333, 0.7365694444444445]</td>\n",
              "      <td>[0.6265451388888889, 0.6257777777777778]</td>\n",
              "    </tr>\n",
              "    <tr>\n",
              "      <th>4</th>\n",
              "      <td>[1.0, 0.8156944444444445]</td>\n",
              "      <td>[0.7374548611111111, 0.7349722222222222]</td>\n",
              "      <td>[0.6269375, 0.6240555555555556]</td>\n",
              "    </tr>\n",
              "  </tbody>\n",
              "</table>\n",
              "</div>\n",
              "      <button class=\"colab-df-convert\" onclick=\"convertToInteractive('df-28c70385-a4e9-4638-b1fa-2b96fe1b2b5d')\"\n",
              "              title=\"Convert this dataframe to an interactive table.\"\n",
              "              style=\"display:none;\">\n",
              "        \n",
              "  <svg xmlns=\"http://www.w3.org/2000/svg\" height=\"24px\"viewBox=\"0 0 24 24\"\n",
              "       width=\"24px\">\n",
              "    <path d=\"M0 0h24v24H0V0z\" fill=\"none\"/>\n",
              "    <path d=\"M18.56 5.44l.94 2.06.94-2.06 2.06-.94-2.06-.94-.94-2.06-.94 2.06-2.06.94zm-11 1L8.5 8.5l.94-2.06 2.06-.94-2.06-.94L8.5 2.5l-.94 2.06-2.06.94zm10 10l.94 2.06.94-2.06 2.06-.94-2.06-.94-.94-2.06-.94 2.06-2.06.94z\"/><path d=\"M17.41 7.96l-1.37-1.37c-.4-.4-.92-.59-1.43-.59-.52 0-1.04.2-1.43.59L10.3 9.45l-7.72 7.72c-.78.78-.78 2.05 0 2.83L4 21.41c.39.39.9.59 1.41.59.51 0 1.02-.2 1.41-.59l7.78-7.78 2.81-2.81c.8-.78.8-2.07 0-2.86zM5.41 20L4 18.59l7.72-7.72 1.47 1.35L5.41 20z\"/>\n",
              "  </svg>\n",
              "      </button>\n",
              "      \n",
              "  <style>\n",
              "    .colab-df-container {\n",
              "      display:flex;\n",
              "      flex-wrap:wrap;\n",
              "      gap: 12px;\n",
              "    }\n",
              "\n",
              "    .colab-df-convert {\n",
              "      background-color: #E8F0FE;\n",
              "      border: none;\n",
              "      border-radius: 50%;\n",
              "      cursor: pointer;\n",
              "      display: none;\n",
              "      fill: #1967D2;\n",
              "      height: 32px;\n",
              "      padding: 0 0 0 0;\n",
              "      width: 32px;\n",
              "    }\n",
              "\n",
              "    .colab-df-convert:hover {\n",
              "      background-color: #E2EBFA;\n",
              "      box-shadow: 0px 1px 2px rgba(60, 64, 67, 0.3), 0px 1px 3px 1px rgba(60, 64, 67, 0.15);\n",
              "      fill: #174EA6;\n",
              "    }\n",
              "\n",
              "    [theme=dark] .colab-df-convert {\n",
              "      background-color: #3B4455;\n",
              "      fill: #D2E3FC;\n",
              "    }\n",
              "\n",
              "    [theme=dark] .colab-df-convert:hover {\n",
              "      background-color: #434B5C;\n",
              "      box-shadow: 0px 1px 3px 1px rgba(0, 0, 0, 0.15);\n",
              "      filter: drop-shadow(0px 1px 2px rgba(0, 0, 0, 0.3));\n",
              "      fill: #FFFFFF;\n",
              "    }\n",
              "  </style>\n",
              "\n",
              "      <script>\n",
              "        const buttonEl =\n",
              "          document.querySelector('#df-28c70385-a4e9-4638-b1fa-2b96fe1b2b5d button.colab-df-convert');\n",
              "        buttonEl.style.display =\n",
              "          google.colab.kernel.accessAllowed ? 'block' : 'none';\n",
              "\n",
              "        async function convertToInteractive(key) {\n",
              "          const element = document.querySelector('#df-28c70385-a4e9-4638-b1fa-2b96fe1b2b5d');\n",
              "          const dataTable =\n",
              "            await google.colab.kernel.invokeFunction('convertToInteractive',\n",
              "                                                     [key], {});\n",
              "          if (!dataTable) return;\n",
              "\n",
              "          const docLinkHtml = 'Like what you see? Visit the ' +\n",
              "            '<a target=\"_blank\" href=https://colab.research.google.com/notebooks/data_table.ipynb>data table notebook</a>'\n",
              "            + ' to learn more about interactive tables.';\n",
              "          element.innerHTML = '';\n",
              "          dataTable['output_type'] = 'display_data';\n",
              "          await google.colab.output.renderOutput(dataTable, element);\n",
              "          const docLink = document.createElement('div');\n",
              "          docLink.innerHTML = docLinkHtml;\n",
              "          element.appendChild(docLink);\n",
              "        }\n",
              "      </script>\n",
              "    </div>\n",
              "  </div>\n",
              "  "
            ]
          },
          "metadata": {},
          "execution_count": 27
        }
      ]
    },
    {
      "cell_type": "code",
      "source": [
        ""
      ],
      "metadata": {
        "id": "SWCAeZ0hrBPn"
      },
      "execution_count": null,
      "outputs": []
    }
  ],
  "metadata": {
    "colab": {
      "name": "Tabular Playground Competition(Google).ipynb",
      "provenance": [],
      "collapsed_sections": [
        "jDO1h2R-iDee",
        "6I9TFHt1BBYC",
        "c3t65B6RZBhw",
        "gihqhEOhftTU",
        "nC9AXI_ohLgM",
        "ZAkvmg-Uois2"
      ],
      "mount_file_id": "15KeYORkzSAwUVHAgWOjdjvjlBvTGbXuY",
      "authorship_tag": "ABX9TyNfJkRpWJft326GIZN3YcY0",
      "include_colab_link": true
    },
    "kernelspec": {
      "display_name": "Python 3",
      "name": "python3"
    },
    "language_info": {
      "name": "python"
    }
  },
  "nbformat": 4,
  "nbformat_minor": 0
}